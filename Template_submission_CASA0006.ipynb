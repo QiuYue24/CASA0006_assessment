{
  "cells": [
    {
      "cell_type": "markdown",
      "metadata": {
        "id": "view-in-github",
        "colab_type": "text"
      },
      "source": [
        "<a href=\"https://colab.research.google.com/github/QiuYue24/CASA0006_assessment/blob/main/Template_submission_CASA0006.ipynb\" target=\"_parent\"><img src=\"https://colab.research.google.com/assets/colab-badge.svg\" alt=\"Open In Colab\"/></a>"
      ]
    },
    {
      "cell_type": "markdown",
      "metadata": {
        "id": "TiQAjhacBg0L"
      },
      "source": [
        "# [Title]"
      ]
    },
    {
      "cell_type": "markdown",
      "metadata": {
        "id": "cajLUJ5ZBg0N"
      },
      "source": [
        "## Preparation\n",
        "\n",
        "- [Github link](https://github.com/QiuYue24/CASA0006_assessment.git)\n",
        "\n",
        "- Number of words: 1459\n",
        "\n",
        "- Runtime: *** hours (*Memory 10 GB, CPU Intel i7-10700 CPU @2.20GHz*)\n",
        "\n",
        "- Coding environment: Google Colab\n",
        "\n",
        "- License: this notebook is made available under the [Creative Commons Attribution license](https://creativecommons.org/licenses/by/4.0/)"
      ]
    },
    {
      "cell_type": "markdown",
      "metadata": {
        "id": "klzouy_HBg0N"
      },
      "source": [
        "## Table of contents\n",
        "\n",
        "1. [Introduction](#Introduction)\n",
        "\n",
        "1. [Research questions](#Research-questions)\n",
        "\n",
        "1. [Data](#Data)\n",
        "\n",
        "1. [Methodology](#Methodology)\n",
        "\n",
        "1. [Results and discussion](#Results-and-discussion)\n",
        "\n",
        "1. [Conclusion](#Conclusion)\n",
        "\n",
        "1. [References](#References)"
      ]
    },
    {
      "cell_type": "markdown",
      "metadata": {
        "id": "gAZMAz5FBg0N"
      },
      "source": [
        "## Introduction\n",
        "\n",
        "[[ go back to the top ]](#Table-of-contents)"
      ]
    },
    {
      "cell_type": "markdown",
      "source": [
        "Childhood obesity has become a growing public health problem, and there is growing evidence that socioeconomic and environmental factors play a crucial role in its spatial distribution. Building on recent research using spatial modelling techniques to analyse the impact of the social environment on health outcomes (Chalkias et al., 2013; Sun et al., 2020), this study wanted to explore the relationship between the prevalence of childhood obesity and socio-environmental characteristics in London boroughs, which can be utilised using Geographic Information System (GIS) data. In addition to environmental factors, socio-economic factors have also been associated with the prevalence of childhood obesity (Sun et al., 2020), and the present study refers to a similar methodology used in spatial studies related to obesity (Jia et al., 2017) in order to incorporate factors such as deprivation, ethnicity, availability of green space and fast food density. The main model used in this paper, Ordinary Least Squares (OLS) models, which are widely used to test associations between variables, inform targeted local interventions to prevent childhood obesity by identifying key socio-economic as well as environmental determinants."
      ],
      "metadata": {
        "id": "MyC85KkYf6Ax"
      }
    },
    {
      "cell_type": "markdown",
      "metadata": {
        "id": "iyRAkYWNBg0O"
      },
      "source": [
        "## Research questions\n",
        "\n",
        "[[ go back to the top ]](#Table-of-contents)"
      ]
    },
    {
      "cell_type": "markdown",
      "source": [
        "What socio-economic and environmental factors significantly influence the prevalence of childhood obesity among Year 6 students in London boroughs, and how can their impacts be quantified through statistical modeling?"
      ],
      "metadata": {
        "id": "qJdf9A_5NxhU"
      }
    },
    {
      "cell_type": "markdown",
      "metadata": {
        "id": "oC_5CXVdBg0O"
      },
      "source": [
        "## Data\n",
        "\n",
        "[[ go back to the top ]](#Table-of-contents)"
      ]
    },
    {
      "cell_type": "code",
      "source": [
        "# Install Necessary Packages\n",
        "!pip install pandas numpy geopandas matplotlib seaborn scipy statsmodels scikit-learn esda libpysal splot"
      ],
      "metadata": {
        "id": "wgV5YbIbMyi-",
        "collapsed": true,
        "colab": {
          "base_uri": "https://localhost:8080/",
          "height": 0
        },
        "outputId": "2aac8ffa-ed2e-4279-c614-079ee90cd9e0"
      },
      "execution_count": 3,
      "outputs": [
        {
          "output_type": "stream",
          "name": "stdout",
          "text": [
            "Requirement already satisfied: pandas in /usr/local/lib/python3.11/dist-packages (2.2.2)\n",
            "Requirement already satisfied: numpy in /usr/local/lib/python3.11/dist-packages (2.0.2)\n",
            "Requirement already satisfied: geopandas in /usr/local/lib/python3.11/dist-packages (1.0.1)\n",
            "Requirement already satisfied: matplotlib in /usr/local/lib/python3.11/dist-packages (3.10.0)\n",
            "Requirement already satisfied: seaborn in /usr/local/lib/python3.11/dist-packages (0.13.2)\n",
            "Requirement already satisfied: scipy in /usr/local/lib/python3.11/dist-packages (1.14.1)\n",
            "Requirement already satisfied: statsmodels in /usr/local/lib/python3.11/dist-packages (0.14.4)\n",
            "Requirement already satisfied: scikit-learn in /usr/local/lib/python3.11/dist-packages (1.6.1)\n",
            "Collecting esda\n",
            "  Downloading esda-2.7.0-py3-none-any.whl.metadata (2.0 kB)\n",
            "Collecting libpysal\n",
            "  Downloading libpysal-4.13.0-py3-none-any.whl.metadata (4.8 kB)\n",
            "Collecting splot\n",
            "  Downloading splot-1.1.7-py3-none-any.whl.metadata (8.9 kB)\n",
            "Requirement already satisfied: python-dateutil>=2.8.2 in /usr/local/lib/python3.11/dist-packages (from pandas) (2.8.2)\n",
            "Requirement already satisfied: pytz>=2020.1 in /usr/local/lib/python3.11/dist-packages (from pandas) (2025.2)\n",
            "Requirement already satisfied: tzdata>=2022.7 in /usr/local/lib/python3.11/dist-packages (from pandas) (2025.2)\n",
            "Requirement already satisfied: pyogrio>=0.7.2 in /usr/local/lib/python3.11/dist-packages (from geopandas) (0.10.0)\n",
            "Requirement already satisfied: packaging in /usr/local/lib/python3.11/dist-packages (from geopandas) (24.2)\n",
            "Requirement already satisfied: pyproj>=3.3.0 in /usr/local/lib/python3.11/dist-packages (from geopandas) (3.7.1)\n",
            "Requirement already satisfied: shapely>=2.0.0 in /usr/local/lib/python3.11/dist-packages (from geopandas) (2.1.0)\n",
            "Requirement already satisfied: contourpy>=1.0.1 in /usr/local/lib/python3.11/dist-packages (from matplotlib) (1.3.2)\n",
            "Requirement already satisfied: cycler>=0.10 in /usr/local/lib/python3.11/dist-packages (from matplotlib) (0.12.1)\n",
            "Requirement already satisfied: fonttools>=4.22.0 in /usr/local/lib/python3.11/dist-packages (from matplotlib) (4.57.0)\n",
            "Requirement already satisfied: kiwisolver>=1.3.1 in /usr/local/lib/python3.11/dist-packages (from matplotlib) (1.4.8)\n",
            "Requirement already satisfied: pillow>=8 in /usr/local/lib/python3.11/dist-packages (from matplotlib) (11.1.0)\n",
            "Requirement already satisfied: pyparsing>=2.3.1 in /usr/local/lib/python3.11/dist-packages (from matplotlib) (3.2.3)\n",
            "Requirement already satisfied: patsy>=0.5.6 in /usr/local/lib/python3.11/dist-packages (from statsmodels) (1.0.1)\n",
            "Requirement already satisfied: joblib>=1.2.0 in /usr/local/lib/python3.11/dist-packages (from scikit-learn) (1.4.2)\n",
            "Requirement already satisfied: threadpoolctl>=3.1.0 in /usr/local/lib/python3.11/dist-packages (from scikit-learn) (3.6.0)\n",
            "Requirement already satisfied: beautifulsoup4>=4.10 in /usr/local/lib/python3.11/dist-packages (from libpysal) (4.13.4)\n",
            "Requirement already satisfied: platformdirs>=2.0.2 in /usr/local/lib/python3.11/dist-packages (from libpysal) (4.3.7)\n",
            "Requirement already satisfied: requests>=2.27 in /usr/local/lib/python3.11/dist-packages (from libpysal) (2.32.3)\n",
            "Collecting giddy (from splot)\n",
            "  Downloading giddy-2.3.6-py3-none-any.whl.metadata (6.3 kB)\n",
            "Collecting mapclassify (from splot)\n",
            "  Downloading mapclassify-2.8.1-py3-none-any.whl.metadata (2.8 kB)\n",
            "Collecting spreg (from splot)\n",
            "  Downloading spreg-1.8.2-py3-none-any.whl.metadata (1.7 kB)\n",
            "Requirement already satisfied: soupsieve>1.2 in /usr/local/lib/python3.11/dist-packages (from beautifulsoup4>=4.10->libpysal) (2.7)\n",
            "Requirement already satisfied: typing-extensions>=4.0.0 in /usr/local/lib/python3.11/dist-packages (from beautifulsoup4>=4.10->libpysal) (4.13.2)\n",
            "Requirement already satisfied: certifi in /usr/local/lib/python3.11/dist-packages (from pyogrio>=0.7.2->geopandas) (2025.1.31)\n",
            "Requirement already satisfied: six>=1.5 in /usr/local/lib/python3.11/dist-packages (from python-dateutil>=2.8.2->pandas) (1.17.0)\n",
            "Requirement already satisfied: charset-normalizer<4,>=2 in /usr/local/lib/python3.11/dist-packages (from requests>=2.27->libpysal) (3.4.1)\n",
            "Requirement already satisfied: idna<4,>=2.5 in /usr/local/lib/python3.11/dist-packages (from requests>=2.27->libpysal) (3.10)\n",
            "Requirement already satisfied: urllib3<3,>=1.21.1 in /usr/local/lib/python3.11/dist-packages (from requests>=2.27->libpysal) (2.3.0)\n",
            "Collecting quantecon>=0.7 (from giddy->splot)\n",
            "  Downloading quantecon-0.8.0-py3-none-any.whl.metadata (5.2 kB)\n",
            "Requirement already satisfied: networkx>=2.7 in /usr/local/lib/python3.11/dist-packages (from mapclassify->splot) (3.4.2)\n",
            "Requirement already satisfied: numba>=0.49.0 in /usr/local/lib/python3.11/dist-packages (from quantecon>=0.7->giddy->splot) (0.60.0)\n",
            "Requirement already satisfied: sympy in /usr/local/lib/python3.11/dist-packages (from quantecon>=0.7->giddy->splot) (1.13.1)\n",
            "Requirement already satisfied: llvmlite<0.44,>=0.43.0dev0 in /usr/local/lib/python3.11/dist-packages (from numba>=0.49.0->quantecon>=0.7->giddy->splot) (0.43.0)\n",
            "Requirement already satisfied: mpmath<1.4,>=1.1.0 in /usr/local/lib/python3.11/dist-packages (from sympy->quantecon>=0.7->giddy->splot) (1.3.0)\n",
            "Downloading esda-2.7.0-py3-none-any.whl (142 kB)\n",
            "\u001b[2K   \u001b[90m━━━━━━━━━━━━━━━━━━━━━━━━━━━━━━━━━━━━━━━━\u001b[0m \u001b[32m142.8/142.8 kB\u001b[0m \u001b[31m9.0 MB/s\u001b[0m eta \u001b[36m0:00:00\u001b[0m\n",
            "\u001b[?25hDownloading libpysal-4.13.0-py3-none-any.whl (2.8 MB)\n",
            "\u001b[2K   \u001b[90m━━━━━━━━━━━━━━━━━━━━━━━━━━━━━━━━━━━━━━━━\u001b[0m \u001b[32m2.8/2.8 MB\u001b[0m \u001b[31m76.8 MB/s\u001b[0m eta \u001b[36m0:00:00\u001b[0m\n",
            "\u001b[?25hDownloading splot-1.1.7-py3-none-any.whl (39 kB)\n",
            "Downloading giddy-2.3.6-py3-none-any.whl (61 kB)\n",
            "\u001b[2K   \u001b[90m━━━━━━━━━━━━━━━━━━━━━━━━━━━━━━━━━━━━━━━━\u001b[0m \u001b[32m61.3/61.3 kB\u001b[0m \u001b[31m5.9 MB/s\u001b[0m eta \u001b[36m0:00:00\u001b[0m\n",
            "\u001b[?25hDownloading mapclassify-2.8.1-py3-none-any.whl (59 kB)\n",
            "\u001b[2K   \u001b[90m━━━━━━━━━━━━━━━━━━━━━━━━━━━━━━━━━━━━━━━━\u001b[0m \u001b[32m59.1/59.1 kB\u001b[0m \u001b[31m4.9 MB/s\u001b[0m eta \u001b[36m0:00:00\u001b[0m\n",
            "\u001b[?25hDownloading spreg-1.8.2-py3-none-any.whl (388 kB)\n",
            "\u001b[2K   \u001b[90m━━━━━━━━━━━━━━━━━━━━━━━━━━━━━━━━━━━━━━━━\u001b[0m \u001b[32m388.2/388.2 kB\u001b[0m \u001b[31m27.8 MB/s\u001b[0m eta \u001b[36m0:00:00\u001b[0m\n",
            "\u001b[?25hDownloading quantecon-0.8.0-py3-none-any.whl (322 kB)\n",
            "\u001b[2K   \u001b[90m━━━━━━━━━━━━━━━━━━━━━━━━━━━━━━━━━━━━━━━━\u001b[0m \u001b[32m322.7/322.7 kB\u001b[0m \u001b[31m25.0 MB/s\u001b[0m eta \u001b[36m0:00:00\u001b[0m\n",
            "\u001b[?25hInstalling collected packages: quantecon, mapclassify, libpysal, spreg, esda, giddy, splot\n",
            "Successfully installed esda-2.7.0 giddy-2.3.6 libpysal-4.13.0 mapclassify-2.8.1 quantecon-0.8.0 splot-1.1.7 spreg-1.8.2\n"
          ]
        }
      ]
    },
    {
      "cell_type": "code",
      "source": [
        "# Basic packages\n",
        "import pandas as pd\n",
        "import numpy as np\n",
        "import os\n",
        "import warnings\n",
        "\n",
        "# Visualization packages\n",
        "import matplotlib.pyplot as plt\n",
        "import seaborn as sns\n",
        "\n",
        "# Linear regression analysis\n",
        "import statsmodels.api as sm\n",
        "from statsmodels.stats.outliers_influence import variance_inflation_factor\n",
        "from scipy import stats\n",
        "\n",
        "# Ridge regression and model evaluation\n",
        "from sklearn.preprocessing import StandardScaler\n",
        "from sklearn.linear_model import Ridge, RidgeCV\n",
        "\n",
        "# Random Forest and machine learning utilities\n",
        "from sklearn.ensemble import RandomForestRegressor\n",
        "from sklearn.model_selection import cross_val_score\n",
        "from sklearn.metrics import r2_score, mean_squared_error, mean_absolute_error\n",
        "from sklearn.inspection import permutation_importance, PartialDependenceDisplay\n",
        "\n",
        "# Spatial autocorrelation analysis\n",
        "import geopandas as gpd\n",
        "from libpysal.weights import Queen\n",
        "from esda.moran import Moran\n",
        "from splot.esda import moran_scatterplot\n"
      ],
      "metadata": {
        "id": "cWlnupjxo1Yb"
      },
      "execution_count": 4,
      "outputs": []
    },
    {
      "cell_type": "code",
      "source": [
        "import time\n",
        "start_time = time.time()"
      ],
      "metadata": {
        "id": "TisV2ROQ-lKr"
      },
      "execution_count": 5,
      "outputs": []
    },
    {
      "cell_type": "markdown",
      "metadata": {
        "id": "4CA_1nq8Bg0P"
      },
      "source": [
        "### Presentation of Data and Data preprocessing"
      ]
    },
    {
      "cell_type": "markdown",
      "metadata": {
        "id": "lXsyBrDRBg0P"
      },
      "source": [
        "In this study, official data on childhood obesity rates in London boroughs was utilized, focusing on Year 6 students as the target group. Based on existing literature, 3 socio-economic factors and 3 environmental factors were selected for analysis, with 2019 as the primary year of focus. The dependent and independent variables, along with their data sources, are summarized in Table 1."
      ]
    },
    {
      "cell_type": "markdown",
      "source": [
        "Table 1 that describes the selected variables"
      ],
      "metadata": {
        "id": "Lp1yosqkFteB"
      }
    },
    {
      "cell_type": "markdown",
      "source": [
        "| Variable | Type | Description | Notes | Data Source |\n",
        "|:---|:---|:---|:---|:---|\n",
        "| Year6_Obesity_Prevalence_2018-19 | Numeric | Childhood obesity prevalence (%) for Year 6 students in 2018-19 | Dependent variable | [Department of Health](https://data.london.gov.uk/dataset/prevalence-childhood-obesity-borough) |\n",
        "| IMD_Avg_Score | Numeric | Average deprivation score based on IMD | Independent variable (socio-economic factor) | [Indices of Deprivation](https://data.london.gov.uk/dataset/indices-of-deprivation) |\n",
        "| non_working_proportion | Numeric | Proportion of households with no working adults with dependent children | Independent variable (socio-economic factor) | [Nomis](https://www.nomisweb.co.uk/query/construct/summary.asp?reset=yes&mode=construct&dataset=136&version=0&anal=1) |\n",
        "| non_white_proportion | Numeric | Proportion of non-white population in each borough | Independent variable (socio-economic factor) | [Census 2021](https://www.ons.gov.uk/peoplepopulationandcommunity/populationandmigration/populationestimates/datasets/populationandhouseholdestimatesenglandandwalescensus2021) |\n",
        "| Fast_Food_Density | Numeric | Fast food outlet density per km² in each borough | Independent variable (environmental factor) | [Geofabrik UK (OpenStreetMap shapefile)](https://download.geofabrik.de/europe/united-kingdom/england/greater-london.html) |\n",
        "| percent_green | Numeric | Percentage of green land cover within each borough | Independent variable (environmental factor) | [London Green and Blue Cover](https://data.london.gov.uk/dataset/green-and-blue-cover) |\n",
        "| population_density_ha | Numeric | Population density per hectare | Independent variable (environmental factor) | [ONS Population Estimates](https://www.ons.gov.uk/peoplepopulationandcommunity/populationandmigration/populationestimates/datasets/estimatesofthepopulationforenglandandwales) |\n"
      ],
      "metadata": {
        "id": "FWjR6I6P4PR-"
      }
    },
    {
      "cell_type": "markdown",
      "source": [
        "Firstly a brief look at the main datasets used for childhood obesity rates."
      ],
      "metadata": {
        "id": "nHC-7ItZufTH"
      }
    },
    {
      "cell_type": "code",
      "execution_count": 6,
      "metadata": {
        "colab": {
          "base_uri": "https://localhost:8080/",
          "height": 325
        },
        "id": "7DXnCM75Bg0P",
        "outputId": "04cf7dae-acfe-46be-80f5-0aaf1a8eb270"
      },
      "outputs": [
        {
          "output_type": "execute_result",
          "data": {
            "text/plain": [
              "    ONS Code                  Area  Prevalence (%)  lower confidence interval  \\\n",
              "0        NaN                   NaN             NaN                        NaN   \n",
              "1  E09000002  Barking and Dagenham        1.774970                   1.378583   \n",
              "2  E09000003                Barnet        1.712329                   1.357590   \n",
              "3  E09000004                Bexley        0.708741                   0.464034   \n",
              "4  E09000005                 Brent        2.559775                   2.089586   \n",
              "\n",
              "   upper confidence interval  Prevalence (%).1  lower confidence interval.1  \\\n",
              "0                        NaN               NaN                          NaN   \n",
              "1                   2.282693          1.304726                     0.976543   \n",
              "2                   2.157733          1.289852                     0.987511   \n",
              "3                   1.081093          1.074929                     0.770254   \n",
              "4                   3.132380          2.087852                     1.673814   \n",
              "\n",
              "   upper confidence interval.1  Prevalence (%).2  lower confidence interval.2  \\\n",
              "0                          NaN               NaN                          NaN   \n",
              "1                     1.741261         73.194946                    71.663005   \n",
              "2                     1.683184         79.207436                    77.936271   \n",
              "3                     1.498298         76.712791                    75.156935   \n",
              "4                     2.601599         71.476793                    69.969971   \n",
              "\n",
              "   ...  lower confidence interval.7  upper confidence interval.7  \\\n",
              "0  ...                          NaN                          NaN   \n",
              "1  ...                    27.960003                    31.001333   \n",
              "2  ...                    18.833741                    21.280653   \n",
              "3  ...                    21.551562                    24.482996   \n",
              "4  ...                    24.613034                    27.443412   \n",
              "\n",
              "   Prevalence (%).8  lower confidence interval.8  upper confidence interval.8  \\\n",
              "0               NaN                          NaN                          NaN   \n",
              "1          4.452467                     3.802302                     5.207786   \n",
              "2          1.883562                     1.509758                     2.347709   \n",
              "3          2.902464                     2.356304                     3.570587   \n",
              "4          3.881857                     3.295064                     4.568210   \n",
              "\n",
              "   Prevalence (%).9  lower confidence interval.9  upper confidence interval.9  \\\n",
              "0               NaN                          NaN                          NaN   \n",
              "1          8.031313                     7.170293                     8.985718   \n",
              "2          4.404965                     3.818965                     5.076138   \n",
              "3          5.216567                     4.494537                     6.047243   \n",
              "4          6.046638                     5.322167                     6.862578   \n",
              "\n",
              "   Reception  Year 6  \n",
              "0        NaN     NaN  \n",
              "1     3324.0  3449.0  \n",
              "2     4088.0  4109.0  \n",
              "3     2963.0  3163.0  \n",
              "4     3555.0  3688.0  \n",
              "\n",
              "[5 rows x 34 columns]"
            ],
            "text/html": [
              "\n",
              "  <div id=\"df-fe5bc1c0-c289-4e1e-aedd-9770a4e30f23\" class=\"colab-df-container\">\n",
              "    <div>\n",
              "<style scoped>\n",
              "    .dataframe tbody tr th:only-of-type {\n",
              "        vertical-align: middle;\n",
              "    }\n",
              "\n",
              "    .dataframe tbody tr th {\n",
              "        vertical-align: top;\n",
              "    }\n",
              "\n",
              "    .dataframe thead th {\n",
              "        text-align: right;\n",
              "    }\n",
              "</style>\n",
              "<table border=\"1\" class=\"dataframe\">\n",
              "  <thead>\n",
              "    <tr style=\"text-align: right;\">\n",
              "      <th></th>\n",
              "      <th>ONS Code</th>\n",
              "      <th>Area</th>\n",
              "      <th>Prevalence (%)</th>\n",
              "      <th>lower confidence interval</th>\n",
              "      <th>upper confidence interval</th>\n",
              "      <th>Prevalence (%).1</th>\n",
              "      <th>lower confidence interval.1</th>\n",
              "      <th>upper confidence interval.1</th>\n",
              "      <th>Prevalence (%).2</th>\n",
              "      <th>lower confidence interval.2</th>\n",
              "      <th>...</th>\n",
              "      <th>lower confidence interval.7</th>\n",
              "      <th>upper confidence interval.7</th>\n",
              "      <th>Prevalence (%).8</th>\n",
              "      <th>lower confidence interval.8</th>\n",
              "      <th>upper confidence interval.8</th>\n",
              "      <th>Prevalence (%).9</th>\n",
              "      <th>lower confidence interval.9</th>\n",
              "      <th>upper confidence interval.9</th>\n",
              "      <th>Reception</th>\n",
              "      <th>Year 6</th>\n",
              "    </tr>\n",
              "  </thead>\n",
              "  <tbody>\n",
              "    <tr>\n",
              "      <th>0</th>\n",
              "      <td>NaN</td>\n",
              "      <td>NaN</td>\n",
              "      <td>NaN</td>\n",
              "      <td>NaN</td>\n",
              "      <td>NaN</td>\n",
              "      <td>NaN</td>\n",
              "      <td>NaN</td>\n",
              "      <td>NaN</td>\n",
              "      <td>NaN</td>\n",
              "      <td>NaN</td>\n",
              "      <td>...</td>\n",
              "      <td>NaN</td>\n",
              "      <td>NaN</td>\n",
              "      <td>NaN</td>\n",
              "      <td>NaN</td>\n",
              "      <td>NaN</td>\n",
              "      <td>NaN</td>\n",
              "      <td>NaN</td>\n",
              "      <td>NaN</td>\n",
              "      <td>NaN</td>\n",
              "      <td>NaN</td>\n",
              "    </tr>\n",
              "    <tr>\n",
              "      <th>1</th>\n",
              "      <td>E09000002</td>\n",
              "      <td>Barking and Dagenham</td>\n",
              "      <td>1.774970</td>\n",
              "      <td>1.378583</td>\n",
              "      <td>2.282693</td>\n",
              "      <td>1.304726</td>\n",
              "      <td>0.976543</td>\n",
              "      <td>1.741261</td>\n",
              "      <td>73.194946</td>\n",
              "      <td>71.663005</td>\n",
              "      <td>...</td>\n",
              "      <td>27.960003</td>\n",
              "      <td>31.001333</td>\n",
              "      <td>4.452467</td>\n",
              "      <td>3.802302</td>\n",
              "      <td>5.207786</td>\n",
              "      <td>8.031313</td>\n",
              "      <td>7.170293</td>\n",
              "      <td>8.985718</td>\n",
              "      <td>3324.0</td>\n",
              "      <td>3449.0</td>\n",
              "    </tr>\n",
              "    <tr>\n",
              "      <th>2</th>\n",
              "      <td>E09000003</td>\n",
              "      <td>Barnet</td>\n",
              "      <td>1.712329</td>\n",
              "      <td>1.357590</td>\n",
              "      <td>2.157733</td>\n",
              "      <td>1.289852</td>\n",
              "      <td>0.987511</td>\n",
              "      <td>1.683184</td>\n",
              "      <td>79.207436</td>\n",
              "      <td>77.936271</td>\n",
              "      <td>...</td>\n",
              "      <td>18.833741</td>\n",
              "      <td>21.280653</td>\n",
              "      <td>1.883562</td>\n",
              "      <td>1.509758</td>\n",
              "      <td>2.347709</td>\n",
              "      <td>4.404965</td>\n",
              "      <td>3.818965</td>\n",
              "      <td>5.076138</td>\n",
              "      <td>4088.0</td>\n",
              "      <td>4109.0</td>\n",
              "    </tr>\n",
              "    <tr>\n",
              "      <th>3</th>\n",
              "      <td>E09000004</td>\n",
              "      <td>Bexley</td>\n",
              "      <td>0.708741</td>\n",
              "      <td>0.464034</td>\n",
              "      <td>1.081093</td>\n",
              "      <td>1.074929</td>\n",
              "      <td>0.770254</td>\n",
              "      <td>1.498298</td>\n",
              "      <td>76.712791</td>\n",
              "      <td>75.156935</td>\n",
              "      <td>...</td>\n",
              "      <td>21.551562</td>\n",
              "      <td>24.482996</td>\n",
              "      <td>2.902464</td>\n",
              "      <td>2.356304</td>\n",
              "      <td>3.570587</td>\n",
              "      <td>5.216567</td>\n",
              "      <td>4.494537</td>\n",
              "      <td>6.047243</td>\n",
              "      <td>2963.0</td>\n",
              "      <td>3163.0</td>\n",
              "    </tr>\n",
              "    <tr>\n",
              "      <th>4</th>\n",
              "      <td>E09000005</td>\n",
              "      <td>Brent</td>\n",
              "      <td>2.559775</td>\n",
              "      <td>2.089586</td>\n",
              "      <td>3.132380</td>\n",
              "      <td>2.087852</td>\n",
              "      <td>1.673814</td>\n",
              "      <td>2.601599</td>\n",
              "      <td>71.476793</td>\n",
              "      <td>69.969971</td>\n",
              "      <td>...</td>\n",
              "      <td>24.613034</td>\n",
              "      <td>27.443412</td>\n",
              "      <td>3.881857</td>\n",
              "      <td>3.295064</td>\n",
              "      <td>4.568210</td>\n",
              "      <td>6.046638</td>\n",
              "      <td>5.322167</td>\n",
              "      <td>6.862578</td>\n",
              "      <td>3555.0</td>\n",
              "      <td>3688.0</td>\n",
              "    </tr>\n",
              "  </tbody>\n",
              "</table>\n",
              "<p>5 rows × 34 columns</p>\n",
              "</div>\n",
              "    <div class=\"colab-df-buttons\">\n",
              "\n",
              "  <div class=\"colab-df-container\">\n",
              "    <button class=\"colab-df-convert\" onclick=\"convertToInteractive('df-fe5bc1c0-c289-4e1e-aedd-9770a4e30f23')\"\n",
              "            title=\"Convert this dataframe to an interactive table.\"\n",
              "            style=\"display:none;\">\n",
              "\n",
              "  <svg xmlns=\"http://www.w3.org/2000/svg\" height=\"24px\" viewBox=\"0 -960 960 960\">\n",
              "    <path d=\"M120-120v-720h720v720H120Zm60-500h600v-160H180v160Zm220 220h160v-160H400v160Zm0 220h160v-160H400v160ZM180-400h160v-160H180v160Zm440 0h160v-160H620v160ZM180-180h160v-160H180v160Zm440 0h160v-160H620v160Z\"/>\n",
              "  </svg>\n",
              "    </button>\n",
              "\n",
              "  <style>\n",
              "    .colab-df-container {\n",
              "      display:flex;\n",
              "      gap: 12px;\n",
              "    }\n",
              "\n",
              "    .colab-df-convert {\n",
              "      background-color: #E8F0FE;\n",
              "      border: none;\n",
              "      border-radius: 50%;\n",
              "      cursor: pointer;\n",
              "      display: none;\n",
              "      fill: #1967D2;\n",
              "      height: 32px;\n",
              "      padding: 0 0 0 0;\n",
              "      width: 32px;\n",
              "    }\n",
              "\n",
              "    .colab-df-convert:hover {\n",
              "      background-color: #E2EBFA;\n",
              "      box-shadow: 0px 1px 2px rgba(60, 64, 67, 0.3), 0px 1px 3px 1px rgba(60, 64, 67, 0.15);\n",
              "      fill: #174EA6;\n",
              "    }\n",
              "\n",
              "    .colab-df-buttons div {\n",
              "      margin-bottom: 4px;\n",
              "    }\n",
              "\n",
              "    [theme=dark] .colab-df-convert {\n",
              "      background-color: #3B4455;\n",
              "      fill: #D2E3FC;\n",
              "    }\n",
              "\n",
              "    [theme=dark] .colab-df-convert:hover {\n",
              "      background-color: #434B5C;\n",
              "      box-shadow: 0px 1px 3px 1px rgba(0, 0, 0, 0.15);\n",
              "      filter: drop-shadow(0px 1px 2px rgba(0, 0, 0, 0.3));\n",
              "      fill: #FFFFFF;\n",
              "    }\n",
              "  </style>\n",
              "\n",
              "    <script>\n",
              "      const buttonEl =\n",
              "        document.querySelector('#df-fe5bc1c0-c289-4e1e-aedd-9770a4e30f23 button.colab-df-convert');\n",
              "      buttonEl.style.display =\n",
              "        google.colab.kernel.accessAllowed ? 'block' : 'none';\n",
              "\n",
              "      async function convertToInteractive(key) {\n",
              "        const element = document.querySelector('#df-fe5bc1c0-c289-4e1e-aedd-9770a4e30f23');\n",
              "        const dataTable =\n",
              "          await google.colab.kernel.invokeFunction('convertToInteractive',\n",
              "                                                    [key], {});\n",
              "        if (!dataTable) return;\n",
              "\n",
              "        const docLinkHtml = 'Like what you see? Visit the ' +\n",
              "          '<a target=\"_blank\" href=https://colab.research.google.com/notebooks/data_table.ipynb>data table notebook</a>'\n",
              "          + ' to learn more about interactive tables.';\n",
              "        element.innerHTML = '';\n",
              "        dataTable['output_type'] = 'display_data';\n",
              "        await google.colab.output.renderOutput(dataTable, element);\n",
              "        const docLink = document.createElement('div');\n",
              "        docLink.innerHTML = docLinkHtml;\n",
              "        element.appendChild(docLink);\n",
              "      }\n",
              "    </script>\n",
              "  </div>\n",
              "\n",
              "\n",
              "    <div id=\"df-379ffe4e-a5cc-4c84-8ab9-f83f4d21ea0e\">\n",
              "      <button class=\"colab-df-quickchart\" onclick=\"quickchart('df-379ffe4e-a5cc-4c84-8ab9-f83f4d21ea0e')\"\n",
              "                title=\"Suggest charts\"\n",
              "                style=\"display:none;\">\n",
              "\n",
              "<svg xmlns=\"http://www.w3.org/2000/svg\" height=\"24px\"viewBox=\"0 0 24 24\"\n",
              "     width=\"24px\">\n",
              "    <g>\n",
              "        <path d=\"M19 3H5c-1.1 0-2 .9-2 2v14c0 1.1.9 2 2 2h14c1.1 0 2-.9 2-2V5c0-1.1-.9-2-2-2zM9 17H7v-7h2v7zm4 0h-2V7h2v10zm4 0h-2v-4h2v4z\"/>\n",
              "    </g>\n",
              "</svg>\n",
              "      </button>\n",
              "\n",
              "<style>\n",
              "  .colab-df-quickchart {\n",
              "      --bg-color: #E8F0FE;\n",
              "      --fill-color: #1967D2;\n",
              "      --hover-bg-color: #E2EBFA;\n",
              "      --hover-fill-color: #174EA6;\n",
              "      --disabled-fill-color: #AAA;\n",
              "      --disabled-bg-color: #DDD;\n",
              "  }\n",
              "\n",
              "  [theme=dark] .colab-df-quickchart {\n",
              "      --bg-color: #3B4455;\n",
              "      --fill-color: #D2E3FC;\n",
              "      --hover-bg-color: #434B5C;\n",
              "      --hover-fill-color: #FFFFFF;\n",
              "      --disabled-bg-color: #3B4455;\n",
              "      --disabled-fill-color: #666;\n",
              "  }\n",
              "\n",
              "  .colab-df-quickchart {\n",
              "    background-color: var(--bg-color);\n",
              "    border: none;\n",
              "    border-radius: 50%;\n",
              "    cursor: pointer;\n",
              "    display: none;\n",
              "    fill: var(--fill-color);\n",
              "    height: 32px;\n",
              "    padding: 0;\n",
              "    width: 32px;\n",
              "  }\n",
              "\n",
              "  .colab-df-quickchart:hover {\n",
              "    background-color: var(--hover-bg-color);\n",
              "    box-shadow: 0 1px 2px rgba(60, 64, 67, 0.3), 0 1px 3px 1px rgba(60, 64, 67, 0.15);\n",
              "    fill: var(--button-hover-fill-color);\n",
              "  }\n",
              "\n",
              "  .colab-df-quickchart-complete:disabled,\n",
              "  .colab-df-quickchart-complete:disabled:hover {\n",
              "    background-color: var(--disabled-bg-color);\n",
              "    fill: var(--disabled-fill-color);\n",
              "    box-shadow: none;\n",
              "  }\n",
              "\n",
              "  .colab-df-spinner {\n",
              "    border: 2px solid var(--fill-color);\n",
              "    border-color: transparent;\n",
              "    border-bottom-color: var(--fill-color);\n",
              "    animation:\n",
              "      spin 1s steps(1) infinite;\n",
              "  }\n",
              "\n",
              "  @keyframes spin {\n",
              "    0% {\n",
              "      border-color: transparent;\n",
              "      border-bottom-color: var(--fill-color);\n",
              "      border-left-color: var(--fill-color);\n",
              "    }\n",
              "    20% {\n",
              "      border-color: transparent;\n",
              "      border-left-color: var(--fill-color);\n",
              "      border-top-color: var(--fill-color);\n",
              "    }\n",
              "    30% {\n",
              "      border-color: transparent;\n",
              "      border-left-color: var(--fill-color);\n",
              "      border-top-color: var(--fill-color);\n",
              "      border-right-color: var(--fill-color);\n",
              "    }\n",
              "    40% {\n",
              "      border-color: transparent;\n",
              "      border-right-color: var(--fill-color);\n",
              "      border-top-color: var(--fill-color);\n",
              "    }\n",
              "    60% {\n",
              "      border-color: transparent;\n",
              "      border-right-color: var(--fill-color);\n",
              "    }\n",
              "    80% {\n",
              "      border-color: transparent;\n",
              "      border-right-color: var(--fill-color);\n",
              "      border-bottom-color: var(--fill-color);\n",
              "    }\n",
              "    90% {\n",
              "      border-color: transparent;\n",
              "      border-bottom-color: var(--fill-color);\n",
              "    }\n",
              "  }\n",
              "</style>\n",
              "\n",
              "      <script>\n",
              "        async function quickchart(key) {\n",
              "          const quickchartButtonEl =\n",
              "            document.querySelector('#' + key + ' button');\n",
              "          quickchartButtonEl.disabled = true;  // To prevent multiple clicks.\n",
              "          quickchartButtonEl.classList.add('colab-df-spinner');\n",
              "          try {\n",
              "            const charts = await google.colab.kernel.invokeFunction(\n",
              "                'suggestCharts', [key], {});\n",
              "          } catch (error) {\n",
              "            console.error('Error during call to suggestCharts:', error);\n",
              "          }\n",
              "          quickchartButtonEl.classList.remove('colab-df-spinner');\n",
              "          quickchartButtonEl.classList.add('colab-df-quickchart-complete');\n",
              "        }\n",
              "        (() => {\n",
              "          let quickchartButtonEl =\n",
              "            document.querySelector('#df-379ffe4e-a5cc-4c84-8ab9-f83f4d21ea0e button');\n",
              "          quickchartButtonEl.style.display =\n",
              "            google.colab.kernel.accessAllowed ? 'block' : 'none';\n",
              "        })();\n",
              "      </script>\n",
              "    </div>\n",
              "\n",
              "    </div>\n",
              "  </div>\n"
            ],
            "application/vnd.google.colaboratory.intrinsic+json": {
              "type": "dataframe",
              "variable_name": "df_year"
            }
          },
          "metadata": {},
          "execution_count": 6
        }
      ],
      "source": [
        "file_path = 'https://raw.githubusercontent.com/QiuYue24/CASA0006_assessment/main/data/childhood-obesity-borough.xlsx'\n",
        "year = '2018-19'\n",
        "\n",
        "# Column name mapping\n",
        "df_year = pd.read_excel(file_path, sheet_name=year, header=2)\n",
        "df_year.head()"
      ]
    },
    {
      "cell_type": "markdown",
      "source": [
        "Although the table layout is rather confusing, it is known that we selected data on childhood obesity rates at borough level within the London borough, so preprocessing of childhood obesity rate data was carried out based on the original files."
      ],
      "metadata": {
        "id": "40vluBluwWv2"
      }
    },
    {
      "cell_type": "code",
      "source": [
        "\n",
        "print(\"=\"*50)\n",
        "print(\"1. Processing Childhood Obesity Data\")\n",
        "print(\"=\"*50)\n",
        "\n",
        "column_mapping = {\n",
        "    \"Prevalence_(%)\": \"Reception_Underweight_Prevalence\",\n",
        "    \"lower_confidence_interval\": \"Reception_Underweight_LCI\",\n",
        "    \"upper_confidence_interval\": \"Reception_Underweight_UCI\",\n",
        "    \"Prevalence_(%).1\": \"Year6_Underweight_Prevalence\",\n",
        "    \"lower_confidence_interval.1\": \"Year6_Underweight_LCI\",\n",
        "    \"upper_confidence_interval.1\": \"Year6_Underweight_UCI\",\n",
        "    \"Prevalence_(%).2\": \"Reception_HealthyWeight_Prevalence\",\n",
        "    \"lower_confidence_interval.2\": \"Reception_HealthyWeight_LCI\",\n",
        "    \"upper_confidence_interval.2\": \"Reception_HealthyWeight_UCI\",\n",
        "    \"Prevalence_(%).3\": \"Year6_HealthyWeight_Prevalence\",\n",
        "    \"lower_confidence_interval.3\": \"Year6_HealthyWeight_LCI\",\n",
        "    \"upper_confidence_interval.3\": \"Year6_HealthyWeight_UCI\",\n",
        "    \"Prevalence_(%).4\": \"Reception_Overweight_Prevalence\",\n",
        "    \"lower_confidence_interval.4\": \"Reception_Overweight_LCI\",\n",
        "    \"upper_confidence_interval.4\": \"Reception_Overweight_UCI\",\n",
        "    \"Prevalence_(%).5\": \"Year6_Overweight_Prevalence\",\n",
        "    \"lower_confidence_interval.5\": \"Year6_Overweight_LCI\",\n",
        "    \"upper_confidence_interval.5\": \"Year6_Overweight_UCI\",\n",
        "    \"Prevalence_(%).6\": \"Reception_Obesity_Prevalence\",\n",
        "    \"lower_confidence_interval.6\": \"Reception_Obesity_LCI\",\n",
        "    \"upper_confidence_interval.6\": \"Reception_Obesity_UCI\",\n",
        "    \"Prevalence_(%).7\": \"Year6_Obesity_Prevalence\",\n",
        "    \"lower_confidence_interval.7\": \"Year6_Obesity_LCI\",\n",
        "    \"upper_confidence_interval.7\": \"Year6_Obesity_UCI\",\n",
        "    \"Prevalence_(%).8\": \"Reception_SevereObesity_Prevalence\",\n",
        "    \"lower_confidence_interval.8\": \"Reception_SevereObesity_LCI\",\n",
        "    \"upper_confidence_interval.8\": \"Reception_SevereObesity_UCI\",\n",
        "    \"Prevalence_(%).9\": \"Year6_SevereObesity_Prevalence\",\n",
        "    \"lower_confidence_interval.9\": \"Year6_SevereObesity_LCI\",\n",
        "    \"upper_confidence_interval.9\": \"Year6_SevereObesity_UCI\",\n",
        "    \"Reception\": \"Reception_SampleSize\",\n",
        "    \"Year_6\": \"Year6_SampleSize\"\n",
        "}\n",
        "\n",
        "# Clean column names\n",
        "df_year.columns = df_year.columns.str.strip()\n",
        "df_year.columns = df_year.columns.str.replace(r'\\s+', '_', regex=True)\n",
        "\n",
        "# Standardize ONS_Code and Area fields\n",
        "df_year['ONS_Code'] = df_year['ONS_Code'].str.strip()\n",
        "df_year['Area'] = df_year['Area'].str.strip()\n",
        "\n",
        "# Rename columns\n",
        "df_year.rename(columns={\n",
        "    col: f\"{column_mapping.get(col, col)}_{year}\" if col not in ['ONS_Code', 'Area'] else col\n",
        "    for col in df_year.columns\n",
        "}, inplace=True)\n",
        "\n",
        "df_year.sort_values(by='ONS_Code', inplace=True)\n",
        "\n",
        "# Convert relevant columns to numeric\n",
        "to_numeric_cols = [\n",
        "    col for col in df_year.columns\n",
        "    if \"Prevalence\" in col or \"SampleSize\" in col\n",
        "]\n",
        "for col in to_numeric_cols:\n",
        "    df_year[col] = pd.to_numeric(df_year[col], errors='coerce')\n",
        "\n",
        "# Keep only the Year6 Obesity Prevalence data\n",
        "columns_to_keep = [\"ONS_Code\", \"Area\", \"Year6_Obesity_Prevalence_2018-19\"]\n",
        "obesity_data = df_year[columns_to_keep]\n",
        "\n",
        "print(\"Preview of Obesity Data:\")\n",
        "print(f\"Data shape: {obesity_data.shape}\")\n",
        "print(f\"Columns: {obesity_data.columns.tolist()}\")"
      ],
      "metadata": {
        "colab": {
          "base_uri": "https://localhost:8080/",
          "height": 0
        },
        "id": "B4cA_W2ouA0E",
        "outputId": "41688dc7-6b03-4be2-cd21-4ce4842ef11c"
      },
      "execution_count": 7,
      "outputs": [
        {
          "output_type": "stream",
          "name": "stdout",
          "text": [
            "==================================================\n",
            "1. Processing Childhood Obesity Data\n",
            "==================================================\n",
            "Preview of Obesity Data:\n",
            "Data shape: (45, 3)\n",
            "Columns: ['ONS_Code', 'Area', 'Year6_Obesity_Prevalence_2018-19']\n"
          ]
        }
      ]
    },
    {
      "cell_type": "markdown",
      "source": [
        "View pre-processed data on childhood obesity rates"
      ],
      "metadata": {
        "id": "Ub53pXaIwrKa"
      }
    },
    {
      "cell_type": "code",
      "source": [
        "print(obesity_data.head())\n",
        "print(f\"\\nNumber of unique area codes: {obesity_data['ONS_Code'].nunique()}\")\n",
        "print(f\"Number of unique area names: {obesity_data['Area'].nunique()}\")"
      ],
      "metadata": {
        "colab": {
          "base_uri": "https://localhost:8080/",
          "height": 0
        },
        "id": "x7TyqMjCwobE",
        "outputId": "76d2cf50-15ee-4412-e20a-0ba0c03bcf87"
      },
      "execution_count": 8,
      "outputs": [
        {
          "output_type": "stream",
          "name": "stdout",
          "text": [
            "    ONS_Code                  Area  Year6_Obesity_Prevalence_2018-19\n",
            "1  E09000002  Barking and Dagenham                         29.457814\n",
            "2  E09000003                Barnet                         20.029204\n",
            "3  E09000004                Bexley                         22.984508\n",
            "4  E09000005                 Brent                         26.003254\n",
            "5  E09000006               Bromley                         17.807457\n",
            "\n",
            "Number of unique area codes: 42\n",
            "Number of unique area names: 42\n"
          ]
        }
      ]
    },
    {
      "cell_type": "markdown",
      "source": [
        "Borough Boundary and Fast Food Restaurant Density Data Processing"
      ],
      "metadata": {
        "id": "q7nOimKzw0dv"
      }
    },
    {
      "cell_type": "code",
      "source": [
        "print(\"\\n\" + \"=\"*50)\n",
        "print(\"2. Processing Borough Boundaries and Fast Food Outlet Density Data\")\n",
        "print(\"=\"*50)\n",
        "\n",
        "# Load borough boundary data\n",
        "borough_url = 'https://raw.githubusercontent.com/QiuYue24/CASA0006_assessment/main/data/London_Boroughs.geojson'\n",
        "boroughs = gpd.read_file(borough_url)\n",
        "boroughs = boroughs[boroughs['gss_code'] != 'E09000001']  # Exclude City of London\n",
        "print(f\"Shape of borough boundary data: {boroughs.shape}\")\n",
        "print(f\"Columns in borough boundary data: {boroughs.columns.tolist()}\")\n",
        "\n",
        "# Load fast food outlet data\n",
        "fast_food = gpd.read_file(\"https://raw.githubusercontent.com/QiuYue24/CASA0006_assessment/main/possessed_data/london_fast_food_clipped.geojson\")\n",
        "print(f\"\\nShape of fast food outlet data: {fast_food.shape}\")\n",
        "\n",
        "# Standardize coordinate reference systems\n",
        "boroughs = boroughs.to_crs(epsg=27700)\n",
        "fast_food = fast_food.to_crs(epsg=27700)\n",
        "\n",
        "# Spatial join\n",
        "joined = gpd.sjoin(fast_food, boroughs, how=\"inner\", predicate=\"intersects\")\n",
        "fast_counts = joined.groupby(\"gss_code\")[\"osm_id\"].count().reset_index()\n",
        "fast_counts.columns = [\"gss_code\", \"Fast_Food_Count\"]\n",
        "\n",
        "# Calculate area and density\n",
        "boroughs[\"area_km2\"] = boroughs.geometry.area / 1e6\n",
        "merged_fastfood = boroughs.merge(fast_counts, on=\"gss_code\", how=\"left\")\n",
        "merged_fastfood[\"Fast_Food_Count\"] = merged_fastfood[\"Fast_Food_Count\"].fillna(0)\n",
        "merged_fastfood['name'] = merged_fastfood['name'].str.strip()\n",
        "merged_fastfood[\"Fast_Food_Density\"] = merged_fastfood[\"Fast_Food_Count\"] / merged_fastfood[\"area_km2\"]\n",
        "\n",
        "fastfood_data = merged_fastfood[[\"gss_code\", \"name\", \"Fast_Food_Count\", \"area_km2\", \"Fast_Food_Density\"]]\n",
        "print(f\"Shape of fast food density data: {fastfood_data.shape}\")"
      ],
      "metadata": {
        "colab": {
          "base_uri": "https://localhost:8080/",
          "height": 0
        },
        "id": "cq02F7hMSHyV",
        "outputId": "43d508da-8a40-4909-91e8-b6a31762e15a"
      },
      "execution_count": 9,
      "outputs": [
        {
          "output_type": "stream",
          "name": "stdout",
          "text": [
            "\n",
            "==================================================\n",
            "2. Processing Borough Boundaries and Fast Food Outlet Density Data\n",
            "==================================================\n",
            "Shape of borough boundary data: (32, 8)\n",
            "Columns in borough boundary data: ['objectid', 'name', 'gss_code', 'hectares', 'nonld_area', 'ons_inner', 'sub_2011', 'geometry']\n",
            "\n",
            "Shape of fast food outlet data: (4130, 268)\n",
            "Shape of fast food density data: (32, 5)\n"
          ]
        }
      ]
    },
    {
      "cell_type": "code",
      "source": [
        "print(fastfood_data.head())\n",
        "print(f\"\\nNumber of unique GSS codes: {fastfood_data['gss_code'].nunique()}\")\n",
        "print(f\"Range of fast food outlet density: {fastfood_data['Fast_Food_Density'].min():.2f} - {fastfood_data['Fast_Food_Density'].max():.2f}\")"
      ],
      "metadata": {
        "colab": {
          "base_uri": "https://localhost:8080/",
          "height": 0
        },
        "id": "M6jBXQIlxJQn",
        "outputId": "fe8fc436-5f36-4bbe-b543-4685b31f098f"
      },
      "execution_count": 10,
      "outputs": [
        {
          "output_type": "stream",
          "name": "stdout",
          "text": [
            "    gss_code                  name  Fast_Food_Count    area_km2  \\\n",
            "0  E09000021  Kingston upon Thames               54   37.261178   \n",
            "1  E09000008               Croydon              188   86.494436   \n",
            "2  E09000006               Bromley               98  150.134858   \n",
            "3  E09000018              Hounslow               97   56.585441   \n",
            "4  E09000009                Ealing              140   55.544352   \n",
            "\n",
            "   Fast_Food_Density  \n",
            "0           1.449230  \n",
            "1           2.173550  \n",
            "2           0.652746  \n",
            "3           1.714222  \n",
            "4           2.520508  \n",
            "\n",
            "Number of unique GSS codes: 32\n",
            "Range of fast food outlet density: 0.30 - 15.52\n"
          ]
        }
      ]
    },
    {
      "cell_type": "markdown",
      "source": [
        "Data processing for IMD aggregate indicators (only mean scores are retained)"
      ],
      "metadata": {
        "id": "8-8S2-FixUDl"
      }
    },
    {
      "cell_type": "code",
      "source": [
        "print(\"\\n\" + \"=\"*50)\n",
        "print(\"3. Processing Overall IMD Data (Keeping Only Average Score)\")\n",
        "print(\"=\"*50)\n",
        "\n",
        "imd_file = 'https://raw.githubusercontent.com/QiuYue24/CASA0006_assessment/main/data/imd_borough_summary.xlsx'\n",
        "imd_df = pd.read_excel(imd_file, sheet_name=\"Borough summary measures\")\n",
        "imd_df.columns = imd_df.columns.str.strip()\n",
        "\n",
        "# Select only the IMD average score\n",
        "imd_data = imd_df[[\n",
        "    'Local Authority District code (2019)',\n",
        "    'IMD - Average score'\n",
        "]]\n",
        "\n",
        "# Rename columns\n",
        "imd_data.columns = [\"gss_code\", \"IMD_Avg_Score\"]\n",
        "\n",
        "print(\"Preview of IMD data (Average Score only):\")\n",
        "print(f\"Data shape: {imd_data.shape}\")\n",
        "print(imd_data.head())\n",
        "print(f\"\\nNumber of unique GSS codes: {imd_data['gss_code'].nunique()}\")\n",
        "print(f\"Range of IMD average scores: {imd_data['IMD_Avg_Score'].min():.2f} - {imd_data['IMD_Avg_Score'].max():.2f}\")\n"
      ],
      "metadata": {
        "colab": {
          "base_uri": "https://localhost:8080/",
          "height": 0
        },
        "id": "jq1YbqnFSOAm",
        "outputId": "59632d63-486a-4002-a8bc-1a5fa29563bd"
      },
      "execution_count": 11,
      "outputs": [
        {
          "output_type": "stream",
          "name": "stdout",
          "text": [
            "\n",
            "==================================================\n",
            "3. Processing Overall IMD Data (Keeping Only Average Score)\n",
            "==================================================\n",
            "Preview of IMD data (Average Score only):\n",
            "Data shape: (33, 2)\n",
            "    gss_code  IMD_Avg_Score\n",
            "0  E09000001         14.720\n",
            "1  E09000002         32.768\n",
            "2  E09000003         16.148\n",
            "3  E09000004         16.273\n",
            "4  E09000005         25.558\n",
            "\n",
            "Number of unique GSS codes: 33\n",
            "Range of IMD average scores: 9.43 - 32.77\n"
          ]
        }
      ]
    },
    {
      "cell_type": "markdown",
      "source": [
        "Greenfield coverage data processing (greenfield only)"
      ],
      "metadata": {
        "id": "zaIFt8-Ixams"
      }
    },
    {
      "cell_type": "code",
      "source": [
        "print(\"\\n\" + \"=\"*50)\n",
        "print(\"4. Processing Green Space Coverage Data (Green Areas Only)\")\n",
        "print(\"=\"*50)\n",
        "\n",
        "green_file = 'https://raw.githubusercontent.com/QiuYue24/CASA0006_assessment/main/data/green_cover_borough_summary_0.05.xlsx'\n",
        "green_statistics = pd.read_excel(green_file, sheet_name=\"borough_green_cover\")\n",
        "green_statistics.columns = green_statistics.columns.str.strip()\n",
        "\n",
        "# Extract only the percentage of green space\n",
        "green_data = green_statistics[[\"lb_name\", \"percent_green\"]]\n",
        "green_data = green_data.rename(columns={\"lb_name\": \"borough\"})\n",
        "\n",
        "print(\"Preview of Green Space Coverage Data:\")\n",
        "print(f\"Data shape: {green_data.shape}\")\n",
        "print(green_data.head())\n",
        "print(f\"\\nNumber of unique borough names: {green_data['borough'].nunique()}\")\n",
        "print(f\"Range of green space coverage: {green_data['percent_green'].min():.2f}% - {green_data['percent_green'].max():.2f}%\")"
      ],
      "metadata": {
        "colab": {
          "base_uri": "https://localhost:8080/",
          "height": 0
        },
        "id": "-zzP8YDvSSak",
        "outputId": "709ca496-6041-49ed-a9a2-0c20faf9d351"
      },
      "execution_count": 12,
      "outputs": [
        {
          "output_type": "stream",
          "name": "stdout",
          "text": [
            "\n",
            "==================================================\n",
            "4. Processing Green Space Coverage Data (Green Areas Only)\n",
            "==================================================\n",
            "Preview of Green Space Coverage Data:\n",
            "Data shape: (33, 2)\n",
            "     borough  percent_green\n",
            "0  E09000001       5.590892\n",
            "1  E09000002      39.201168\n",
            "2  E09000003      57.994299\n",
            "3  E09000004      42.918334\n",
            "4  E09000005      39.936406\n",
            "\n",
            "Number of unique borough names: 33\n",
            "Range of green space coverage: 5.59% - 68.36%\n"
          ]
        }
      ]
    },
    {
      "cell_type": "markdown",
      "source": [
        "Population density data processing"
      ],
      "metadata": {
        "id": "kKDHFml4xfEV"
      }
    },
    {
      "cell_type": "code",
      "source": [
        "print(\"\\n\" + \"=\"*50)\n",
        "print(\"5. Processing Population Density Data\")\n",
        "print(\"=\"*50)\n",
        "\n",
        "density_file = 'https://raw.githubusercontent.com/QiuYue24/CASA0006_assessment/main/data/cencus/sape23dt11mid2020lsoapopulationdensity.xlsx'\n",
        "density_df = pd.read_excel(density_file, sheet_name=\"Mid-2020 Population Density\")\n",
        "\n",
        "# Rename columns\n",
        "density_df.columns = ['lsoa_code', 'lsoa_name', 'population', 'area_km2', 'pop_density_km2']\n",
        "\n",
        "# Convert data types\n",
        "density_df['population'] = pd.to_numeric(density_df['population'], errors='coerce')\n",
        "density_df['area_km2'] = pd.to_numeric(density_df['area_km2'], errors='coerce')\n",
        "\n",
        "# Extract borough name\n",
        "density_df['borough_name'] = density_df['lsoa_name'].str.extract(r'^(.*) \\d{3}[A-Z]')\n",
        "\n",
        "# List of 32 London boroughs\n",
        "london_boroughs = [\n",
        "    \"Barking and Dagenham\", \"Barnet\", \"Bexley\", \"Brent\", \"Bromley\", \"Camden\",\n",
        "    \"Croydon\", \"Ealing\", \"Enfield\", \"Greenwich\", \"Hackney\", \"Hammersmith and Fulham\", \"Haringey\",\n",
        "    \"Harrow\", \"Havering\", \"Hillingdon\", \"Hounslow\", \"Islington\", \"Kensington and Chelsea\", \"Kingston upon Thames\",\n",
        "    \"Lambeth\", \"Lewisham\", \"Merton\", \"Newham\", \"Redbridge\", \"Richmond upon Thames\", \"Southwark\",\n",
        "    \"Sutton\", \"Tower Hamlets\", \"Waltham Forest\", \"Wandsworth\", \"Westminster\"\n",
        "]\n",
        "density_df = density_df[density_df['borough_name'].isin(london_boroughs)].copy()\n",
        "\n",
        "# Aggregate total population and area per borough\n",
        "borough_summary = density_df.groupby('borough_name').agg({\n",
        "    'population': 'sum',\n",
        "    'area_km2': 'sum'\n",
        "}).reset_index()\n",
        "\n",
        "# Calculate population density per hectare\n",
        "borough_summary['population_density_ha'] = (borough_summary['population'] / (borough_summary['area_km2'] * 100)).round(0).astype(int)\n",
        "density_data = borough_summary[['borough_name', 'population_density_ha']]\n",
        "\n",
        "print(\"Preview of Population Density Data:\")\n",
        "print(f\"Data shape: {density_data.shape}\")\n",
        "print(density_data.head())\n",
        "print(f\"\\nNumber of unique borough names: {density_data['borough_name'].nunique()}\")\n",
        "print(f\"Range of population density per hectare: {density_data['population_density_ha'].min()} - {density_data['population_density_ha'].max()} persons/ha\")"
      ],
      "metadata": {
        "colab": {
          "base_uri": "https://localhost:8080/",
          "height": 0
        },
        "id": "eGj3JwX9SVwl",
        "outputId": "41d54799-b8cf-48c1-fb6e-3320e35b5a21"
      },
      "execution_count": 13,
      "outputs": [
        {
          "output_type": "stream",
          "name": "stdout",
          "text": [
            "\n",
            "==================================================\n",
            "5. Processing Population Density Data\n",
            "==================================================\n",
            "Preview of Population Density Data:\n",
            "Data shape: (32, 2)\n",
            "           borough_name  population_density_ha\n",
            "0  Barking and Dagenham                     59\n",
            "1                Barnet                     46\n",
            "2                Bexley                     41\n",
            "3                 Brent                     76\n",
            "4               Bromley                     22\n",
            "\n",
            "Number of unique borough names: 32\n",
            "Range of population density per hectare: 22 - 168 persons/ha\n"
          ]
        }
      ]
    },
    {
      "cell_type": "markdown",
      "source": [
        "Data processing of the proportion of workless families with dependent children"
      ],
      "metadata": {
        "id": "Lf_Monc5xqlZ"
      }
    },
    {
      "cell_type": "code",
      "source": [
        "warnings.filterwarnings('ignore')\n",
        "print(\"\\n\" + \"=\"*50)\n",
        "print(\"6. Data processing of the proportion of workless families with dependent children\")\n",
        "print(\"=\"*50)\n",
        "\n",
        "# Read Excel file\n",
        "workless_file = 'https://raw.githubusercontent.com/QiuYue24/CASA0006_assessment/main/data/wugongzuo/nomis_120404.xlsx'\n",
        "df_workless = pd.read_excel(workless_file, skiprows=7)\n",
        "\n",
        "# Rename columns\n",
        "df_workless.columns = ['District', 'Code', 'All_Households', 'All_Flags',\n",
        "                       'Working_Households', 'Working_Flags', 'Workless_Households', 'Workless_Flags']\n",
        "\n",
        "# Clean data - remove empty rows and total summary rows\n",
        "df_workless = df_workless.dropna(subset=['District'])\n",
        "df_workless = df_workless[df_workless['District'] != 'Column Total']\n",
        "\n",
        "# Calculate non-working households\n",
        "df_workless['Non_Working_Households'] = df_workless['All_Households'] - df_workless['Working_Households']\n",
        "\n",
        "# Calculate proportion of non-working households\n",
        "df_workless['Non_Working_Proportion'] = (df_workless['Non_Working_Households'] / df_workless['All_Households']) * 100\n",
        "\n",
        "# Select necessary columns\n",
        "workless_data = df_workless[['District', 'Code', 'Non_Working_Proportion']]\n",
        "workless_data.columns = ['borough_name', 'gss_code', 'non_working_proportion']\n",
        "\n",
        "print(\"Preview of Workless Household Proportion Data:\")\n",
        "print(f\"Data shape: {workless_data.shape}\")\n",
        "print(workless_data.head())\n",
        "print(f\"\\nNumber of unique borough names: {workless_data['borough_name'].nunique()}\")\n",
        "print(f\"Range of non-working household proportion: {workless_data['non_working_proportion'].min():.1f}% - {workless_data['non_working_proportion'].max():.1f}%\")"
      ],
      "metadata": {
        "colab": {
          "base_uri": "https://localhost:8080/",
          "height": 0
        },
        "id": "DJCuQwQnSlbK",
        "outputId": "fef6860a-8501-4d1d-a101-4a86f42744bc"
      },
      "execution_count": 14,
      "outputs": [
        {
          "output_type": "stream",
          "name": "stdout",
          "text": [
            "\n",
            "==================================================\n",
            "6. Data processing of the proportion of workless families with dependent children\n",
            "==================================================\n",
            "Preview of Workless Household Proportion Data:\n",
            "Data shape: (34, 3)\n",
            "           borough_name   gss_code  non_working_proportion\n",
            "0  Barking and Dagenham  E09000002               53.260870\n",
            "1                Barnet  E09000003               57.359813\n",
            "2                Bexley  E09000004               55.610561\n",
            "3                 Brent  E09000005               59.895151\n",
            "4               Bromley  E09000006               41.860465\n",
            "\n",
            "Number of unique borough names: 34\n",
            "Range of non-working household proportion: 36.9% - 70.6%\n"
          ]
        }
      ]
    },
    {
      "cell_type": "markdown",
      "source": [
        "Processing of data on the proportion of non-whites"
      ],
      "metadata": {
        "id": "OWckCiQMxx7j"
      }
    },
    {
      "cell_type": "code",
      "source": [
        "print(\"\\n\" + \"=\"*50)\n",
        "print(\"7. Processing Non-White Population Proportion Data\")\n",
        "print(\"=\"*50)\n",
        "\n",
        "# Read Excel file\n",
        "ethnicity_file = 'https://raw.githubusercontent.com/QiuYue24/CASA0006_assessment/main/data/feibairen/nomis_114610.xlsx'\n",
        "df_ethnicity = pd.read_excel(ethnicity_file, skiprows=8)\n",
        "\n",
        "# Rename columns\n",
        "df_ethnicity.columns = ['District', 'Code', 'Total_Persons', 'Total_Percent', 'White_Persons', 'White_Percent']\n",
        "\n",
        "# Clean data - remove empty rows and total summary rows\n",
        "df_ethnicity = df_ethnicity.dropna(subset=['District'])\n",
        "\n",
        "# Calculate non-white proportion\n",
        "df_ethnicity['Non_White_Proportion'] = 100 - df_ethnicity['White_Percent']\n",
        "\n",
        "# Select required columns\n",
        "ethnicity_data = df_ethnicity[['District', 'Code', 'Non_White_Proportion']].copy()\n",
        "ethnicity_data.columns = ['borough_name', 'gss_code', 'non_white_proportion']\n",
        "\n",
        "# Round to one decimal place\n",
        "ethnicity_data.loc[:, 'non_white_proportion'] = ethnicity_data['non_white_proportion'].round(1)\n",
        "\n",
        "print(\"Preview of Non-White Population Proportion Data:\")\n",
        "print(f\"Data shape: {ethnicity_data.shape}\")\n",
        "print(ethnicity_data.head())\n",
        "print(f\"\\nNumber of unique borough names: {ethnicity_data['borough_name'].nunique()}\")\n",
        "print(f\"Range of non-white population proportion: {ethnicity_data['non_white_proportion'].min():.1f}% - {ethnicity_data['non_white_proportion'].max():.1f}%\")"
      ],
      "metadata": {
        "colab": {
          "base_uri": "https://localhost:8080/",
          "height": 0
        },
        "id": "sZ6mXSYaSqsO",
        "outputId": "9bfe3368-d8b4-405a-f751-2e630810e48f"
      },
      "execution_count": 15,
      "outputs": [
        {
          "output_type": "stream",
          "name": "stdout",
          "text": [
            "\n",
            "==================================================\n",
            "7. Processing Non-White Population Proportion Data\n",
            "==================================================\n",
            "Preview of Non-White Population Proportion Data:\n",
            "Data shape: (33, 3)\n",
            "           borough_name   gss_code  non_white_proportion\n",
            "0  Barking and Dagenham  E09000002                  55.1\n",
            "1                Barnet  E09000003                  42.3\n",
            "2                Bexley  E09000004                  28.1\n",
            "3                 Brent  E09000005                  65.4\n",
            "4               Bromley  E09000006                  23.5\n",
            "\n",
            "Number of unique borough names: 33\n",
            "Range of non-white population proportion: 19.5% - 69.2%\n"
          ]
        }
      ]
    },
    {
      "cell_type": "markdown",
      "source": [
        "Create a code and name mapping table for subsequent matching and merging of data"
      ],
      "metadata": {
        "id": "ewNfR117BjPw"
      }
    },
    {
      "cell_type": "code",
      "source": [
        "print(\"\\n\" + \"=\"*50)\n",
        "print(\"8. Creating Borough Code-Name Mapping Table\")\n",
        "print(\"=\"*50)\n",
        "\n",
        "# Extract gss_code and name mapping from fastfood_data\n",
        "code_name_mapping = fastfood_data[['gss_code', 'name']].drop_duplicates()\n",
        "print(f\"GSS Code - Borough Name Mapping Table:\")\n",
        "print(f\"Data shape: {code_name_mapping.shape}\")\n",
        "print(code_name_mapping.head(10))"
      ],
      "metadata": {
        "colab": {
          "base_uri": "https://localhost:8080/",
          "height": 0
        },
        "collapsed": true,
        "id": "IG-xv5CZSyRs",
        "outputId": "438f606a-794b-4683-b4e3-aa187a5f6ec1"
      },
      "execution_count": 16,
      "outputs": [
        {
          "output_type": "stream",
          "name": "stdout",
          "text": [
            "\n",
            "==================================================\n",
            "8. Creating Borough Code-Name Mapping Table\n",
            "==================================================\n",
            "GSS Code - Borough Name Mapping Table:\n",
            "Data shape: (32, 2)\n",
            "    gss_code                  name\n",
            "0  E09000021  Kingston upon Thames\n",
            "1  E09000008               Croydon\n",
            "2  E09000006               Bromley\n",
            "3  E09000018              Hounslow\n",
            "4  E09000009                Ealing\n",
            "5  E09000016              Havering\n",
            "6  E09000017            Hillingdon\n",
            "7  E09000015                Harrow\n",
            "8  E09000005                 Brent\n",
            "9  E09000003                Barnet\n"
          ]
        }
      ]
    },
    {
      "cell_type": "markdown",
      "source": [
        "Final data integration"
      ],
      "metadata": {
        "id": "2VI2FDJQyAKy"
      }
    },
    {
      "cell_type": "code",
      "source": [
        "# Create the base dataframe using code_name_mapping\n",
        "final_data = code_name_mapping.copy()\n",
        "\n",
        "# Exclude the record with GSS code E09000001 (City of London)\n",
        "final_data = final_data[final_data['gss_code'] != 'E09000001']\n",
        "\n",
        "# Merge obesity prevalence data\n",
        "obesity_data_renamed = obesity_data.rename(columns={'ONS_Code': 'gss_code'})\n",
        "final_data = final_data.merge(\n",
        "    obesity_data_renamed.drop('Area', axis=1),\n",
        "    on='gss_code',\n",
        "    how='left'\n",
        ")\n",
        "\n",
        "# Merge fast food outlet density data\n",
        "final_data = final_data.merge(\n",
        "    fastfood_data[['gss_code', 'Fast_Food_Density']],\n",
        "    on='gss_code',\n",
        "    how='left'\n",
        ")\n",
        "\n",
        "# Merge IMD average score data\n",
        "final_data = final_data.merge(\n",
        "    imd_data,\n",
        "    on='gss_code',\n",
        "    how='left'\n",
        ")\n",
        "\n",
        "# Merge green space coverage data\n",
        "final_data = final_data.merge(\n",
        "    green_data.rename(columns={'borough': 'gss_code'}),\n",
        "    on='gss_code',\n",
        "    how='left'\n",
        ")\n",
        "\n",
        "# Merge population density data\n",
        "final_data = final_data.merge(\n",
        "    density_data.rename(columns={'borough_name': 'name'}),\n",
        "    on='name',\n",
        "    how='left'\n",
        ")\n",
        "\n",
        "# Merge non-working household proportion data\n",
        "final_data = final_data.merge(\n",
        "    workless_data[['gss_code', 'non_working_proportion']],\n",
        "    on='gss_code',\n",
        "    how='left'\n",
        ")\n",
        "\n",
        "# Merge non-white population proportion data\n",
        "final_data = final_data.merge(\n",
        "    ethnicity_data[['gss_code', 'non_white_proportion']],\n",
        "    on='gss_code',\n",
        "    how='left'\n",
        ")"
      ],
      "metadata": {
        "id": "nZTFUrK9S1Hi"
      },
      "execution_count": 17,
      "outputs": []
    },
    {
      "cell_type": "markdown",
      "source": [
        "Check the final data"
      ],
      "metadata": {
        "id": "wWOBfd8byOj3"
      }
    },
    {
      "cell_type": "code",
      "source": [
        "print(\"\\nPreview of Final Integrated Dataset:\")\n",
        "print(f\"Data shape: {final_data.shape}\")\n",
        "print(f\"Column names: {final_data.columns.tolist()}\")\n",
        "\n",
        "final_data"
      ],
      "metadata": {
        "colab": {
          "base_uri": "https://localhost:8080/",
          "height": 1284
        },
        "id": "8yLA9xWcyMdJ",
        "outputId": "a96f43b7-29cb-4ad9-e65e-b301903321d8"
      },
      "execution_count": 18,
      "outputs": [
        {
          "output_type": "stream",
          "name": "stdout",
          "text": [
            "\n",
            "Preview of Final Integrated Dataset:\n",
            "Data shape: (32, 9)\n",
            "Column names: ['gss_code', 'name', 'Year6_Obesity_Prevalence_2018-19', 'Fast_Food_Density', 'IMD_Avg_Score', 'percent_green', 'population_density_ha', 'non_working_proportion', 'non_white_proportion']\n"
          ]
        },
        {
          "output_type": "execute_result",
          "data": {
            "text/plain": [
              "     gss_code                    name  Year6_Obesity_Prevalence_2018-19  \\\n",
              "0   E09000021    Kingston upon Thames                         14.239829   \n",
              "1   E09000008                 Croydon                         24.523973   \n",
              "2   E09000006                 Bromley                         17.807457   \n",
              "3   E09000018                Hounslow                         24.811558   \n",
              "4   E09000009                  Ealing                         24.409449   \n",
              "5   E09000016                Havering                         21.467391   \n",
              "6   E09000017              Hillingdon                         23.589609   \n",
              "7   E09000015                  Harrow                         20.048226   \n",
              "8   E09000005                   Brent                         26.003254   \n",
              "9   E09000003                  Barnet                         20.029204   \n",
              "10  E09000023                Lewisham                         22.440824   \n",
              "11  E09000011               Greenwich                         26.938160   \n",
              "12  E09000004                  Bexley                         22.984508   \n",
              "13  E09000010                 Enfield                         27.023320   \n",
              "14  E09000031          Waltham Forest                         23.715539   \n",
              "15  E09000022                 Lambeth                         23.572170   \n",
              "16  E09000026               Redbridge                         24.099099   \n",
              "17  E09000029                  Sutton                         19.837189   \n",
              "18  E09000027    Richmond upon Thames                         11.215792   \n",
              "19  E09000024                  Merton                         19.729965   \n",
              "20  E09000032              Wandsworth                         19.270833   \n",
              "21  E09000013  Hammersmith and Fulham                         20.508867   \n",
              "22  E09000028               Southwark                         25.872093   \n",
              "23  E09000020  Kensington and Chelsea                         22.983425   \n",
              "24  E09000033             Westminster                         23.972603   \n",
              "25  E09000007                  Camden                         21.503865   \n",
              "26  E09000030           Tower Hamlets                         25.349873   \n",
              "27  E09000019               Islington                         23.353967   \n",
              "28  E09000012                 Hackney                         24.619696   \n",
              "29  E09000014                Haringey                         23.509015   \n",
              "30  E09000025                  Newham                         27.719147   \n",
              "31  E09000002    Barking and Dagenham                         29.457814   \n",
              "\n",
              "    Fast_Food_Density  IMD_Avg_Score  percent_green  population_density_ha  \\\n",
              "0            1.449230         11.381      52.424867                     48   \n",
              "1            2.173550         22.477      55.527790                     45   \n",
              "2            0.652746         14.163      68.356138                     22   \n",
              "3            1.714222         21.487      47.313020                     49   \n",
              "4            2.520508         22.710      43.958704                     61   \n",
              "5            0.297054         16.789      65.980651                     23   \n",
              "6            0.864300         18.223      54.596097                     27   \n",
              "7            2.159985         15.031      55.418726                     50   \n",
              "8            2.220544         25.558      39.936406                     76   \n",
              "9            1.314147         16.148      57.994299                     46   \n",
              "10           5.493101         26.661      40.249960                     87   \n",
              "11           2.934066         24.464      43.219748                     61   \n",
              "12           0.497772         16.273      42.918334                     41   \n",
              "13           1.167880         25.781      52.952754                     41   \n",
              "14           1.623378         25.209      44.355343                     71   \n",
              "15           6.972646         25.422      32.911124                    120   \n",
              "16           1.683137         17.203      53.563235                     54   \n",
              "17           2.622758         13.987      49.691710                     47   \n",
              "18           0.357379          9.425      61.991302                     35   \n",
              "19           1.727586         14.649      48.780888                     55   \n",
              "20           3.577497         16.611      39.009269                     96   \n",
              "21           5.946111         22.270      27.595121                    112   \n",
              "22           5.950502         25.811      37.665919                    111   \n",
              "23           7.025312         21.526      30.368157                    129   \n",
              "24          15.524246         20.339      31.197604                    126   \n",
              "25           8.352725         20.131      43.278949                    128   \n",
              "26          11.355745         27.913      25.381534                    168   \n",
              "27          10.769585         27.535      34.875685                    167   \n",
              "28           6.142044         32.526      38.793030                    147   \n",
              "29           4.696202         27.956      43.545834                     90   \n",
              "30           5.106527         29.577      30.641327                     98   \n",
              "31           0.740754         32.768      39.201168                     59   \n",
              "\n",
              "    non_working_proportion  non_white_proportion  \n",
              "0                40.486726                  31.7  \n",
              "1                51.419558                  51.6  \n",
              "2                41.860465                  23.5  \n",
              "3                70.084034                  55.9  \n",
              "4                69.247546                  56.8  \n",
              "5                45.768566                  24.7  \n",
              "6                53.670886                  51.8  \n",
              "7                60.512821                  63.5  \n",
              "8                59.895151                  65.4  \n",
              "9                57.359813                  42.3  \n",
              "10               40.371846                  48.5  \n",
              "11               48.993289                  44.3  \n",
              "12               55.610561                  28.1  \n",
              "13               63.230606                  47.9  \n",
              "14               51.906158                  47.2  \n",
              "15               41.924399                  45.0  \n",
              "16               61.881785                  65.2  \n",
              "17               44.793713                  31.7  \n",
              "18               40.438247                  19.5  \n",
              "19               53.131313                  39.8  \n",
              "20               46.507666                  32.2  \n",
              "21               49.725275                  36.8  \n",
              "22               49.346880                  48.6  \n",
              "23               58.032787                  36.3  \n",
              "24               64.800000                  44.8  \n",
              "25               54.752066                  40.5  \n",
              "26               70.579915                  60.6  \n",
              "27               56.354916                  37.8  \n",
              "28               66.011236                  46.9  \n",
              "29               36.883943                  43.0  \n",
              "30               66.704805                  69.2  \n",
              "31               53.260870                  55.1  "
            ],
            "text/html": [
              "\n",
              "  <div id=\"df-72e48d5f-93da-4e7a-bfff-4d6804698c76\" class=\"colab-df-container\">\n",
              "    <div>\n",
              "<style scoped>\n",
              "    .dataframe tbody tr th:only-of-type {\n",
              "        vertical-align: middle;\n",
              "    }\n",
              "\n",
              "    .dataframe tbody tr th {\n",
              "        vertical-align: top;\n",
              "    }\n",
              "\n",
              "    .dataframe thead th {\n",
              "        text-align: right;\n",
              "    }\n",
              "</style>\n",
              "<table border=\"1\" class=\"dataframe\">\n",
              "  <thead>\n",
              "    <tr style=\"text-align: right;\">\n",
              "      <th></th>\n",
              "      <th>gss_code</th>\n",
              "      <th>name</th>\n",
              "      <th>Year6_Obesity_Prevalence_2018-19</th>\n",
              "      <th>Fast_Food_Density</th>\n",
              "      <th>IMD_Avg_Score</th>\n",
              "      <th>percent_green</th>\n",
              "      <th>population_density_ha</th>\n",
              "      <th>non_working_proportion</th>\n",
              "      <th>non_white_proportion</th>\n",
              "    </tr>\n",
              "  </thead>\n",
              "  <tbody>\n",
              "    <tr>\n",
              "      <th>0</th>\n",
              "      <td>E09000021</td>\n",
              "      <td>Kingston upon Thames</td>\n",
              "      <td>14.239829</td>\n",
              "      <td>1.449230</td>\n",
              "      <td>11.381</td>\n",
              "      <td>52.424867</td>\n",
              "      <td>48</td>\n",
              "      <td>40.486726</td>\n",
              "      <td>31.7</td>\n",
              "    </tr>\n",
              "    <tr>\n",
              "      <th>1</th>\n",
              "      <td>E09000008</td>\n",
              "      <td>Croydon</td>\n",
              "      <td>24.523973</td>\n",
              "      <td>2.173550</td>\n",
              "      <td>22.477</td>\n",
              "      <td>55.527790</td>\n",
              "      <td>45</td>\n",
              "      <td>51.419558</td>\n",
              "      <td>51.6</td>\n",
              "    </tr>\n",
              "    <tr>\n",
              "      <th>2</th>\n",
              "      <td>E09000006</td>\n",
              "      <td>Bromley</td>\n",
              "      <td>17.807457</td>\n",
              "      <td>0.652746</td>\n",
              "      <td>14.163</td>\n",
              "      <td>68.356138</td>\n",
              "      <td>22</td>\n",
              "      <td>41.860465</td>\n",
              "      <td>23.5</td>\n",
              "    </tr>\n",
              "    <tr>\n",
              "      <th>3</th>\n",
              "      <td>E09000018</td>\n",
              "      <td>Hounslow</td>\n",
              "      <td>24.811558</td>\n",
              "      <td>1.714222</td>\n",
              "      <td>21.487</td>\n",
              "      <td>47.313020</td>\n",
              "      <td>49</td>\n",
              "      <td>70.084034</td>\n",
              "      <td>55.9</td>\n",
              "    </tr>\n",
              "    <tr>\n",
              "      <th>4</th>\n",
              "      <td>E09000009</td>\n",
              "      <td>Ealing</td>\n",
              "      <td>24.409449</td>\n",
              "      <td>2.520508</td>\n",
              "      <td>22.710</td>\n",
              "      <td>43.958704</td>\n",
              "      <td>61</td>\n",
              "      <td>69.247546</td>\n",
              "      <td>56.8</td>\n",
              "    </tr>\n",
              "    <tr>\n",
              "      <th>5</th>\n",
              "      <td>E09000016</td>\n",
              "      <td>Havering</td>\n",
              "      <td>21.467391</td>\n",
              "      <td>0.297054</td>\n",
              "      <td>16.789</td>\n",
              "      <td>65.980651</td>\n",
              "      <td>23</td>\n",
              "      <td>45.768566</td>\n",
              "      <td>24.7</td>\n",
              "    </tr>\n",
              "    <tr>\n",
              "      <th>6</th>\n",
              "      <td>E09000017</td>\n",
              "      <td>Hillingdon</td>\n",
              "      <td>23.589609</td>\n",
              "      <td>0.864300</td>\n",
              "      <td>18.223</td>\n",
              "      <td>54.596097</td>\n",
              "      <td>27</td>\n",
              "      <td>53.670886</td>\n",
              "      <td>51.8</td>\n",
              "    </tr>\n",
              "    <tr>\n",
              "      <th>7</th>\n",
              "      <td>E09000015</td>\n",
              "      <td>Harrow</td>\n",
              "      <td>20.048226</td>\n",
              "      <td>2.159985</td>\n",
              "      <td>15.031</td>\n",
              "      <td>55.418726</td>\n",
              "      <td>50</td>\n",
              "      <td>60.512821</td>\n",
              "      <td>63.5</td>\n",
              "    </tr>\n",
              "    <tr>\n",
              "      <th>8</th>\n",
              "      <td>E09000005</td>\n",
              "      <td>Brent</td>\n",
              "      <td>26.003254</td>\n",
              "      <td>2.220544</td>\n",
              "      <td>25.558</td>\n",
              "      <td>39.936406</td>\n",
              "      <td>76</td>\n",
              "      <td>59.895151</td>\n",
              "      <td>65.4</td>\n",
              "    </tr>\n",
              "    <tr>\n",
              "      <th>9</th>\n",
              "      <td>E09000003</td>\n",
              "      <td>Barnet</td>\n",
              "      <td>20.029204</td>\n",
              "      <td>1.314147</td>\n",
              "      <td>16.148</td>\n",
              "      <td>57.994299</td>\n",
              "      <td>46</td>\n",
              "      <td>57.359813</td>\n",
              "      <td>42.3</td>\n",
              "    </tr>\n",
              "    <tr>\n",
              "      <th>10</th>\n",
              "      <td>E09000023</td>\n",
              "      <td>Lewisham</td>\n",
              "      <td>22.440824</td>\n",
              "      <td>5.493101</td>\n",
              "      <td>26.661</td>\n",
              "      <td>40.249960</td>\n",
              "      <td>87</td>\n",
              "      <td>40.371846</td>\n",
              "      <td>48.5</td>\n",
              "    </tr>\n",
              "    <tr>\n",
              "      <th>11</th>\n",
              "      <td>E09000011</td>\n",
              "      <td>Greenwich</td>\n",
              "      <td>26.938160</td>\n",
              "      <td>2.934066</td>\n",
              "      <td>24.464</td>\n",
              "      <td>43.219748</td>\n",
              "      <td>61</td>\n",
              "      <td>48.993289</td>\n",
              "      <td>44.3</td>\n",
              "    </tr>\n",
              "    <tr>\n",
              "      <th>12</th>\n",
              "      <td>E09000004</td>\n",
              "      <td>Bexley</td>\n",
              "      <td>22.984508</td>\n",
              "      <td>0.497772</td>\n",
              "      <td>16.273</td>\n",
              "      <td>42.918334</td>\n",
              "      <td>41</td>\n",
              "      <td>55.610561</td>\n",
              "      <td>28.1</td>\n",
              "    </tr>\n",
              "    <tr>\n",
              "      <th>13</th>\n",
              "      <td>E09000010</td>\n",
              "      <td>Enfield</td>\n",
              "      <td>27.023320</td>\n",
              "      <td>1.167880</td>\n",
              "      <td>25.781</td>\n",
              "      <td>52.952754</td>\n",
              "      <td>41</td>\n",
              "      <td>63.230606</td>\n",
              "      <td>47.9</td>\n",
              "    </tr>\n",
              "    <tr>\n",
              "      <th>14</th>\n",
              "      <td>E09000031</td>\n",
              "      <td>Waltham Forest</td>\n",
              "      <td>23.715539</td>\n",
              "      <td>1.623378</td>\n",
              "      <td>25.209</td>\n",
              "      <td>44.355343</td>\n",
              "      <td>71</td>\n",
              "      <td>51.906158</td>\n",
              "      <td>47.2</td>\n",
              "    </tr>\n",
              "    <tr>\n",
              "      <th>15</th>\n",
              "      <td>E09000022</td>\n",
              "      <td>Lambeth</td>\n",
              "      <td>23.572170</td>\n",
              "      <td>6.972646</td>\n",
              "      <td>25.422</td>\n",
              "      <td>32.911124</td>\n",
              "      <td>120</td>\n",
              "      <td>41.924399</td>\n",
              "      <td>45.0</td>\n",
              "    </tr>\n",
              "    <tr>\n",
              "      <th>16</th>\n",
              "      <td>E09000026</td>\n",
              "      <td>Redbridge</td>\n",
              "      <td>24.099099</td>\n",
              "      <td>1.683137</td>\n",
              "      <td>17.203</td>\n",
              "      <td>53.563235</td>\n",
              "      <td>54</td>\n",
              "      <td>61.881785</td>\n",
              "      <td>65.2</td>\n",
              "    </tr>\n",
              "    <tr>\n",
              "      <th>17</th>\n",
              "      <td>E09000029</td>\n",
              "      <td>Sutton</td>\n",
              "      <td>19.837189</td>\n",
              "      <td>2.622758</td>\n",
              "      <td>13.987</td>\n",
              "      <td>49.691710</td>\n",
              "      <td>47</td>\n",
              "      <td>44.793713</td>\n",
              "      <td>31.7</td>\n",
              "    </tr>\n",
              "    <tr>\n",
              "      <th>18</th>\n",
              "      <td>E09000027</td>\n",
              "      <td>Richmond upon Thames</td>\n",
              "      <td>11.215792</td>\n",
              "      <td>0.357379</td>\n",
              "      <td>9.425</td>\n",
              "      <td>61.991302</td>\n",
              "      <td>35</td>\n",
              "      <td>40.438247</td>\n",
              "      <td>19.5</td>\n",
              "    </tr>\n",
              "    <tr>\n",
              "      <th>19</th>\n",
              "      <td>E09000024</td>\n",
              "      <td>Merton</td>\n",
              "      <td>19.729965</td>\n",
              "      <td>1.727586</td>\n",
              "      <td>14.649</td>\n",
              "      <td>48.780888</td>\n",
              "      <td>55</td>\n",
              "      <td>53.131313</td>\n",
              "      <td>39.8</td>\n",
              "    </tr>\n",
              "    <tr>\n",
              "      <th>20</th>\n",
              "      <td>E09000032</td>\n",
              "      <td>Wandsworth</td>\n",
              "      <td>19.270833</td>\n",
              "      <td>3.577497</td>\n",
              "      <td>16.611</td>\n",
              "      <td>39.009269</td>\n",
              "      <td>96</td>\n",
              "      <td>46.507666</td>\n",
              "      <td>32.2</td>\n",
              "    </tr>\n",
              "    <tr>\n",
              "      <th>21</th>\n",
              "      <td>E09000013</td>\n",
              "      <td>Hammersmith and Fulham</td>\n",
              "      <td>20.508867</td>\n",
              "      <td>5.946111</td>\n",
              "      <td>22.270</td>\n",
              "      <td>27.595121</td>\n",
              "      <td>112</td>\n",
              "      <td>49.725275</td>\n",
              "      <td>36.8</td>\n",
              "    </tr>\n",
              "    <tr>\n",
              "      <th>22</th>\n",
              "      <td>E09000028</td>\n",
              "      <td>Southwark</td>\n",
              "      <td>25.872093</td>\n",
              "      <td>5.950502</td>\n",
              "      <td>25.811</td>\n",
              "      <td>37.665919</td>\n",
              "      <td>111</td>\n",
              "      <td>49.346880</td>\n",
              "      <td>48.6</td>\n",
              "    </tr>\n",
              "    <tr>\n",
              "      <th>23</th>\n",
              "      <td>E09000020</td>\n",
              "      <td>Kensington and Chelsea</td>\n",
              "      <td>22.983425</td>\n",
              "      <td>7.025312</td>\n",
              "      <td>21.526</td>\n",
              "      <td>30.368157</td>\n",
              "      <td>129</td>\n",
              "      <td>58.032787</td>\n",
              "      <td>36.3</td>\n",
              "    </tr>\n",
              "    <tr>\n",
              "      <th>24</th>\n",
              "      <td>E09000033</td>\n",
              "      <td>Westminster</td>\n",
              "      <td>23.972603</td>\n",
              "      <td>15.524246</td>\n",
              "      <td>20.339</td>\n",
              "      <td>31.197604</td>\n",
              "      <td>126</td>\n",
              "      <td>64.800000</td>\n",
              "      <td>44.8</td>\n",
              "    </tr>\n",
              "    <tr>\n",
              "      <th>25</th>\n",
              "      <td>E09000007</td>\n",
              "      <td>Camden</td>\n",
              "      <td>21.503865</td>\n",
              "      <td>8.352725</td>\n",
              "      <td>20.131</td>\n",
              "      <td>43.278949</td>\n",
              "      <td>128</td>\n",
              "      <td>54.752066</td>\n",
              "      <td>40.5</td>\n",
              "    </tr>\n",
              "    <tr>\n",
              "      <th>26</th>\n",
              "      <td>E09000030</td>\n",
              "      <td>Tower Hamlets</td>\n",
              "      <td>25.349873</td>\n",
              "      <td>11.355745</td>\n",
              "      <td>27.913</td>\n",
              "      <td>25.381534</td>\n",
              "      <td>168</td>\n",
              "      <td>70.579915</td>\n",
              "      <td>60.6</td>\n",
              "    </tr>\n",
              "    <tr>\n",
              "      <th>27</th>\n",
              "      <td>E09000019</td>\n",
              "      <td>Islington</td>\n",
              "      <td>23.353967</td>\n",
              "      <td>10.769585</td>\n",
              "      <td>27.535</td>\n",
              "      <td>34.875685</td>\n",
              "      <td>167</td>\n",
              "      <td>56.354916</td>\n",
              "      <td>37.8</td>\n",
              "    </tr>\n",
              "    <tr>\n",
              "      <th>28</th>\n",
              "      <td>E09000012</td>\n",
              "      <td>Hackney</td>\n",
              "      <td>24.619696</td>\n",
              "      <td>6.142044</td>\n",
              "      <td>32.526</td>\n",
              "      <td>38.793030</td>\n",
              "      <td>147</td>\n",
              "      <td>66.011236</td>\n",
              "      <td>46.9</td>\n",
              "    </tr>\n",
              "    <tr>\n",
              "      <th>29</th>\n",
              "      <td>E09000014</td>\n",
              "      <td>Haringey</td>\n",
              "      <td>23.509015</td>\n",
              "      <td>4.696202</td>\n",
              "      <td>27.956</td>\n",
              "      <td>43.545834</td>\n",
              "      <td>90</td>\n",
              "      <td>36.883943</td>\n",
              "      <td>43.0</td>\n",
              "    </tr>\n",
              "    <tr>\n",
              "      <th>30</th>\n",
              "      <td>E09000025</td>\n",
              "      <td>Newham</td>\n",
              "      <td>27.719147</td>\n",
              "      <td>5.106527</td>\n",
              "      <td>29.577</td>\n",
              "      <td>30.641327</td>\n",
              "      <td>98</td>\n",
              "      <td>66.704805</td>\n",
              "      <td>69.2</td>\n",
              "    </tr>\n",
              "    <tr>\n",
              "      <th>31</th>\n",
              "      <td>E09000002</td>\n",
              "      <td>Barking and Dagenham</td>\n",
              "      <td>29.457814</td>\n",
              "      <td>0.740754</td>\n",
              "      <td>32.768</td>\n",
              "      <td>39.201168</td>\n",
              "      <td>59</td>\n",
              "      <td>53.260870</td>\n",
              "      <td>55.1</td>\n",
              "    </tr>\n",
              "  </tbody>\n",
              "</table>\n",
              "</div>\n",
              "    <div class=\"colab-df-buttons\">\n",
              "\n",
              "  <div class=\"colab-df-container\">\n",
              "    <button class=\"colab-df-convert\" onclick=\"convertToInteractive('df-72e48d5f-93da-4e7a-bfff-4d6804698c76')\"\n",
              "            title=\"Convert this dataframe to an interactive table.\"\n",
              "            style=\"display:none;\">\n",
              "\n",
              "  <svg xmlns=\"http://www.w3.org/2000/svg\" height=\"24px\" viewBox=\"0 -960 960 960\">\n",
              "    <path d=\"M120-120v-720h720v720H120Zm60-500h600v-160H180v160Zm220 220h160v-160H400v160Zm0 220h160v-160H400v160ZM180-400h160v-160H180v160Zm440 0h160v-160H620v160ZM180-180h160v-160H180v160Zm440 0h160v-160H620v160Z\"/>\n",
              "  </svg>\n",
              "    </button>\n",
              "\n",
              "  <style>\n",
              "    .colab-df-container {\n",
              "      display:flex;\n",
              "      gap: 12px;\n",
              "    }\n",
              "\n",
              "    .colab-df-convert {\n",
              "      background-color: #E8F0FE;\n",
              "      border: none;\n",
              "      border-radius: 50%;\n",
              "      cursor: pointer;\n",
              "      display: none;\n",
              "      fill: #1967D2;\n",
              "      height: 32px;\n",
              "      padding: 0 0 0 0;\n",
              "      width: 32px;\n",
              "    }\n",
              "\n",
              "    .colab-df-convert:hover {\n",
              "      background-color: #E2EBFA;\n",
              "      box-shadow: 0px 1px 2px rgba(60, 64, 67, 0.3), 0px 1px 3px 1px rgba(60, 64, 67, 0.15);\n",
              "      fill: #174EA6;\n",
              "    }\n",
              "\n",
              "    .colab-df-buttons div {\n",
              "      margin-bottom: 4px;\n",
              "    }\n",
              "\n",
              "    [theme=dark] .colab-df-convert {\n",
              "      background-color: #3B4455;\n",
              "      fill: #D2E3FC;\n",
              "    }\n",
              "\n",
              "    [theme=dark] .colab-df-convert:hover {\n",
              "      background-color: #434B5C;\n",
              "      box-shadow: 0px 1px 3px 1px rgba(0, 0, 0, 0.15);\n",
              "      filter: drop-shadow(0px 1px 2px rgba(0, 0, 0, 0.3));\n",
              "      fill: #FFFFFF;\n",
              "    }\n",
              "  </style>\n",
              "\n",
              "    <script>\n",
              "      const buttonEl =\n",
              "        document.querySelector('#df-72e48d5f-93da-4e7a-bfff-4d6804698c76 button.colab-df-convert');\n",
              "      buttonEl.style.display =\n",
              "        google.colab.kernel.accessAllowed ? 'block' : 'none';\n",
              "\n",
              "      async function convertToInteractive(key) {\n",
              "        const element = document.querySelector('#df-72e48d5f-93da-4e7a-bfff-4d6804698c76');\n",
              "        const dataTable =\n",
              "          await google.colab.kernel.invokeFunction('convertToInteractive',\n",
              "                                                    [key], {});\n",
              "        if (!dataTable) return;\n",
              "\n",
              "        const docLinkHtml = 'Like what you see? Visit the ' +\n",
              "          '<a target=\"_blank\" href=https://colab.research.google.com/notebooks/data_table.ipynb>data table notebook</a>'\n",
              "          + ' to learn more about interactive tables.';\n",
              "        element.innerHTML = '';\n",
              "        dataTable['output_type'] = 'display_data';\n",
              "        await google.colab.output.renderOutput(dataTable, element);\n",
              "        const docLink = document.createElement('div');\n",
              "        docLink.innerHTML = docLinkHtml;\n",
              "        element.appendChild(docLink);\n",
              "      }\n",
              "    </script>\n",
              "  </div>\n",
              "\n",
              "\n",
              "    <div id=\"df-58a877c7-72e6-4653-acf4-a059998642a3\">\n",
              "      <button class=\"colab-df-quickchart\" onclick=\"quickchart('df-58a877c7-72e6-4653-acf4-a059998642a3')\"\n",
              "                title=\"Suggest charts\"\n",
              "                style=\"display:none;\">\n",
              "\n",
              "<svg xmlns=\"http://www.w3.org/2000/svg\" height=\"24px\"viewBox=\"0 0 24 24\"\n",
              "     width=\"24px\">\n",
              "    <g>\n",
              "        <path d=\"M19 3H5c-1.1 0-2 .9-2 2v14c0 1.1.9 2 2 2h14c1.1 0 2-.9 2-2V5c0-1.1-.9-2-2-2zM9 17H7v-7h2v7zm4 0h-2V7h2v10zm4 0h-2v-4h2v4z\"/>\n",
              "    </g>\n",
              "</svg>\n",
              "      </button>\n",
              "\n",
              "<style>\n",
              "  .colab-df-quickchart {\n",
              "      --bg-color: #E8F0FE;\n",
              "      --fill-color: #1967D2;\n",
              "      --hover-bg-color: #E2EBFA;\n",
              "      --hover-fill-color: #174EA6;\n",
              "      --disabled-fill-color: #AAA;\n",
              "      --disabled-bg-color: #DDD;\n",
              "  }\n",
              "\n",
              "  [theme=dark] .colab-df-quickchart {\n",
              "      --bg-color: #3B4455;\n",
              "      --fill-color: #D2E3FC;\n",
              "      --hover-bg-color: #434B5C;\n",
              "      --hover-fill-color: #FFFFFF;\n",
              "      --disabled-bg-color: #3B4455;\n",
              "      --disabled-fill-color: #666;\n",
              "  }\n",
              "\n",
              "  .colab-df-quickchart {\n",
              "    background-color: var(--bg-color);\n",
              "    border: none;\n",
              "    border-radius: 50%;\n",
              "    cursor: pointer;\n",
              "    display: none;\n",
              "    fill: var(--fill-color);\n",
              "    height: 32px;\n",
              "    padding: 0;\n",
              "    width: 32px;\n",
              "  }\n",
              "\n",
              "  .colab-df-quickchart:hover {\n",
              "    background-color: var(--hover-bg-color);\n",
              "    box-shadow: 0 1px 2px rgba(60, 64, 67, 0.3), 0 1px 3px 1px rgba(60, 64, 67, 0.15);\n",
              "    fill: var(--button-hover-fill-color);\n",
              "  }\n",
              "\n",
              "  .colab-df-quickchart-complete:disabled,\n",
              "  .colab-df-quickchart-complete:disabled:hover {\n",
              "    background-color: var(--disabled-bg-color);\n",
              "    fill: var(--disabled-fill-color);\n",
              "    box-shadow: none;\n",
              "  }\n",
              "\n",
              "  .colab-df-spinner {\n",
              "    border: 2px solid var(--fill-color);\n",
              "    border-color: transparent;\n",
              "    border-bottom-color: var(--fill-color);\n",
              "    animation:\n",
              "      spin 1s steps(1) infinite;\n",
              "  }\n",
              "\n",
              "  @keyframes spin {\n",
              "    0% {\n",
              "      border-color: transparent;\n",
              "      border-bottom-color: var(--fill-color);\n",
              "      border-left-color: var(--fill-color);\n",
              "    }\n",
              "    20% {\n",
              "      border-color: transparent;\n",
              "      border-left-color: var(--fill-color);\n",
              "      border-top-color: var(--fill-color);\n",
              "    }\n",
              "    30% {\n",
              "      border-color: transparent;\n",
              "      border-left-color: var(--fill-color);\n",
              "      border-top-color: var(--fill-color);\n",
              "      border-right-color: var(--fill-color);\n",
              "    }\n",
              "    40% {\n",
              "      border-color: transparent;\n",
              "      border-right-color: var(--fill-color);\n",
              "      border-top-color: var(--fill-color);\n",
              "    }\n",
              "    60% {\n",
              "      border-color: transparent;\n",
              "      border-right-color: var(--fill-color);\n",
              "    }\n",
              "    80% {\n",
              "      border-color: transparent;\n",
              "      border-right-color: var(--fill-color);\n",
              "      border-bottom-color: var(--fill-color);\n",
              "    }\n",
              "    90% {\n",
              "      border-color: transparent;\n",
              "      border-bottom-color: var(--fill-color);\n",
              "    }\n",
              "  }\n",
              "</style>\n",
              "\n",
              "      <script>\n",
              "        async function quickchart(key) {\n",
              "          const quickchartButtonEl =\n",
              "            document.querySelector('#' + key + ' button');\n",
              "          quickchartButtonEl.disabled = true;  // To prevent multiple clicks.\n",
              "          quickchartButtonEl.classList.add('colab-df-spinner');\n",
              "          try {\n",
              "            const charts = await google.colab.kernel.invokeFunction(\n",
              "                'suggestCharts', [key], {});\n",
              "          } catch (error) {\n",
              "            console.error('Error during call to suggestCharts:', error);\n",
              "          }\n",
              "          quickchartButtonEl.classList.remove('colab-df-spinner');\n",
              "          quickchartButtonEl.classList.add('colab-df-quickchart-complete');\n",
              "        }\n",
              "        (() => {\n",
              "          let quickchartButtonEl =\n",
              "            document.querySelector('#df-58a877c7-72e6-4653-acf4-a059998642a3 button');\n",
              "          quickchartButtonEl.style.display =\n",
              "            google.colab.kernel.accessAllowed ? 'block' : 'none';\n",
              "        })();\n",
              "      </script>\n",
              "    </div>\n",
              "\n",
              "  <div id=\"id_9afb6e74-52e6-4fad-af87-d5014e82b81c\">\n",
              "    <style>\n",
              "      .colab-df-generate {\n",
              "        background-color: #E8F0FE;\n",
              "        border: none;\n",
              "        border-radius: 50%;\n",
              "        cursor: pointer;\n",
              "        display: none;\n",
              "        fill: #1967D2;\n",
              "        height: 32px;\n",
              "        padding: 0 0 0 0;\n",
              "        width: 32px;\n",
              "      }\n",
              "\n",
              "      .colab-df-generate:hover {\n",
              "        background-color: #E2EBFA;\n",
              "        box-shadow: 0px 1px 2px rgba(60, 64, 67, 0.3), 0px 1px 3px 1px rgba(60, 64, 67, 0.15);\n",
              "        fill: #174EA6;\n",
              "      }\n",
              "\n",
              "      [theme=dark] .colab-df-generate {\n",
              "        background-color: #3B4455;\n",
              "        fill: #D2E3FC;\n",
              "      }\n",
              "\n",
              "      [theme=dark] .colab-df-generate:hover {\n",
              "        background-color: #434B5C;\n",
              "        box-shadow: 0px 1px 3px 1px rgba(0, 0, 0, 0.15);\n",
              "        filter: drop-shadow(0px 1px 2px rgba(0, 0, 0, 0.3));\n",
              "        fill: #FFFFFF;\n",
              "      }\n",
              "    </style>\n",
              "    <button class=\"colab-df-generate\" onclick=\"generateWithVariable('final_data')\"\n",
              "            title=\"Generate code using this dataframe.\"\n",
              "            style=\"display:none;\">\n",
              "\n",
              "  <svg xmlns=\"http://www.w3.org/2000/svg\" height=\"24px\"viewBox=\"0 0 24 24\"\n",
              "       width=\"24px\">\n",
              "    <path d=\"M7,19H8.4L18.45,9,17,7.55,7,17.6ZM5,21V16.75L18.45,3.32a2,2,0,0,1,2.83,0l1.4,1.43a1.91,1.91,0,0,1,.58,1.4,1.91,1.91,0,0,1-.58,1.4L9.25,21ZM18.45,9,17,7.55Zm-12,3A5.31,5.31,0,0,0,4.9,8.1,5.31,5.31,0,0,0,1,6.5,5.31,5.31,0,0,0,4.9,4.9,5.31,5.31,0,0,0,6.5,1,5.31,5.31,0,0,0,8.1,4.9,5.31,5.31,0,0,0,12,6.5,5.46,5.46,0,0,0,6.5,12Z\"/>\n",
              "  </svg>\n",
              "    </button>\n",
              "    <script>\n",
              "      (() => {\n",
              "      const buttonEl =\n",
              "        document.querySelector('#id_9afb6e74-52e6-4fad-af87-d5014e82b81c button.colab-df-generate');\n",
              "      buttonEl.style.display =\n",
              "        google.colab.kernel.accessAllowed ? 'block' : 'none';\n",
              "\n",
              "      buttonEl.onclick = () => {\n",
              "        google.colab.notebook.generateWithVariable('final_data');\n",
              "      }\n",
              "      })();\n",
              "    </script>\n",
              "  </div>\n",
              "\n",
              "    </div>\n",
              "  </div>\n"
            ],
            "application/vnd.google.colaboratory.intrinsic+json": {
              "type": "dataframe",
              "variable_name": "final_data",
              "summary": "{\n  \"name\": \"final_data\",\n  \"rows\": 32,\n  \"fields\": [\n    {\n      \"column\": \"gss_code\",\n      \"properties\": {\n        \"dtype\": \"string\",\n        \"num_unique_values\": 32,\n        \"samples\": [\n          \"E09000014\",\n          \"E09000022\",\n          \"E09000033\"\n        ],\n        \"semantic_type\": \"\",\n        \"description\": \"\"\n      }\n    },\n    {\n      \"column\": \"name\",\n      \"properties\": {\n        \"dtype\": \"string\",\n        \"num_unique_values\": 32,\n        \"samples\": [\n          \"Haringey\",\n          \"Lambeth\",\n          \"Westminster\"\n        ],\n        \"semantic_type\": \"\",\n        \"description\": \"\"\n      }\n    },\n    {\n      \"column\": \"Year6_Obesity_Prevalence_2018-19\",\n      \"properties\": {\n        \"dtype\": \"number\",\n        \"std\": 3.7479534953842055,\n        \"min\": 11.2157918349035,\n        \"max\": 29.4578138590896,\n        \"num_unique_values\": 32,\n        \"samples\": [\n          23.5090152565881,\n          23.5721703011423,\n          23.972602739726\n        ],\n        \"semantic_type\": \"\",\n        \"description\": \"\"\n      }\n    },\n    {\n      \"column\": \"Fast_Food_Density\",\n      \"properties\": {\n        \"dtype\": \"number\",\n        \"std\": 3.6586678311436978,\n        \"min\": 0.2970540970241966,\n        \"max\": 15.524246107219561,\n        \"num_unique_values\": 32,\n        \"samples\": [\n          4.6962024418934,\n          6.9726462628382455,\n          15.524246107219561\n        ],\n        \"semantic_type\": \"\",\n        \"description\": \"\"\n      }\n    },\n    {\n      \"column\": \"IMD_Avg_Score\",\n      \"properties\": {\n        \"dtype\": \"number\",\n        \"std\": 6.05273742788895,\n        \"min\": 9.425,\n        \"max\": 32.768,\n        \"num_unique_values\": 32,\n        \"samples\": [\n          27.956,\n          25.422,\n          20.339\n        ],\n        \"semantic_type\": \"\",\n        \"description\": \"\"\n      }\n    },\n    {\n      \"column\": \"percent_green\",\n      \"properties\": {\n        \"dtype\": \"number\",\n        \"std\": 11.010521199588483,\n        \"min\": 25.381533996788754,\n        \"max\": 68.35613819727932,\n        \"num_unique_values\": 32,\n        \"samples\": [\n          43.54583374648324,\n          32.911123668751195,\n          31.197604386725764\n        ],\n        \"semantic_type\": \"\",\n        \"description\": \"\"\n      }\n    },\n    {\n      \"column\": \"population_density_ha\",\n      \"properties\": {\n        \"dtype\": \"number\",\n        \"std\": 41,\n        \"min\": 22,\n        \"max\": 168,\n        \"num_unique_values\": 30,\n        \"samples\": [\n          90,\n          47,\n          128\n        ],\n        \"semantic_type\": \"\",\n        \"description\": \"\"\n      }\n    },\n    {\n      \"column\": \"non_working_proportion\",\n      \"properties\": {\n        \"dtype\": \"number\",\n        \"std\": 9.627681849432737,\n        \"min\": 36.88394276629571,\n        \"max\": 70.57991513437058,\n        \"num_unique_values\": 32,\n        \"samples\": [\n          36.88394276629571,\n          41.92439862542955,\n          64.8\n        ],\n        \"semantic_type\": \"\",\n        \"description\": \"\"\n      }\n    },\n    {\n      \"column\": \"non_white_proportion\",\n      \"properties\": {\n        \"dtype\": \"number\",\n        \"std\": 12.78687425549366,\n        \"min\": 19.5,\n        \"max\": 69.2,\n        \"num_unique_values\": 31,\n        \"samples\": [\n          46.9,\n          45.0,\n          44.8\n        ],\n        \"semantic_type\": \"\",\n        \"description\": \"\"\n      }\n    }\n  ]\n}"
            }
          },
          "metadata": {},
          "execution_count": 18
        }
      ]
    },
    {
      "cell_type": "markdown",
      "source": [
        "Checking for missing values"
      ],
      "metadata": {
        "id": "fqGyMGN9yfmB"
      }
    },
    {
      "cell_type": "code",
      "source": [
        "print(\"\\nMissing value cases：\")\n",
        "print(final_data.isnull().sum())"
      ],
      "metadata": {
        "colab": {
          "base_uri": "https://localhost:8080/",
          "height": 0
        },
        "id": "Z8P0nUG-ycQm",
        "outputId": "99c72b01-0fde-4925-b942-b45ea2cc35ef"
      },
      "execution_count": 19,
      "outputs": [
        {
          "output_type": "stream",
          "name": "stdout",
          "text": [
            "\n",
            "Missing value cases：\n",
            "gss_code                            0\n",
            "name                                0\n",
            "Year6_Obesity_Prevalence_2018-19    0\n",
            "Fast_Food_Density                   0\n",
            "IMD_Avg_Score                       0\n",
            "percent_green                       0\n",
            "population_density_ha               0\n",
            "non_working_proportion              0\n",
            "non_white_proportion                0\n",
            "dtype: int64\n"
          ]
        }
      ]
    },
    {
      "cell_type": "markdown",
      "source": [
        "Generate data summaries"
      ],
      "metadata": {
        "id": "_ERud-QyyiYT"
      }
    },
    {
      "cell_type": "code",
      "source": [
        "print(\"\\n\" + \"=\"*50)\n",
        "print(\"Data Summary\")\n",
        "print(\"=\"*50)\n",
        "print(f\"Total number of records: {len(final_data)}\")\n",
        "print(f\"Total number of features: {len(final_data.columns)}\")\n",
        "print(\"\\nSummary statistics for each feature:\")\n",
        "print(final_data.describe())"
      ],
      "metadata": {
        "colab": {
          "base_uri": "https://localhost:8080/",
          "height": 0
        },
        "id": "gXoigBV2yeBz",
        "outputId": "68fbfc0b-032f-4580-fe8d-2a08709d3583"
      },
      "execution_count": 20,
      "outputs": [
        {
          "output_type": "stream",
          "name": "stdout",
          "text": [
            "\n",
            "==================================================\n",
            "Data Summary\n",
            "==================================================\n",
            "Total number of records: 32\n",
            "Total number of features: 9\n",
            "\n",
            "Summary statistics for each feature:\n",
            "       Year6_Obesity_Prevalence_2018-19  Fast_Food_Density  IMD_Avg_Score  \\\n",
            "count                         32.000000          32.000000      32.000000   \n",
            "mean                          22.706491           3.926039      21.500125   \n",
            "std                            3.747953           3.658668       6.052737   \n",
            "min                           11.215792           0.297054       9.425000   \n",
            "25%                           20.393706           1.415459      16.526500   \n",
            "50%                           23.540593           2.370526      21.898000   \n",
            "75%                           24.667661           5.947209      25.788500   \n",
            "max                           29.457814          15.524246      32.768000   \n",
            "\n",
            "       percent_green  population_density_ha  non_working_proportion  \\\n",
            "count      32.000000              32.000000               32.000000   \n",
            "mean       44.802959              77.812500               53.923370   \n",
            "std        11.010521              41.809427                9.627682   \n",
            "min        25.381534              22.000000               36.883943   \n",
            "25%        38.511252              46.750000               46.322891   \n",
            "50%        43.412392              61.000000               53.465878   \n",
            "75%        53.105374             111.250000               60.855062   \n",
            "max        68.356138             168.000000               70.579915   \n",
            "\n",
            "       non_white_proportion  \n",
            "count             32.000000  \n",
            "mean              44.881250  \n",
            "std               12.786874  \n",
            "min               19.500000  \n",
            "25%               36.675000  \n",
            "50%               44.900000  \n",
            "75%               52.625000  \n",
            "max               69.200000  \n"
          ]
        }
      ]
    },
    {
      "cell_type": "markdown",
      "metadata": {
        "id": "1UBi54q4Bg0Q"
      },
      "source": [
        "## Methodology\n",
        "\n",
        "[[ go back to the top ]](#Table-of-contents)"
      ]
    },
    {
      "cell_type": "markdown",
      "metadata": {
        "id": "QNdmIlVFBg0Q"
      },
      "source": [
        "*[Note: a flow chart that describes the methodology is strongly encouraged - see the example below. This flow chart can be made using Microsoft powerpoint or visio or other software]*\n",
        "\n",
        "Source: see [link](https://linkinghub.elsevier.com/retrieve/pii/S2210670722004437).\n",
        "\n",
        "![image.png](attachment:image.png)"
      ]
    },
    {
      "cell_type": "markdown",
      "metadata": {
        "id": "rFhu73EUBg0Q"
      },
      "source": [
        "Based on extensive previous research, socio-economic status (SES) and built environment characteristics have been identified as key determinants of childhood obesity. After testing a range of socio-economic and environmental variables, six explanatory variables and one outcome variable were selected for analysis. Accordingly, multiple linear regression was used as the primary analytical method, supplemented by Ridge regression and Random Forest to ensure robustness."
      ]
    },
    {
      "cell_type": "markdown",
      "source": [
        "First look at the contents of the merged data"
      ],
      "metadata": {
        "id": "Qz3irjL4XXKE"
      }
    },
    {
      "cell_type": "code",
      "source": [
        "final_data.head()"
      ],
      "metadata": {
        "colab": {
          "base_uri": "https://localhost:8080/",
          "height": 278
        },
        "id": "sc7zz65UIF2F",
        "outputId": "50992c9b-b1d8-4fd1-b80b-cfe75958949e"
      },
      "execution_count": 21,
      "outputs": [
        {
          "output_type": "execute_result",
          "data": {
            "text/plain": [
              "    gss_code                  name  Year6_Obesity_Prevalence_2018-19  \\\n",
              "0  E09000021  Kingston upon Thames                         14.239829   \n",
              "1  E09000008               Croydon                         24.523973   \n",
              "2  E09000006               Bromley                         17.807457   \n",
              "3  E09000018              Hounslow                         24.811558   \n",
              "4  E09000009                Ealing                         24.409449   \n",
              "\n",
              "   Fast_Food_Density  IMD_Avg_Score  percent_green  population_density_ha  \\\n",
              "0           1.449230         11.381      52.424867                     48   \n",
              "1           2.173550         22.477      55.527790                     45   \n",
              "2           0.652746         14.163      68.356138                     22   \n",
              "3           1.714222         21.487      47.313020                     49   \n",
              "4           2.520508         22.710      43.958704                     61   \n",
              "\n",
              "   non_working_proportion  non_white_proportion  \n",
              "0               40.486726                  31.7  \n",
              "1               51.419558                  51.6  \n",
              "2               41.860465                  23.5  \n",
              "3               70.084034                  55.9  \n",
              "4               69.247546                  56.8  "
            ],
            "text/html": [
              "\n",
              "  <div id=\"df-17cd9339-8ad7-40d8-8caa-c4d6391ce8d9\" class=\"colab-df-container\">\n",
              "    <div>\n",
              "<style scoped>\n",
              "    .dataframe tbody tr th:only-of-type {\n",
              "        vertical-align: middle;\n",
              "    }\n",
              "\n",
              "    .dataframe tbody tr th {\n",
              "        vertical-align: top;\n",
              "    }\n",
              "\n",
              "    .dataframe thead th {\n",
              "        text-align: right;\n",
              "    }\n",
              "</style>\n",
              "<table border=\"1\" class=\"dataframe\">\n",
              "  <thead>\n",
              "    <tr style=\"text-align: right;\">\n",
              "      <th></th>\n",
              "      <th>gss_code</th>\n",
              "      <th>name</th>\n",
              "      <th>Year6_Obesity_Prevalence_2018-19</th>\n",
              "      <th>Fast_Food_Density</th>\n",
              "      <th>IMD_Avg_Score</th>\n",
              "      <th>percent_green</th>\n",
              "      <th>population_density_ha</th>\n",
              "      <th>non_working_proportion</th>\n",
              "      <th>non_white_proportion</th>\n",
              "    </tr>\n",
              "  </thead>\n",
              "  <tbody>\n",
              "    <tr>\n",
              "      <th>0</th>\n",
              "      <td>E09000021</td>\n",
              "      <td>Kingston upon Thames</td>\n",
              "      <td>14.239829</td>\n",
              "      <td>1.449230</td>\n",
              "      <td>11.381</td>\n",
              "      <td>52.424867</td>\n",
              "      <td>48</td>\n",
              "      <td>40.486726</td>\n",
              "      <td>31.7</td>\n",
              "    </tr>\n",
              "    <tr>\n",
              "      <th>1</th>\n",
              "      <td>E09000008</td>\n",
              "      <td>Croydon</td>\n",
              "      <td>24.523973</td>\n",
              "      <td>2.173550</td>\n",
              "      <td>22.477</td>\n",
              "      <td>55.527790</td>\n",
              "      <td>45</td>\n",
              "      <td>51.419558</td>\n",
              "      <td>51.6</td>\n",
              "    </tr>\n",
              "    <tr>\n",
              "      <th>2</th>\n",
              "      <td>E09000006</td>\n",
              "      <td>Bromley</td>\n",
              "      <td>17.807457</td>\n",
              "      <td>0.652746</td>\n",
              "      <td>14.163</td>\n",
              "      <td>68.356138</td>\n",
              "      <td>22</td>\n",
              "      <td>41.860465</td>\n",
              "      <td>23.5</td>\n",
              "    </tr>\n",
              "    <tr>\n",
              "      <th>3</th>\n",
              "      <td>E09000018</td>\n",
              "      <td>Hounslow</td>\n",
              "      <td>24.811558</td>\n",
              "      <td>1.714222</td>\n",
              "      <td>21.487</td>\n",
              "      <td>47.313020</td>\n",
              "      <td>49</td>\n",
              "      <td>70.084034</td>\n",
              "      <td>55.9</td>\n",
              "    </tr>\n",
              "    <tr>\n",
              "      <th>4</th>\n",
              "      <td>E09000009</td>\n",
              "      <td>Ealing</td>\n",
              "      <td>24.409449</td>\n",
              "      <td>2.520508</td>\n",
              "      <td>22.710</td>\n",
              "      <td>43.958704</td>\n",
              "      <td>61</td>\n",
              "      <td>69.247546</td>\n",
              "      <td>56.8</td>\n",
              "    </tr>\n",
              "  </tbody>\n",
              "</table>\n",
              "</div>\n",
              "    <div class=\"colab-df-buttons\">\n",
              "\n",
              "  <div class=\"colab-df-container\">\n",
              "    <button class=\"colab-df-convert\" onclick=\"convertToInteractive('df-17cd9339-8ad7-40d8-8caa-c4d6391ce8d9')\"\n",
              "            title=\"Convert this dataframe to an interactive table.\"\n",
              "            style=\"display:none;\">\n",
              "\n",
              "  <svg xmlns=\"http://www.w3.org/2000/svg\" height=\"24px\" viewBox=\"0 -960 960 960\">\n",
              "    <path d=\"M120-120v-720h720v720H120Zm60-500h600v-160H180v160Zm220 220h160v-160H400v160Zm0 220h160v-160H400v160ZM180-400h160v-160H180v160Zm440 0h160v-160H620v160ZM180-180h160v-160H180v160Zm440 0h160v-160H620v160Z\"/>\n",
              "  </svg>\n",
              "    </button>\n",
              "\n",
              "  <style>\n",
              "    .colab-df-container {\n",
              "      display:flex;\n",
              "      gap: 12px;\n",
              "    }\n",
              "\n",
              "    .colab-df-convert {\n",
              "      background-color: #E8F0FE;\n",
              "      border: none;\n",
              "      border-radius: 50%;\n",
              "      cursor: pointer;\n",
              "      display: none;\n",
              "      fill: #1967D2;\n",
              "      height: 32px;\n",
              "      padding: 0 0 0 0;\n",
              "      width: 32px;\n",
              "    }\n",
              "\n",
              "    .colab-df-convert:hover {\n",
              "      background-color: #E2EBFA;\n",
              "      box-shadow: 0px 1px 2px rgba(60, 64, 67, 0.3), 0px 1px 3px 1px rgba(60, 64, 67, 0.15);\n",
              "      fill: #174EA6;\n",
              "    }\n",
              "\n",
              "    .colab-df-buttons div {\n",
              "      margin-bottom: 4px;\n",
              "    }\n",
              "\n",
              "    [theme=dark] .colab-df-convert {\n",
              "      background-color: #3B4455;\n",
              "      fill: #D2E3FC;\n",
              "    }\n",
              "\n",
              "    [theme=dark] .colab-df-convert:hover {\n",
              "      background-color: #434B5C;\n",
              "      box-shadow: 0px 1px 3px 1px rgba(0, 0, 0, 0.15);\n",
              "      filter: drop-shadow(0px 1px 2px rgba(0, 0, 0, 0.3));\n",
              "      fill: #FFFFFF;\n",
              "    }\n",
              "  </style>\n",
              "\n",
              "    <script>\n",
              "      const buttonEl =\n",
              "        document.querySelector('#df-17cd9339-8ad7-40d8-8caa-c4d6391ce8d9 button.colab-df-convert');\n",
              "      buttonEl.style.display =\n",
              "        google.colab.kernel.accessAllowed ? 'block' : 'none';\n",
              "\n",
              "      async function convertToInteractive(key) {\n",
              "        const element = document.querySelector('#df-17cd9339-8ad7-40d8-8caa-c4d6391ce8d9');\n",
              "        const dataTable =\n",
              "          await google.colab.kernel.invokeFunction('convertToInteractive',\n",
              "                                                    [key], {});\n",
              "        if (!dataTable) return;\n",
              "\n",
              "        const docLinkHtml = 'Like what you see? Visit the ' +\n",
              "          '<a target=\"_blank\" href=https://colab.research.google.com/notebooks/data_table.ipynb>data table notebook</a>'\n",
              "          + ' to learn more about interactive tables.';\n",
              "        element.innerHTML = '';\n",
              "        dataTable['output_type'] = 'display_data';\n",
              "        await google.colab.output.renderOutput(dataTable, element);\n",
              "        const docLink = document.createElement('div');\n",
              "        docLink.innerHTML = docLinkHtml;\n",
              "        element.appendChild(docLink);\n",
              "      }\n",
              "    </script>\n",
              "  </div>\n",
              "\n",
              "\n",
              "    <div id=\"df-50856090-25ef-4959-8a0b-9a187bd5f0bd\">\n",
              "      <button class=\"colab-df-quickchart\" onclick=\"quickchart('df-50856090-25ef-4959-8a0b-9a187bd5f0bd')\"\n",
              "                title=\"Suggest charts\"\n",
              "                style=\"display:none;\">\n",
              "\n",
              "<svg xmlns=\"http://www.w3.org/2000/svg\" height=\"24px\"viewBox=\"0 0 24 24\"\n",
              "     width=\"24px\">\n",
              "    <g>\n",
              "        <path d=\"M19 3H5c-1.1 0-2 .9-2 2v14c0 1.1.9 2 2 2h14c1.1 0 2-.9 2-2V5c0-1.1-.9-2-2-2zM9 17H7v-7h2v7zm4 0h-2V7h2v10zm4 0h-2v-4h2v4z\"/>\n",
              "    </g>\n",
              "</svg>\n",
              "      </button>\n",
              "\n",
              "<style>\n",
              "  .colab-df-quickchart {\n",
              "      --bg-color: #E8F0FE;\n",
              "      --fill-color: #1967D2;\n",
              "      --hover-bg-color: #E2EBFA;\n",
              "      --hover-fill-color: #174EA6;\n",
              "      --disabled-fill-color: #AAA;\n",
              "      --disabled-bg-color: #DDD;\n",
              "  }\n",
              "\n",
              "  [theme=dark] .colab-df-quickchart {\n",
              "      --bg-color: #3B4455;\n",
              "      --fill-color: #D2E3FC;\n",
              "      --hover-bg-color: #434B5C;\n",
              "      --hover-fill-color: #FFFFFF;\n",
              "      --disabled-bg-color: #3B4455;\n",
              "      --disabled-fill-color: #666;\n",
              "  }\n",
              "\n",
              "  .colab-df-quickchart {\n",
              "    background-color: var(--bg-color);\n",
              "    border: none;\n",
              "    border-radius: 50%;\n",
              "    cursor: pointer;\n",
              "    display: none;\n",
              "    fill: var(--fill-color);\n",
              "    height: 32px;\n",
              "    padding: 0;\n",
              "    width: 32px;\n",
              "  }\n",
              "\n",
              "  .colab-df-quickchart:hover {\n",
              "    background-color: var(--hover-bg-color);\n",
              "    box-shadow: 0 1px 2px rgba(60, 64, 67, 0.3), 0 1px 3px 1px rgba(60, 64, 67, 0.15);\n",
              "    fill: var(--button-hover-fill-color);\n",
              "  }\n",
              "\n",
              "  .colab-df-quickchart-complete:disabled,\n",
              "  .colab-df-quickchart-complete:disabled:hover {\n",
              "    background-color: var(--disabled-bg-color);\n",
              "    fill: var(--disabled-fill-color);\n",
              "    box-shadow: none;\n",
              "  }\n",
              "\n",
              "  .colab-df-spinner {\n",
              "    border: 2px solid var(--fill-color);\n",
              "    border-color: transparent;\n",
              "    border-bottom-color: var(--fill-color);\n",
              "    animation:\n",
              "      spin 1s steps(1) infinite;\n",
              "  }\n",
              "\n",
              "  @keyframes spin {\n",
              "    0% {\n",
              "      border-color: transparent;\n",
              "      border-bottom-color: var(--fill-color);\n",
              "      border-left-color: var(--fill-color);\n",
              "    }\n",
              "    20% {\n",
              "      border-color: transparent;\n",
              "      border-left-color: var(--fill-color);\n",
              "      border-top-color: var(--fill-color);\n",
              "    }\n",
              "    30% {\n",
              "      border-color: transparent;\n",
              "      border-left-color: var(--fill-color);\n",
              "      border-top-color: var(--fill-color);\n",
              "      border-right-color: var(--fill-color);\n",
              "    }\n",
              "    40% {\n",
              "      border-color: transparent;\n",
              "      border-right-color: var(--fill-color);\n",
              "      border-top-color: var(--fill-color);\n",
              "    }\n",
              "    60% {\n",
              "      border-color: transparent;\n",
              "      border-right-color: var(--fill-color);\n",
              "    }\n",
              "    80% {\n",
              "      border-color: transparent;\n",
              "      border-right-color: var(--fill-color);\n",
              "      border-bottom-color: var(--fill-color);\n",
              "    }\n",
              "    90% {\n",
              "      border-color: transparent;\n",
              "      border-bottom-color: var(--fill-color);\n",
              "    }\n",
              "  }\n",
              "</style>\n",
              "\n",
              "      <script>\n",
              "        async function quickchart(key) {\n",
              "          const quickchartButtonEl =\n",
              "            document.querySelector('#' + key + ' button');\n",
              "          quickchartButtonEl.disabled = true;  // To prevent multiple clicks.\n",
              "          quickchartButtonEl.classList.add('colab-df-spinner');\n",
              "          try {\n",
              "            const charts = await google.colab.kernel.invokeFunction(\n",
              "                'suggestCharts', [key], {});\n",
              "          } catch (error) {\n",
              "            console.error('Error during call to suggestCharts:', error);\n",
              "          }\n",
              "          quickchartButtonEl.classList.remove('colab-df-spinner');\n",
              "          quickchartButtonEl.classList.add('colab-df-quickchart-complete');\n",
              "        }\n",
              "        (() => {\n",
              "          let quickchartButtonEl =\n",
              "            document.querySelector('#df-50856090-25ef-4959-8a0b-9a187bd5f0bd button');\n",
              "          quickchartButtonEl.style.display =\n",
              "            google.colab.kernel.accessAllowed ? 'block' : 'none';\n",
              "        })();\n",
              "      </script>\n",
              "    </div>\n",
              "\n",
              "    </div>\n",
              "  </div>\n"
            ],
            "application/vnd.google.colaboratory.intrinsic+json": {
              "type": "dataframe",
              "variable_name": "final_data",
              "summary": "{\n  \"name\": \"final_data\",\n  \"rows\": 32,\n  \"fields\": [\n    {\n      \"column\": \"gss_code\",\n      \"properties\": {\n        \"dtype\": \"string\",\n        \"num_unique_values\": 32,\n        \"samples\": [\n          \"E09000014\",\n          \"E09000022\",\n          \"E09000033\"\n        ],\n        \"semantic_type\": \"\",\n        \"description\": \"\"\n      }\n    },\n    {\n      \"column\": \"name\",\n      \"properties\": {\n        \"dtype\": \"string\",\n        \"num_unique_values\": 32,\n        \"samples\": [\n          \"Haringey\",\n          \"Lambeth\",\n          \"Westminster\"\n        ],\n        \"semantic_type\": \"\",\n        \"description\": \"\"\n      }\n    },\n    {\n      \"column\": \"Year6_Obesity_Prevalence_2018-19\",\n      \"properties\": {\n        \"dtype\": \"number\",\n        \"std\": 3.7479534953842055,\n        \"min\": 11.2157918349035,\n        \"max\": 29.4578138590896,\n        \"num_unique_values\": 32,\n        \"samples\": [\n          23.5090152565881,\n          23.5721703011423,\n          23.972602739726\n        ],\n        \"semantic_type\": \"\",\n        \"description\": \"\"\n      }\n    },\n    {\n      \"column\": \"Fast_Food_Density\",\n      \"properties\": {\n        \"dtype\": \"number\",\n        \"std\": 3.6586678311436978,\n        \"min\": 0.2970540970241966,\n        \"max\": 15.524246107219561,\n        \"num_unique_values\": 32,\n        \"samples\": [\n          4.6962024418934,\n          6.9726462628382455,\n          15.524246107219561\n        ],\n        \"semantic_type\": \"\",\n        \"description\": \"\"\n      }\n    },\n    {\n      \"column\": \"IMD_Avg_Score\",\n      \"properties\": {\n        \"dtype\": \"number\",\n        \"std\": 6.05273742788895,\n        \"min\": 9.425,\n        \"max\": 32.768,\n        \"num_unique_values\": 32,\n        \"samples\": [\n          27.956,\n          25.422,\n          20.339\n        ],\n        \"semantic_type\": \"\",\n        \"description\": \"\"\n      }\n    },\n    {\n      \"column\": \"percent_green\",\n      \"properties\": {\n        \"dtype\": \"number\",\n        \"std\": 11.010521199588483,\n        \"min\": 25.381533996788754,\n        \"max\": 68.35613819727932,\n        \"num_unique_values\": 32,\n        \"samples\": [\n          43.54583374648324,\n          32.911123668751195,\n          31.197604386725764\n        ],\n        \"semantic_type\": \"\",\n        \"description\": \"\"\n      }\n    },\n    {\n      \"column\": \"population_density_ha\",\n      \"properties\": {\n        \"dtype\": \"number\",\n        \"std\": 41,\n        \"min\": 22,\n        \"max\": 168,\n        \"num_unique_values\": 30,\n        \"samples\": [\n          90,\n          47,\n          128\n        ],\n        \"semantic_type\": \"\",\n        \"description\": \"\"\n      }\n    },\n    {\n      \"column\": \"non_working_proportion\",\n      \"properties\": {\n        \"dtype\": \"number\",\n        \"std\": 9.627681849432737,\n        \"min\": 36.88394276629571,\n        \"max\": 70.57991513437058,\n        \"num_unique_values\": 32,\n        \"samples\": [\n          36.88394276629571,\n          41.92439862542955,\n          64.8\n        ],\n        \"semantic_type\": \"\",\n        \"description\": \"\"\n      }\n    },\n    {\n      \"column\": \"non_white_proportion\",\n      \"properties\": {\n        \"dtype\": \"number\",\n        \"std\": 12.78687425549366,\n        \"min\": 19.5,\n        \"max\": 69.2,\n        \"num_unique_values\": 31,\n        \"samples\": [\n          46.9,\n          45.0,\n          44.8\n        ],\n        \"semantic_type\": \"\",\n        \"description\": \"\"\n      }\n    }\n  ]\n}"
            }
          },
          "metadata": {},
          "execution_count": 21
        }
      ]
    },
    {
      "cell_type": "code",
      "source": [
        "boroughs.head()"
      ],
      "metadata": {
        "colab": {
          "base_uri": "https://localhost:8080/",
          "height": 293
        },
        "id": "8pdmwggjJ4bP",
        "outputId": "1e9ee24d-4fe5-49e8-d9a5-3d2d340ca7c9"
      },
      "execution_count": 22,
      "outputs": [
        {
          "output_type": "execute_result",
          "data": {
            "text/plain": [
              "   objectid                  name   gss_code   hectares  nonld_area ons_inner  \\\n",
              "0         1  Kingston upon Thames  E09000021   3726.117       0.000         F   \n",
              "1         2               Croydon  E09000008   8649.441       0.000         F   \n",
              "2         3               Bromley  E09000006  15013.487       0.000         F   \n",
              "3         4              Hounslow  E09000018   5658.541      60.755         F   \n",
              "4         5                Ealing  E09000009   5554.428       0.000         F   \n",
              "\n",
              "  sub_2011                                           geometry    area_km2  \n",
              "0    South  POLYGON ((516401.6 160201.8, 516407.3 160210.5...   37.261178  \n",
              "1    South  POLYGON ((535009.2 159504.7, 535005.5 159502, ...   86.494436  \n",
              "2    South  POLYGON ((540373.6 157530.4, 540361.2 157551.9...  150.134858  \n",
              "3     West  POLYGON ((509703.4 175356.6, 509712.6 175361.8...   56.585441  \n",
              "4     West  POLYGON ((515647.2 178787.8, 515608.8 178787.3...   55.544352  "
            ],
            "text/html": [
              "\n",
              "  <div id=\"df-64f16671-4b6e-420c-bd64-f0828daa5fe0\" class=\"colab-df-container\">\n",
              "    <div>\n",
              "<style scoped>\n",
              "    .dataframe tbody tr th:only-of-type {\n",
              "        vertical-align: middle;\n",
              "    }\n",
              "\n",
              "    .dataframe tbody tr th {\n",
              "        vertical-align: top;\n",
              "    }\n",
              "\n",
              "    .dataframe thead th {\n",
              "        text-align: right;\n",
              "    }\n",
              "</style>\n",
              "<table border=\"1\" class=\"dataframe\">\n",
              "  <thead>\n",
              "    <tr style=\"text-align: right;\">\n",
              "      <th></th>\n",
              "      <th>objectid</th>\n",
              "      <th>name</th>\n",
              "      <th>gss_code</th>\n",
              "      <th>hectares</th>\n",
              "      <th>nonld_area</th>\n",
              "      <th>ons_inner</th>\n",
              "      <th>sub_2011</th>\n",
              "      <th>geometry</th>\n",
              "      <th>area_km2</th>\n",
              "    </tr>\n",
              "  </thead>\n",
              "  <tbody>\n",
              "    <tr>\n",
              "      <th>0</th>\n",
              "      <td>1</td>\n",
              "      <td>Kingston upon Thames</td>\n",
              "      <td>E09000021</td>\n",
              "      <td>3726.117</td>\n",
              "      <td>0.000</td>\n",
              "      <td>F</td>\n",
              "      <td>South</td>\n",
              "      <td>POLYGON ((516401.6 160201.8, 516407.3 160210.5...</td>\n",
              "      <td>37.261178</td>\n",
              "    </tr>\n",
              "    <tr>\n",
              "      <th>1</th>\n",
              "      <td>2</td>\n",
              "      <td>Croydon</td>\n",
              "      <td>E09000008</td>\n",
              "      <td>8649.441</td>\n",
              "      <td>0.000</td>\n",
              "      <td>F</td>\n",
              "      <td>South</td>\n",
              "      <td>POLYGON ((535009.2 159504.7, 535005.5 159502, ...</td>\n",
              "      <td>86.494436</td>\n",
              "    </tr>\n",
              "    <tr>\n",
              "      <th>2</th>\n",
              "      <td>3</td>\n",
              "      <td>Bromley</td>\n",
              "      <td>E09000006</td>\n",
              "      <td>15013.487</td>\n",
              "      <td>0.000</td>\n",
              "      <td>F</td>\n",
              "      <td>South</td>\n",
              "      <td>POLYGON ((540373.6 157530.4, 540361.2 157551.9...</td>\n",
              "      <td>150.134858</td>\n",
              "    </tr>\n",
              "    <tr>\n",
              "      <th>3</th>\n",
              "      <td>4</td>\n",
              "      <td>Hounslow</td>\n",
              "      <td>E09000018</td>\n",
              "      <td>5658.541</td>\n",
              "      <td>60.755</td>\n",
              "      <td>F</td>\n",
              "      <td>West</td>\n",
              "      <td>POLYGON ((509703.4 175356.6, 509712.6 175361.8...</td>\n",
              "      <td>56.585441</td>\n",
              "    </tr>\n",
              "    <tr>\n",
              "      <th>4</th>\n",
              "      <td>5</td>\n",
              "      <td>Ealing</td>\n",
              "      <td>E09000009</td>\n",
              "      <td>5554.428</td>\n",
              "      <td>0.000</td>\n",
              "      <td>F</td>\n",
              "      <td>West</td>\n",
              "      <td>POLYGON ((515647.2 178787.8, 515608.8 178787.3...</td>\n",
              "      <td>55.544352</td>\n",
              "    </tr>\n",
              "  </tbody>\n",
              "</table>\n",
              "</div>\n",
              "    <div class=\"colab-df-buttons\">\n",
              "\n",
              "  <div class=\"colab-df-container\">\n",
              "    <button class=\"colab-df-convert\" onclick=\"convertToInteractive('df-64f16671-4b6e-420c-bd64-f0828daa5fe0')\"\n",
              "            title=\"Convert this dataframe to an interactive table.\"\n",
              "            style=\"display:none;\">\n",
              "\n",
              "  <svg xmlns=\"http://www.w3.org/2000/svg\" height=\"24px\" viewBox=\"0 -960 960 960\">\n",
              "    <path d=\"M120-120v-720h720v720H120Zm60-500h600v-160H180v160Zm220 220h160v-160H400v160Zm0 220h160v-160H400v160ZM180-400h160v-160H180v160Zm440 0h160v-160H620v160ZM180-180h160v-160H180v160Zm440 0h160v-160H620v160Z\"/>\n",
              "  </svg>\n",
              "    </button>\n",
              "\n",
              "  <style>\n",
              "    .colab-df-container {\n",
              "      display:flex;\n",
              "      gap: 12px;\n",
              "    }\n",
              "\n",
              "    .colab-df-convert {\n",
              "      background-color: #E8F0FE;\n",
              "      border: none;\n",
              "      border-radius: 50%;\n",
              "      cursor: pointer;\n",
              "      display: none;\n",
              "      fill: #1967D2;\n",
              "      height: 32px;\n",
              "      padding: 0 0 0 0;\n",
              "      width: 32px;\n",
              "    }\n",
              "\n",
              "    .colab-df-convert:hover {\n",
              "      background-color: #E2EBFA;\n",
              "      box-shadow: 0px 1px 2px rgba(60, 64, 67, 0.3), 0px 1px 3px 1px rgba(60, 64, 67, 0.15);\n",
              "      fill: #174EA6;\n",
              "    }\n",
              "\n",
              "    .colab-df-buttons div {\n",
              "      margin-bottom: 4px;\n",
              "    }\n",
              "\n",
              "    [theme=dark] .colab-df-convert {\n",
              "      background-color: #3B4455;\n",
              "      fill: #D2E3FC;\n",
              "    }\n",
              "\n",
              "    [theme=dark] .colab-df-convert:hover {\n",
              "      background-color: #434B5C;\n",
              "      box-shadow: 0px 1px 3px 1px rgba(0, 0, 0, 0.15);\n",
              "      filter: drop-shadow(0px 1px 2px rgba(0, 0, 0, 0.3));\n",
              "      fill: #FFFFFF;\n",
              "    }\n",
              "  </style>\n",
              "\n",
              "    <script>\n",
              "      const buttonEl =\n",
              "        document.querySelector('#df-64f16671-4b6e-420c-bd64-f0828daa5fe0 button.colab-df-convert');\n",
              "      buttonEl.style.display =\n",
              "        google.colab.kernel.accessAllowed ? 'block' : 'none';\n",
              "\n",
              "      async function convertToInteractive(key) {\n",
              "        const element = document.querySelector('#df-64f16671-4b6e-420c-bd64-f0828daa5fe0');\n",
              "        const dataTable =\n",
              "          await google.colab.kernel.invokeFunction('convertToInteractive',\n",
              "                                                    [key], {});\n",
              "        if (!dataTable) return;\n",
              "\n",
              "        const docLinkHtml = 'Like what you see? Visit the ' +\n",
              "          '<a target=\"_blank\" href=https://colab.research.google.com/notebooks/data_table.ipynb>data table notebook</a>'\n",
              "          + ' to learn more about interactive tables.';\n",
              "        element.innerHTML = '';\n",
              "        dataTable['output_type'] = 'display_data';\n",
              "        await google.colab.output.renderOutput(dataTable, element);\n",
              "        const docLink = document.createElement('div');\n",
              "        docLink.innerHTML = docLinkHtml;\n",
              "        element.appendChild(docLink);\n",
              "      }\n",
              "    </script>\n",
              "  </div>\n",
              "\n",
              "\n",
              "    <div id=\"df-fadeafb4-e306-41f3-87d5-3eaf3a0221ea\">\n",
              "      <button class=\"colab-df-quickchart\" onclick=\"quickchart('df-fadeafb4-e306-41f3-87d5-3eaf3a0221ea')\"\n",
              "                title=\"Suggest charts\"\n",
              "                style=\"display:none;\">\n",
              "\n",
              "<svg xmlns=\"http://www.w3.org/2000/svg\" height=\"24px\"viewBox=\"0 0 24 24\"\n",
              "     width=\"24px\">\n",
              "    <g>\n",
              "        <path d=\"M19 3H5c-1.1 0-2 .9-2 2v14c0 1.1.9 2 2 2h14c1.1 0 2-.9 2-2V5c0-1.1-.9-2-2-2zM9 17H7v-7h2v7zm4 0h-2V7h2v10zm4 0h-2v-4h2v4z\"/>\n",
              "    </g>\n",
              "</svg>\n",
              "      </button>\n",
              "\n",
              "<style>\n",
              "  .colab-df-quickchart {\n",
              "      --bg-color: #E8F0FE;\n",
              "      --fill-color: #1967D2;\n",
              "      --hover-bg-color: #E2EBFA;\n",
              "      --hover-fill-color: #174EA6;\n",
              "      --disabled-fill-color: #AAA;\n",
              "      --disabled-bg-color: #DDD;\n",
              "  }\n",
              "\n",
              "  [theme=dark] .colab-df-quickchart {\n",
              "      --bg-color: #3B4455;\n",
              "      --fill-color: #D2E3FC;\n",
              "      --hover-bg-color: #434B5C;\n",
              "      --hover-fill-color: #FFFFFF;\n",
              "      --disabled-bg-color: #3B4455;\n",
              "      --disabled-fill-color: #666;\n",
              "  }\n",
              "\n",
              "  .colab-df-quickchart {\n",
              "    background-color: var(--bg-color);\n",
              "    border: none;\n",
              "    border-radius: 50%;\n",
              "    cursor: pointer;\n",
              "    display: none;\n",
              "    fill: var(--fill-color);\n",
              "    height: 32px;\n",
              "    padding: 0;\n",
              "    width: 32px;\n",
              "  }\n",
              "\n",
              "  .colab-df-quickchart:hover {\n",
              "    background-color: var(--hover-bg-color);\n",
              "    box-shadow: 0 1px 2px rgba(60, 64, 67, 0.3), 0 1px 3px 1px rgba(60, 64, 67, 0.15);\n",
              "    fill: var(--button-hover-fill-color);\n",
              "  }\n",
              "\n",
              "  .colab-df-quickchart-complete:disabled,\n",
              "  .colab-df-quickchart-complete:disabled:hover {\n",
              "    background-color: var(--disabled-bg-color);\n",
              "    fill: var(--disabled-fill-color);\n",
              "    box-shadow: none;\n",
              "  }\n",
              "\n",
              "  .colab-df-spinner {\n",
              "    border: 2px solid var(--fill-color);\n",
              "    border-color: transparent;\n",
              "    border-bottom-color: var(--fill-color);\n",
              "    animation:\n",
              "      spin 1s steps(1) infinite;\n",
              "  }\n",
              "\n",
              "  @keyframes spin {\n",
              "    0% {\n",
              "      border-color: transparent;\n",
              "      border-bottom-color: var(--fill-color);\n",
              "      border-left-color: var(--fill-color);\n",
              "    }\n",
              "    20% {\n",
              "      border-color: transparent;\n",
              "      border-left-color: var(--fill-color);\n",
              "      border-top-color: var(--fill-color);\n",
              "    }\n",
              "    30% {\n",
              "      border-color: transparent;\n",
              "      border-left-color: var(--fill-color);\n",
              "      border-top-color: var(--fill-color);\n",
              "      border-right-color: var(--fill-color);\n",
              "    }\n",
              "    40% {\n",
              "      border-color: transparent;\n",
              "      border-right-color: var(--fill-color);\n",
              "      border-top-color: var(--fill-color);\n",
              "    }\n",
              "    60% {\n",
              "      border-color: transparent;\n",
              "      border-right-color: var(--fill-color);\n",
              "    }\n",
              "    80% {\n",
              "      border-color: transparent;\n",
              "      border-right-color: var(--fill-color);\n",
              "      border-bottom-color: var(--fill-color);\n",
              "    }\n",
              "    90% {\n",
              "      border-color: transparent;\n",
              "      border-bottom-color: var(--fill-color);\n",
              "    }\n",
              "  }\n",
              "</style>\n",
              "\n",
              "      <script>\n",
              "        async function quickchart(key) {\n",
              "          const quickchartButtonEl =\n",
              "            document.querySelector('#' + key + ' button');\n",
              "          quickchartButtonEl.disabled = true;  // To prevent multiple clicks.\n",
              "          quickchartButtonEl.classList.add('colab-df-spinner');\n",
              "          try {\n",
              "            const charts = await google.colab.kernel.invokeFunction(\n",
              "                'suggestCharts', [key], {});\n",
              "          } catch (error) {\n",
              "            console.error('Error during call to suggestCharts:', error);\n",
              "          }\n",
              "          quickchartButtonEl.classList.remove('colab-df-spinner');\n",
              "          quickchartButtonEl.classList.add('colab-df-quickchart-complete');\n",
              "        }\n",
              "        (() => {\n",
              "          let quickchartButtonEl =\n",
              "            document.querySelector('#df-fadeafb4-e306-41f3-87d5-3eaf3a0221ea button');\n",
              "          quickchartButtonEl.style.display =\n",
              "            google.colab.kernel.accessAllowed ? 'block' : 'none';\n",
              "        })();\n",
              "      </script>\n",
              "    </div>\n",
              "\n",
              "    </div>\n",
              "  </div>\n"
            ],
            "application/vnd.google.colaboratory.intrinsic+json": {
              "type": "dataframe",
              "variable_name": "boroughs",
              "summary": "{\n  \"name\": \"boroughs\",\n  \"rows\": 32,\n  \"fields\": [\n    {\n      \"column\": \"objectid\",\n      \"properties\": {\n        \"dtype\": \"int32\",\n        \"num_unique_values\": 32,\n        \"samples\": [\n          31,\n          16,\n          26\n        ],\n        \"semantic_type\": \"\",\n        \"description\": \"\"\n      }\n    },\n    {\n      \"column\": \"name\",\n      \"properties\": {\n        \"dtype\": \"string\",\n        \"num_unique_values\": 32,\n        \"samples\": [\n          \"Haringey\",\n          \"Lambeth\",\n          \"Westminster\"\n        ],\n        \"semantic_type\": \"\",\n        \"description\": \"\"\n      }\n    },\n    {\n      \"column\": \"gss_code\",\n      \"properties\": {\n        \"dtype\": \"string\",\n        \"num_unique_values\": 32,\n        \"samples\": [\n          \"E09000014\",\n          \"E09000022\",\n          \"E09000033\"\n        ],\n        \"semantic_type\": \"\",\n        \"description\": \"\"\n      }\n    },\n    {\n      \"column\": \"hectares\",\n      \"properties\": {\n        \"dtype\": \"number\",\n        \"std\": 3225.9070420709277,\n        \"min\": 1238.379,\n        \"max\": 15013.487,\n        \"num_unique_values\": 32,\n        \"samples\": [\n          2959.837,\n          2724.94,\n          2203.005\n        ],\n        \"semantic_type\": \"\",\n        \"description\": \"\"\n      }\n    },\n    {\n      \"column\": \"nonld_area\",\n      \"properties\": {\n        \"dtype\": \"number\",\n        \"std\": 100.36170652547538,\n        \"min\": 0.0,\n        \"max\": 370.619,\n        \"num_unique_values\": 17,\n        \"samples\": [\n          0.0,\n          60.755,\n          370.619\n        ],\n        \"semantic_type\": \"\",\n        \"description\": \"\"\n      }\n    },\n    {\n      \"column\": \"ons_inner\",\n      \"properties\": {\n        \"dtype\": \"category\",\n        \"num_unique_values\": 2,\n        \"samples\": [\n          \"T\",\n          \"F\"\n        ],\n        \"semantic_type\": \"\",\n        \"description\": \"\"\n      }\n    },\n    {\n      \"column\": \"sub_2011\",\n      \"properties\": {\n        \"dtype\": \"category\",\n        \"num_unique_values\": 5,\n        \"samples\": [\n          \"West\",\n          \"Central\"\n        ],\n        \"semantic_type\": \"\",\n        \"description\": \"\"\n      }\n    },\n    {\n      \"column\": \"geometry\",\n      \"properties\": {\n        \"dtype\": \"geometry\",\n        \"num_unique_values\": 32,\n        \"samples\": [\n          \"POLYGON ((528840.2000000002 187217.80000000075, 528840 187235.30000000075, 528839.5999999996 187235.59999999963, 528738.2000000002 187303.40000000037, 528717.2999999998 187312.69999999925, 528698.7999999998 187321, 528685.7999999998 187326.30000000075, 528649.0999999996 187335, 528579.7999999998 187358.69999999925, 528511.5999999996 187375.90000000037, 528443.7999999998 187394.69999999925, 528367.0999999996 187424.5, 528340.4000000004 187437.19999999925, 528324 187448, 528300 187470.30000000075, 528283.4000000004 187476.69999999925, 528226 187480, 528119.7999999998 187487.19999999925, 528034.5 187495.90000000037, 527933.0999999996 187507.5, 527822.5 187521, 527691.7999999998 187530.69999999925, 527624.7999999998 187573.19999999925, 527600 187586.80000000075, 527598.2000000002 187587.80000000075, 527596.2999999998 187588.69999999925, 527594.4000000004 187589.59999999963, 527592.4000000004 187590.40000000037, 527590.4000000004 187591.19999999925, 527588.4000000004 187591.90000000037, 527588 187592, 527586 187592.59999999963, 527584 187593.09999999963, 527581.9000000004 187593.59999999963, 527579.7999999998 187594, 527577.7000000002 187594.30000000075, 527575.5999999996 187594.59999999963, 527573.5 187594.80000000075, 527573 187594.80000000075, 527570.9000000004 187594.90000000037, 527568.9000000004 187594.80000000075, 527566.7999999998 187594.69999999925, 527564.7999999998 187594.5, 527562.7000000002 187594.30000000075, 527560.5999999996 187594, 527558.5999999996 187593.59999999963, 527556.5 187593.30000000075, 527554.5 187593, 527553.2000000002 187592.80000000075, 527546.7000000002 187591.80000000075, 527540.0999999996 187590.69999999925, 527533.5999999996 187589.30000000075, 527527.2000000002 187587.80000000075, 527520.7999999998 187586.19999999925, 527514.4000000004 187584.40000000037, 527508 187582.40000000037, 527504 187581, 527431.2000000002 187565.69999999925, 527377.5 187560.09999999963, 527334.7000000002 187555.90000000037, 527328.7000000002 187555.59999999963, 527322.7000000002 187555.5, 527316.7000000002 187555.5, 527314.0999999996 187555.5, 527308.0999999996 187555.69999999925, 527302.0999999996 187556, 527296.0999999996 187556.59999999963, 527293.7000000002 187557, 527291 187557.5, 527288.2999999998 187558.30000000075, 527285.7000000002 187559.09999999963, 527283.0999999996 187560, 527280.5 187561, 527277.9000000004 187561.90000000037, 527275.2999999998 187562.90000000037, 527272.7000000002 187563.80000000075, 527271.5 187564.19999999925, 527246.4000000004 187571.80000000075, 527221.0999999996 187578.90000000037, 527211.5 187581.40000000037, 527203.2999999998 187580.19999999925, 527198.7000000002 187579.19999999925, 527180.7000000002 187584.19999999925, 527173.0999999996 187591.90000000037, 527153.9000000004 187598.90000000037, 527135.9000000004 187602.90000000037, 527118.2999999998 187603.69999999925, 527099.9000000004 187602.30000000075, 527025.5999999996 187591.90000000037, 526977.2000000002 187586, 526924.4000000004 187576.19999999925, 526922.0999999996 187575.30000000075, 526883.7999999998 187560.80000000075, 526849.2000000002 187546.80000000075, 526830.2999999998 187535.40000000037, 526831.7999999998 187601.30000000075, 526834.2000000002 187667.09999999963, 526849.5999999996 187670.09999999963, 526875.2000000002 187676.90000000037, 526919.0999999996 187694.40000000037, 526950.7999999998 187711.09999999963, 526950.9000000004 187713.5, 526950.0999999996 187738.5, 526951 187770.09999999963, 526949.5999999996 187792.30000000075, 526946.7000000002 187812.19999999925, 526939.5999999996 187874.5, 526935.2999999998 187912.5, 526941 187910.59999999963, 526936.7999999998 187974.09999999963, 526925.4000000004 187979.5, 526929.5 187999, 526933.4000000004 188022, 526936.9000000004 188037.80000000075, 526943.7000000002 188061.59999999963, 526950.2000000002 188092.59999999963, 526950.7999999998 188094.40000000037, 527025.5 188048.09999999963, 527039.2999999998 188041, 527061.0999999996 188088.69999999925, 527069.2000000002 188104.90000000037, 527081 188136, 527086 188147, 527105.2999999998 188185.5, 527099.5 188187, 527086 188190.40000000037, 527088.5 188194.80000000075, 527096.0999999996 188208.09999999963, 527106.5999999996 188221.90000000037, 527121.0999999996 188235.30000000075, 527119.5999999996 188250.40000000037, 527106 188347.19999999925, 527101.7999999998 188347.69999999925, 527098.5 188449.30000000075, 527095.0999999996 188449.40000000037, 527089.5 188449.59999999963, 527089.0999999996 188452.90000000037, 527088 188462.69999999925, 527088 188508.90000000037, 527087.2999999998 188528.80000000075, 527091.7000000002 188555.40000000037, 527097 188579.5, 527100.0999999996 188586.90000000037, 527103.7999999998 188595.69999999925, 527107.5 188601.69999999925, 527107.9000000004 188602.30000000075, 527154.7999999998 188613.09999999963, 527143.5999999996 188626.5, 527144.2000000002 188627.90000000037, 527159.2999999998 188660.09999999963, 527183 188714.19999999925, 527184 188745.09999999963, 527221 188769.90000000037, 527241.2000000002 188782.40000000037, 527233.7000000002 188786.90000000037, 527231.2000000002 188788, 527243.2999999998 188806.30000000075, 527259.4000000004 188826.80000000075, 527269 188829.09999999963, 527281.4000000004 188831.19999999925, 527315.2000000002 188866.90000000037, 527319.5 188871.5, 527323.0999999996 188868, 527324 188868.5, 527327.2999999998 188870.19999999925, 527331.2999999998 188866, 527331.4000000004 188865.80000000075, 527332.4000000004 188864.69999999925, 527356.0999999996 188875.90000000037, 527392.7999999998 188887.19999999925, 527404.9000000004 188894.59999999963, 527419.5999999996 188906.5, 527435 188921.09999999963, 527444.5999999996 188934.40000000037, 527477.9000000004 188975.19999999925, 527482.7999999998 188980.90000000037, 527491.4000000004 188990.30000000075, 527499.2999999998 188990.19999999925, 527517.2999999998 188972.5, 527539.7000000002 188949.5, 527559 188929.80000000075, 527574.2999999998 188917.09999999963, 527586.2999999998 188906.90000000037, 527603.4000000004 188893.5, 527607.5999999996 188898.19999999925, 527632.9000000004 188929.69999999925, 527716 189038, 527717.7000000002 189089.40000000037, 527717.7000000002 189091.80000000075, 527756.0999999996 189091, 527769 189091, 527768.7000000002 189091.59999999963, 527759.5 189112.30000000075, 527750.7999999998 189131.80000000075, 527734 189133, 527662.2999999998 189136.5, 527660.2000000002 189195.19999999925, 527660.2000000002 189223.40000000037, 527660.2999999998 189235.80000000075, 527660.2999999998 189239.5, 527663.2000000002 189239.40000000037, 527665.2000000002 189239.30000000075, 527665.0999999996 189241.69999999925, 527665.2999999998 189242.09999999963, 527664 189267.59999999963, 527663 189286.09999999963, 527549.9000000004 189283.5, 527561.7999999998 189297.90000000037, 527561 189309.30000000075, 527561 189309.69999999925, 527561.4000000004 189335.40000000037, 527561.4000000004 189357.40000000037, 527560.7000000002 189398, 527555.7000000002 189396.90000000037, 527555.7000000002 189405.09999999963, 527555.7000000002 189420.40000000037, 527554.5999999996 189436.30000000075, 527552.2999999998 189474.30000000075, 527580 189478.09999999963, 527574.2999999998 189521.59999999963, 527573.2000000002 189531.90000000037, 527575.7999999998 189552.40000000037, 527579.2000000002 189568, 527588 189619.90000000037, 527594.7000000002 189685.5, 527603.7000000002 189685.19999999925, 527615.7999999998 189697.90000000037, 527622.7000000002 189703.09999999963, 527644.9000000004 189722.19999999925, 527647.2999999998 189727.69999999925, 527648.0999999996 189731.30000000075, 527648.2000000002 189739.59999999963, 527647.9000000004 189741.59999999963, 527639 189763.30000000075, 527635.2000000002 189775, 527579.2999999998 189761.40000000037, 527571.7000000002 189788.30000000075, 527568.7999999998 189804.5, 527565.7000000002 189816.90000000037, 527541.9000000004 189886.09999999963, 527539.5999999996 189894.69999999925, 527537.2000000002 189907.69999999925, 527536.7999999998 189923.30000000075, 527534 189935.5, 527524.2999999998 189961.90000000037, 527517.7999999998 189976.80000000075, 527502.9000000004 190000, 527482.4000000004 190044.40000000037, 527477.7999999998 190075.5, 527471.5999999996 190095.80000000075, 527442.4000000004 190205.90000000037, 527425.2000000002 190265.90000000037, 527421.5999999996 190286.19999999925, 527419.9000000004 190300.90000000037, 527419.5999999996 190328, 527418.5 190337.19999999925, 527418.5999999996 190343.90000000037, 527419.4000000004 190350.59999999963, 527421.7999999998 190359.80000000075, 527539.4000000004 190646.40000000037, 527619.9000000004 190850.59999999963, 527616.9000000004 190855.19999999925, 527712.2999999998 191086.90000000037, 527744.7999999998 191173.90000000037, 527758.2999999998 191197.09999999963, 527769.7999999998 191221.40000000037, 527771.7000000002 191223, 527797.7999999998 191233.30000000075, 527787.7999999998 191216.5, 527786.5 191206.30000000075, 527786.5 191200.09999999963, 527787.2999999998 191196.30000000075, 527788.0999999996 191194.5, 527839.7000000002 191149.30000000075, 527849.9000000004 191140.90000000037, 527855.7000000002 191135.19999999925, 527883.7000000002 191104, 527894.5 191090.30000000075, 527899.4000000004 191083.40000000037, 527908.7000000002 191065.30000000075, 527940.7000000002 191012.5, 527971.0999999996 190965.80000000075, 527990.7999999998 190930.5, 527987.4000000004 190864.90000000037, 527985.9000000004 190818.69999999925, 527986.0999999996 190781.90000000037, 527984.7999999998 190742.19999999925, 527985.4000000004 190729.19999999925, 527987.7000000002 190710, 528005.4000000004 190614.19999999925, 528012.9000000004 190582.19999999925, 528020 190547.59999999963, 528027.9000000004 190528.40000000037, 528089.7999999998 190443, 528121.7999999998 190377.69999999925, 528127.2000000002 190367.69999999925, 528138.9000000004 190352.5, 528139.7000000002 190352, 528315.7000000002 190461.5, 528385.9000000004 190503.59999999963, 528410.0999999996 190516.5, 528403.4000000004 190533.80000000075, 528437.7000000002 190554.19999999925, 528459.4000000004 190567.09999999963, 528567.7000000002 190636.69999999925, 528608.5999999996 190662.19999999925, 528606.4000000004 190672, 528605.7999999998 190694.59999999963, 528607.7999999998 190709.80000000075, 528626.2999999998 190772.09999999963, 528637.9000000004 190786.09999999963, 528645.5999999996 190798.5, 528647.4000000004 190802.40000000037, 528651.2999999998 190815, 528667.4000000004 190845.09999999963, 528675 190866.40000000037, 528688.4000000004 190896.30000000075, 528692.5999999996 190916.69999999925, 528694.9000000004 190922.90000000037, 528697.7000000002 190927.69999999925, 528700.9000000004 190932.19999999925, 528738.2000000002 190980.59999999963, 528756.0999999996 191005.69999999925, 528760.2000000002 191010.80000000075, 528762.7000000002 191017.90000000037, 528764 191038, 528768.7000000002 191064.40000000037, 528769.2999999998 191073.40000000037, 528766.9000000004 191128.09999999963, 528762.5 191162.90000000037, 528753 191198.09999999963, 528745.0999999996 191213.19999999925, 528739.0999999996 191221.90000000037, 528720.7999999998 191257.19999999925, 528708.4000000004 191289, 528701.5999999996 191303.80000000075, 528699.4000000004 191310.09999999963, 528687.4000000004 191356.30000000075, 528682.7000000002 191381.90000000037, 528670.7999999998 191466, 528662.5 191510.30000000075, 528661.7999999998 191516, 528660.5 191528.90000000037, 528657.9000000004 191565.40000000037, 528656.2999999998 191633.69999999925, 528699.2000000002 191657.59999999963, 528814.5 191714.19999999925, 528975.5 191791.59999999963, 529048 191818.90000000037, 529152.7999999998 191864.69999999925, 529168.7000000002 191874, 529200.2999999998 191897.09999999963, 529215.0999999996 191911.5, 529237.0999999996 191909.09999999963, 529354.7999999998 191866.90000000037, 529456.9000000004 191827.80000000075, 529492.4000000004 191820.30000000075, 529521.2000000002 191805.59999999963, 529602.9000000004 191763.90000000037, 529676.2000000002 191736.80000000075, 529731.2000000002 191727, 529765.9000000004 191721.30000000075, 529830.7000000002 191722.09999999963, 529837.2999999998 191716.80000000075, 529840 191714.59999999963, 529870.2000000002 191747, 529862.7000000002 191752.80000000075, 529905.9000000004 191796, 529937.7999999998 191788.59999999963, 529929.7999999998 191779.19999999925, 529993.2999999998 191716.59999999963, 529989.2000000002 191715.19999999925, 529990.7000000002 191713.59999999963, 529996.2999999998 191707.80000000075, 530006.2999999998 191700.30000000075, 530002.7000000002 191696.80000000075, 530000.7000000002 191695, 530035.0999999996 191653.40000000037, 530038.5999999996 191654.40000000037, 530046.5999999996 191656.5, 530062.4000000004 191660.80000000075, 530111.9000000004 191652.09999999963, 530139.9000000004 191647, 530155.2000000002 191647.19999999925, 530170.5 191646.80000000075, 530186.9000000004 191644.5, 530314.2000000002 191629, 530336.5999999996 191623, 530368.0999999996 191655.90000000037, 530410 191631.30000000075, 530453.7999999998 191607.80000000075, 530468.9000000004 191634.30000000075, 530561.5999999996 191622.40000000037, 530565 191621.90000000037, 530564 191635.69999999925, 530588.2999999998 191636.40000000037, 530602.7000000002 191636.80000000075, 530651.0999999996 191638.80000000075, 530663.7999999998 191635.69999999925, 530664.7999999998 191635.30000000075, 530675.5 191630.80000000075, 530692 191631, 530707.2999999998 191631.09999999963, 530708.0999999996 191631.09999999963, 530708 191636.5, 530781.2999999998 191641.30000000075, 530868.5999999996 191647.80000000075, 530912.7999999998 191650.40000000037, 530915.2999999998 191662, 530916.0999999996 191665.59999999963, 530916.7999999998 191665.40000000037, 530929.7000000002 191662.69999999925, 530930.7999999998 191662.40000000037, 530941.7999999998 191659.59999999963, 530941 191656.19999999925, 530936.7999999998 191638.5, 530940.5999999996 191637.30000000075, 530944.5 191636, 530981.2999999998 191630.09999999963, 530981.2999999998 191629.90000000037, 530981.7999999998 191627.30000000075, 531023.4000000004 191631.30000000075, 531174 191634.90000000037, 531175.2000000002 191635.19999999925, 531183.7000000002 191637.40000000037, 531231.2999999998 191652.19999999925, 531257.4000000004 191651.80000000075, 531258 191652.19999999925, 531257.7999999998 191649.09999999963, 531257.5999999996 191646, 531270.9000000004 191646.69999999925, 531300.2999999998 191656.59999999963, 531378.2999999998 191659, 531392.7000000002 191658.69999999925, 531408.2000000002 191658.40000000037, 531422.7000000002 191658.09999999963, 531457.5999999996 191637.69999999925, 531491.4000000004 191617.19999999925, 531513.5 191659, 531528.5 191664.5, 531542.4000000004 191668.19999999925, 531561.2000000002 191671.69999999925, 531577.4000000004 191672.19999999925, 531590.4000000004 191671.59999999963, 531609.5 191668.40000000037, 531639.2999999998 191668.30000000075, 531668.2000000002 191668.30000000075, 531728.2999999998 191670.09999999963, 531814.7999999998 191675.80000000075, 531839.9000000004 191679.40000000037, 531825.2000000002 191723.80000000075, 531826.7000000002 191723.80000000075, 531841 191724.19999999925, 531845.2999999998 191724.30000000075, 531845.9000000004 191724.09999999963, 531847.5999999996 191723.5, 531854.2000000002 191721.30000000075, 531867.0999999996 191738.80000000075, 531884.0999999996 191748.69999999925, 531884.9000000004 191749.19999999925, 531910 191758.40000000037, 531925.5 191763.90000000037, 531953.5 191768.80000000075, 531968.7999999998 191765.09999999963, 531986.5 191725.30000000075, 531987.7999999998 191716.90000000037, 532000.7000000002 191698.69999999925, 532078.7000000002 191719.30000000075, 532108.9000000004 191739.80000000075, 532151.7999999998 191730, 532180 191725.30000000075, 532185.0999999996 191724.59999999963, 532185.4000000004 191749.19999999925, 532185.4000000004 191752.5, 532211.7999999998 191749, 532211.7000000002 191745.40000000037, 532211.5 191735.19999999925, 532212.5999999996 191734.69999999925, 532230.7000000002 191725.90000000037, 532232.9000000004 191724.80000000075, 532234.7000000002 191727.90000000037, 532236.7000000002 191731.40000000037, 532257.5 191720.30000000075, 532294.5 191721, 532294.7000000002 191721.40000000037, 532296.4000000004 191733.69999999925, 532377 191726.30000000075, 532379.2000000002 191726.09999999963, 532446 191720.5, 532468.7999999998 191715.19999999925, 532496 191708.80000000075, 532529.4000000004 191705.59999999963, 532556.7000000002 191703, 532594.5999999996 191699.19999999925, 532645.5999999996 191694.59999999963, 532715.5 191696.40000000037, 532736.0999999996 191698.69999999925, 532747.5 191699.40000000037, 532824 191703, 532901.2000000002 191701.19999999925, 532913.2000000002 191701.40000000037, 532956 191702, 533001.2999999998 191707.5, 533075.9000000004 191710.30000000075, 533097.2999999998 191710.30000000075, 533107.4000000004 191710.30000000075, 533119.5999999996 191710.90000000037, 533140.2999999998 191710.69999999925, 533179.2999999998 191709.19999999925, 533252.2999999998 191705.5, 533281.2999999998 191704.80000000075, 533317.9000000004 191707.30000000075, 533348.7000000002 191710.59999999963, 533353.5999999996 191711.40000000037, 533412.4000000004 191719.80000000075, 533475.5 191730.5, 533543.7000000002 191739.59999999963, 533591.7000000002 191748, 533597.4000000004 191749, 533598.4000000004 191743.59999999963, 533622.9000000004 191746.59999999963, 533638.4000000004 191749.09999999963, 533682 191757.80000000075, 533681.5999999996 191756.19999999925, 533680.2000000002 191750.5, 533682.7999999998 191749.90000000037, 533687.2999999998 191749, 533693 191749.09999999963, 533718.2000000002 191746.90000000037, 533765.0999999996 191745.59999999963, 533765.0999999996 191754.80000000075, 533786.4000000004 191754.5, 533791.7999999998 191754.19999999925, 533856.2999999998 191750, 533881 191766, 533893.5999999996 191748.19999999925, 533898.2999999998 191748, 533906.7000000002 191747.69999999925, 533915.2000000002 191747.40000000037, 533917.2999999998 191750.30000000075, 533939.7999999998 191781, 533944.5999999996 191778.59999999963, 533944.7999999998 191778.90000000037, 533998.5 191752.30000000075, 534055.9000000004 191749.5, 534072.2000000002 191745.90000000037, 534085.9000000004 191745.69999999925, 534228.7999999998 191752.09999999963, 534269.2999999998 191754.5, 534350.2999999998 191761.69999999925, 534499.9000000004 191774.09999999963, 534567.7000000002 191782.19999999925, 534701.5999999996 191792.90000000037, 534737.9000000004 191797.19999999925, 534823.5999999996 191796, 534851.5 191788.30000000075, 534915 191766.5, 534919.2000000002 191763.59999999963, 534923.7000000002 191760.59999999963, 534926.4000000004 191758.90000000037, 534922.5 191752.59999999963, 534921.7999999998 191751.5, 534921.5999999996 191746.90000000037, 534921.2999999998 191739.80000000075, 534926.5999999996 191738.30000000075, 534927.2000000002 191713.90000000037, 534948.7000000002 191712.09999999963, 534978.2000000002 191703, 535006.7000000002 191693.59999999963, 535025.5 191682.90000000037, 535024.0999999996 191679.5, 535022.7000000002 191675.80000000075, 535115.2999999998 191636, 535135.4000000004 191629.09999999963, 535156.7999999998 191621.90000000037, 535179.4000000004 191615.80000000075, 535195.2999999998 191610.80000000075, 535213.5 191605, 535238.9000000004 191594.90000000037, 535267.2999999998 191587.5, 535297 191577.80000000075, 535456 191530.30000000075, 535528.5999999996 191509.59999999963, 535630 191486.30000000075, 535704.2000000002 191467.40000000037, 535728.5999999996 191460.90000000037, 535728 191460, 535725.2999999998 191455.5, 535722.5999999996 191451, 535720.5 191447.40000000037, 535717.0999999996 191441.09999999963, 535713.7999999998 191434.80000000075, 535710.7000000002 191428.30000000075, 535707.7000000002 191421.90000000037, 535704.4000000004 191414.59999999963, 535698.4000000004 191401.19999999925, 535692.7999999998 191387.59999999963, 535687.5 191374, 535682.4000000004 191360.19999999925, 535677.7000000002 191346.30000000075, 535677.0999999996 191344.5, 535646.2999999998 191270.40000000037, 535618.2000000002 191201.59999999963, 535592.0999999996 191143.30000000075, 535558.2999999998 191078.30000000075, 535508.0999999996 190989.09999999963, 535444.7000000002 190881, 535420.9000000004 190840.19999999925, 535398.2999999998 190801.5, 535367 190755.80000000075, 535308.4000000004 190675.09999999963, 535241.2999999998 190592.40000000037, 535189.9000000004 190529.5, 535177.7000000002 190514.69999999925, 535165.7999999998 190499.59999999963, 535160.7999999998 190493, 535149.0999999996 190477.80000000075, 535141.7999999998 190467.69999999925, 535137.9000000004 190462.30000000075, 535130.5 190450.30000000075, 535127.2999999998 190444.5, 535124.2999999998 190438.59999999963, 535121.5 190432.69999999925, 535118.7999999998 190426.59999999963, 535116.2999999998 190420.5, 535113.7000000002 190414.40000000037, 535111.5999999996 190409.09999999963, 535107.4000000004 190398.5, 535103.5 190387.69999999925, 535099.7999999998 190376.90000000037, 535096.5 190366, 535093.2999999998 190355.09999999963, 535090.4000000004 190344, 535089.0999999996 190338.59999999963, 535086.7999999998 190293, 535086.9000000004 190290.09999999963, 535086.9000000004 190287.19999999925, 535086.9000000004 190284.30000000075, 535086.7000000002 190281.40000000037, 535086.5 190278.5, 535086.0999999996 190275.69999999925, 535085.7000000002 190272.80000000075, 535085.5999999996 190272.19999999925, 535085.0999999996 190269.40000000037, 535084.5999999996 190266.5, 535084 190263.69999999925, 535083.2999999998 190260.90000000037, 535082.4000000004 190258.09999999963, 535081.4000000004 190255.40000000037, 535080.5 190253.40000000037, 535079.5999999996 190251.80000000075, 535078.7000000002 190250.19999999925, 535077.5999999996 190248.69999999925, 535076.5999999996 190247.19999999925, 535075.4000000004 190245.69999999925, 535074.2999999998 190244.30000000075, 535073.0999999996 190242.90000000037, 535071.9000000004 190241.5, 535070.7000000002 190240, 535069.5 190238.59999999963, 535068.7000000002 190237.59999999963, 535061.0999999996 190228, 535053.2999999998 190218.59999999963, 535052.9000000004 190218.19999999925, 535048.9000000004 190213.19999999925, 535044.9000000004 190208.19999999925, 535041.0999999996 190203.09999999963, 535039.4000000004 190200.69999999925, 535035.7000000002 190195.5, 535032.0999999996 190190.19999999925, 535028.7999999998 190184.69999999925, 535025.7000000002 190179.09999999963, 535023.7999999998 190175.40000000037, 535022.4000000004 190172.40000000037, 535022 190171.59999999963, 535020.4000000004 190167.80000000075, 535018.9000000004 190164, 535017.4000000004 190160.09999999963, 535016.0999999996 190156.19999999925, 535014.7999999998 190152.19999999925, 535014.5 190151.09999999963, 535013.2999999998 190146.69999999925, 535012.0999999996 190142.30000000075, 535011.2000000002 190137.80000000075, 535010.2999999998 190133.30000000075, 535009.5 190128.80000000075, 535008.9000000004 190124.30000000075, 535008.4000000004 190119.80000000075, 535008.2000000002 190117.30000000075, 535006.2999999998 190059.69999999925, 535000.4000000004 190000, 535000.0999999996 189996.5, 535000.0999999996 189973.40000000037, 534974.0999999996 189895.5, 534959.2999999998 189852.19999999925, 534950.0999999996 189819.90000000037, 534944.2999999998 189792.90000000037, 534940.4000000004 189752.09999999963, 534941.5999999996 189720.90000000037, 534941.7999999998 189690.09999999963, 534950 189656.40000000037, 534960.7999999998 189627.80000000075, 534977.2000000002 189591.69999999925, 534996.5999999996 189557.5, 535000.0999999996 189552.5, 535005 189536.59999999963, 535010.5 189522.80000000075, 535019 189511.09999999963, 535019.7999999998 189509.90000000037, 535032.0999999996 189489.30000000075, 535033.0999999996 189487.09999999963, 535034.0999999996 189484.90000000037, 535034.9000000004 189482.59999999963, 535035.7000000002 189480.30000000075, 535036.4000000004 189478, 535037 189475.69999999925, 535037.5999999996 189473.40000000037, 535038 189471, 535038.4000000004 189468.59999999963, 535038.7999999998 189466.19999999925, 535039 189463.90000000037, 535039.2000000002 189461.5, 535039.2999999998 189459.09999999963, 535039.2999999998 189456.69999999925, 535039.2000000002 189454.30000000075, 535039.0999999996 189451.90000000037, 535038.9000000004 189449.5, 535038.5999999996 189447.09999999963, 535038.2000000002 189444.69999999925, 535037.7999999998 189442.40000000037, 535037.2999999998 189440, 535036.7000000002 189437.80000000075, 535036 189435.5, 535035.2999999998 189433.19999999925, 535034.4000000004 189430.90000000037, 535033.5 189428.69999999925, 535032.5 189426.40000000037, 535031.5 189424.30000000075, 535030.2999999998 189422.09999999963, 535029.2000000002 189420, 535027.9000000004 189417.90000000037, 535026.5999999996 189415.80000000075, 535025.2999999998 189413.80000000075, 535023.9000000004 189411.80000000075, 535022.5999999996 189409.90000000037, 535020.7999999998 189407.69999999925, 535018.7000000002 189405.59999999963, 535016.5999999996 189403.69999999925, 535014.2999999998 189401.80000000075, 535012.0999999996 189400, 535009.9000000004 189398, 535007.9000000004 189396.09999999963, 535006 189393.90000000037, 535004.2999999998 189391.59999999963, 535003.9000000004 189390.80000000075, 535003.0999999996 189389.19999999925, 535002.5 189388, 535000.0999999996 189388.40000000037, 535000 189388.40000000037, 534973 189359.19999999925, 534964.5 189349.90000000037, 534922.5999999996 189308, 534894.2000000002 189278.19999999925, 534890.9000000004 189274.69999999925, 534887.7000000002 189271.19999999925, 534884.5999999996 189267.59999999963, 534881.5 189263.90000000037, 534878.5999999996 189260.09999999963, 534875.7999999998 189256.30000000075, 534875.0999999996 189255.30000000075, 534872.4000000004 189251.30000000075, 534869.9000000004 189247.30000000075, 534867.4000000004 189243.19999999925, 534865.0999999996 189239, 534862.7999999998 189234.80000000075, 534860.7000000002 189230.5, 534858.5999999996 189226.19999999925, 534857.9000000004 189224.80000000075, 534855.2999999998 189219, 534852.7999999998 189213.09999999963, 534850.4000000004 189207.19999999925, 534848.2999999998 189201.30000000075, 534846.2000000002 189195.19999999925, 534844.2999999998 189189.19999999925, 534843.7000000002 189187.30000000075, 534841.5999999996 189180, 534839.5999999996 189172.80000000075, 534838.0999999996 189166.19999999925, 534837.9000000004 189165.40000000037, 534836.2999999998 189158, 534834.9000000004 189150.59999999963, 534833.7000000002 189143.19999999925, 534833.5999999996 189142.5, 534832 189135.19999999925, 534830.2000000002 189127.90000000037, 534828.2000000002 189120.69999999925, 534826 189113.5, 534823.7000000002 189106.40000000037, 534821.2000000002 189099.30000000075, 534818.9000000004 189093.30000000075, 534816 189086.30000000075, 534813 189079.40000000037, 534811.7999999998 189076.80000000075, 534809.7999999998 189072.59999999963, 534806.4000000004 189066, 534802.9000000004 189059.30000000075, 534799.2000000002 189052.80000000075, 534795.4000000004 189046.40000000037, 534791.4000000004 189040, 534787.2999999998 189033.69999999925, 534783 189027.5, 534779.7999999998 189023.09999999963, 534775 189016.5, 534769.9000000004 189009.90000000037, 534764.7999999998 189003.5, 534759.4000000004 188997.19999999925, 534753.9000000004 188991.09999999963, 534748.2000000002 188985.19999999925, 534742.2999999998 188979.5, 534739.5999999996 188976.90000000037, 534734.7000000002 188972.69999999925, 534729.7000000002 188968.5, 534724.5999999996 188964.5, 534722.5 188962.90000000037, 534711.4000000004 188953.69999999925, 534708.9000000004 188951.40000000037, 534706.5 188949.09999999963, 534704.2000000002 188946.69999999925, 534702.5999999996 188945, 534700.2999999998 188942.40000000037, 534698.2000000002 188939.90000000037, 534696.0999999996 188937.19999999925, 534694 188934.5, 534692.0999999996 188931.69999999925, 534690.2999999998 188928.90000000037, 534690.0999999996 188928.5, 534688.7000000002 188925.90000000037, 534687.2999999998 188923.40000000037, 534686.0999999996 188920.69999999925, 534685 188918.09999999963, 534683.9000000004 188915.40000000037, 534682.9000000004 188912.59999999963, 534681.9000000004 188909.90000000037, 534680.9000000004 188907.19999999925, 534680.0999999996 188905.30000000075, 534676.9000000004 188896.69999999925, 534673.7999999998 188888, 534673.2000000002 188886.19999999925, 534666.2999999998 188872.80000000075, 534665.2999999998 188870.19999999925, 534664.0999999996 188867.59999999963, 534663.2999999998 188865.80000000075, 534662 188863.30000000075, 534660.7000000002 188860.80000000075, 534659.2999999998 188858.40000000037, 534657.7999999998 188856, 534656.2999999998 188853.59999999963, 534654.5999999996 188851.30000000075, 534652.7999999998 188849.09999999963, 534651.2999999998 188847.40000000037, 534649.7000000002 188845.80000000075, 534648.0999999996 188844.30000000075, 534646.4000000004 188842.80000000075, 534644.7000000002 188841.40000000037, 534643 188839.90000000037, 534641.2999999998 188838.5, 534640.7000000002 188838, 534630.2999999998 188828.90000000037, 534619.7999999998 188820, 534617.2000000002 188817.90000000037, 534562.9000000004 188771.59999999963, 534531.7000000002 188744.19999999925, 534510.4000000004 188725.59999999963, 534459.5999999996 188680.30000000075, 534454.0999999996 188675, 534448.7000000002 188669.69999999925, 534443.4000000004 188664.09999999963, 534438.2999999998 188658.5, 534433.2999999998 188652.69999999925, 534428.5 188646.80000000075, 534423.7999999998 188640.80000000075, 534419.2999999998 188634.69999999925, 534415.4000000004 188629.19999999925, 534411.2000000002 188622.80000000075, 534407.2000000002 188616.40000000037, 534403.4000000004 188609.80000000075, 534399.7000000002 188603.09999999963, 534396.2000000002 188596.40000000037, 534392.7000000002 188589.59999999963, 534389.4000000004 188582.69999999925, 534386.0999999996 188575.90000000037, 534385.7000000002 188575, 534384.7999999998 188573.09999999963, 534380.7000000002 188564.59999999963, 534375.5999999996 188554.30000000075, 534371.0999999996 188543.80000000075, 534367.4000000004 188533.09999999963, 534365.7999999998 188525.90000000037, 534365.2000000002 188522.30000000075, 534364.7999999998 188518.69999999925, 534364.4000000004 188515.09999999963, 534364.0999999996 188511.5, 534363.9000000004 188507.90000000037, 534363.9000000004 188504.30000000075, 534363.9000000004 188500.69999999925, 534364.0999999996 188497.09999999963, 534364.2999999998 188493.5, 534364.7000000002 188489.90000000037, 534365.2000000002 188486.40000000037, 534365.7999999998 188482.80000000075, 534366.4000000004 188479.30000000075, 534367.0999999996 188476.5, 534367.9000000004 188473.19999999925, 534368.9000000004 188469.90000000037, 534369.9000000004 188466.59999999963, 534371.0999999996 188463.40000000037, 534372.2999999998 188460.19999999925, 534373.7000000002 188457, 534375.0999999996 188453.90000000037, 534376.5999999996 188450.80000000075, 534378.2000000002 188447.80000000075, 534379.9000000004 188444.80000000075, 534381.7000000002 188441.90000000037, 534383.5 188439, 534385.5 188436.19999999925, 534387.5 188433.40000000037, 534389.5999999996 188430.69999999925, 534391.7999999998 188428.09999999963, 534392.7999999998 188426.90000000037, 534421.7999999998 188378.09999999963, 534438.4000000004 188343.40000000037, 534444.0999999996 188327.40000000037, 534338.9000000004 188289.30000000075, 534266.7999999998 188262.69999999925, 534234.7000000002 188251.40000000037, 534208.2000000002 188236, 534149.7000000002 188217, 534104.5999999996 188201.09999999963, 534059.5999999996 188187.59999999963, 534063.5 188158.5, 534039.2999999998 188151.69999999925, 534029.2999999998 188149, 534019.7999999998 188147.5, 534015.7999999998 188146.90000000037, 533976.9000000004 188138, 533953.7000000002 188131.59999999963, 533924.9000000004 188125.5, 533884.9000000004 188113, 533874 188109.80000000075, 533857.4000000004 188105, 533840.5 188099.5, 533805.2999999998 188089.90000000037, 533774.7000000002 188076.69999999925, 533711.2999999998 188065.5, 533710.9000000004 188066.90000000037, 533708.2000000002 188076.5, 533706.2999999998 188076, 533678.7000000002 188068.59999999963, 533675.5999999996 188067.5, 533674.7999999998 188067.59999999963, 533665.5 188065.09999999963, 533647.7000000002 188069.30000000075, 533628.7000000002 188067.30000000075, 533594 188062.09999999963, 533594 188064.90000000037, 533588.5 188064.40000000037, 533588.0999999996 188067.19999999925, 533587.0999999996 188073.90000000037, 533578.7000000002 188073.19999999925, 533578.7999999998 188069.19999999925, 533562.4000000004 188066.5, 533546.0999999996 188063.80000000075, 533536.5 188062.40000000037, 533535 188069.80000000075, 533531.2000000002 188069.30000000075, 533532.2999999998 188061.69999999925, 533532.4000000004 188061.09999999963, 533481.2000000002 188053.80000000075, 533479.7999999998 188028.90000000037, 533471.5999999996 188028, 533468 188030.09999999963, 533464.0999999996 188032.40000000037, 533441.4000000004 188044.59999999963, 533439.2000000002 188045.80000000075, 533431.7000000002 188029.5, 533426.7999999998 188018.80000000075, 533408.7999999998 187982.59999999963, 533352.2999999998 187996.69999999925, 533349.7000000002 187997.40000000037, 533352.4000000004 188003.80000000075, 533319.5999999996 188013.40000000037, 533317.9000000004 188013.90000000037, 533316.5 188007.59999999963, 533284.2000000002 188015.80000000075, 533284.2999999998 188016.59999999963, 533284.5999999996 188019, 533281.5 188019.80000000075, 533253.5999999996 188026.40000000037, 533219.4000000004 188033.59999999963, 533192.2999999998 188037.5, 533158.0999999996 188039.19999999925, 533158.2999999998 188042.90000000037, 533087.0999999996 188047.09999999963, 533085.9000000004 188053, 533019.2000000002 188030.40000000037, 532992.5999999996 188019.80000000075, 532953.5999999996 188012.90000000037, 532897.7000000002 187997.90000000037, 532883.2000000002 187996.90000000037, 532808.2999999998 187987.80000000075, 532754.2000000002 187977.19999999925, 532743.2999999998 187959, 532729.4000000004 187955.40000000037, 532727.0999999996 187954.80000000075, 532687.5 187943.90000000037, 532648.2999999998 187937, 532652.4000000004 187916.69999999925, 532652.9000000004 187914.09999999963, 532661.9000000004 187915.19999999925, 532668.2000000002 187910.19999999925, 532674.5999999996 187901.09999999963, 532674.4000000004 187892.19999999925, 532636.0999999996 187901.09999999963, 532623.2000000002 187902.30000000075, 532615.7999999998 187902.69999999925, 532610.4000000004 187902.59999999963, 532602.7999999998 187902.30000000075, 532596.2000000002 187901.5, 532588.9000000004 187899.90000000037, 532567.5 187893.90000000037, 532551.9000000004 187892.09999999963, 532538 187893.19999999925, 532527.7999999998 187894.19999999925, 532525.5999999996 187894.40000000037, 532516.0999999996 187895.90000000037, 532511.5 187896.30000000075, 532506.7999999998 187896.69999999925, 532502.2000000002 187897.30000000075, 532497.5 187897.5, 532489 187898.19999999925, 532468.7000000002 187898.09999999963, 532458.7000000002 187897, 532451 187895.40000000037, 532447.2000000002 187894.30000000075, 532444.4000000004 187893.40000000037, 532437 187891.5, 532433.2000000002 187889, 532412.0999999996 187877.19999999925, 532389.0999999996 187863.59999999963, 532370.7999999998 187855, 532362.2000000002 187851.90000000037, 532355.4000000004 187850.59999999963, 532351.4000000004 187849.90000000037, 532348.5 187849.30000000075, 532345.5 187848.80000000075, 532336.7000000002 187848.09999999963, 532333.7999999998 187847.69999999925, 532330.7999999998 187847.40000000037, 532327.9000000004 187847.19999999925, 532326.2000000002 187847.09999999963, 532323.2999999998 187847, 532320.5 187847.09999999963, 532317.7000000002 187847.30000000075, 532314.7999999998 187847.5, 532312 187847.80000000075, 532309.2000000002 187848.09999999963, 532307.9000000004 187848.19999999925, 532296.2000000002 187849.19999999925, 532284.4000000004 187850.5, 532272.7000000002 187852.09999999963, 532270 187852.59999999963, 532264.2999999998 187852.80000000075, 532258.5999999996 187852.90000000037, 532253 187852.80000000075, 532247.2999999998 187852.5, 532246 187852.5, 532240.0999999996 187851.40000000037, 532233.5 187850.09999999963, 532213.2000000002 187845.40000000037, 532210.2999999998 187844.69999999925, 532200.5999999996 187841.19999999925, 532193.5999999996 187837.69999999925, 532161.0999999996 187817.90000000037, 532142.5 187804.59999999963, 532133.2999999998 187799.80000000075, 532120.5999999996 187800.90000000037, 532118.5999999996 187800.80000000075, 532116.5999999996 187800.80000000075, 532114.5999999996 187800.90000000037, 532112.5999999996 187801, 532110.5999999996 187801.09999999963, 532108.5999999996 187801.19999999925, 532106.5999999996 187801.40000000037, 532104.5999999996 187801.5, 532102.5 187801.59999999963, 532095.7999999998 187802, 532089.0999999996 187802.5, 532082.4000000004 187803.19999999925, 532075.7000000002 187804.09999999963, 532073.9000000004 187804.30000000075, 532034.7000000002 187812.69999999925, 532007 187821.30000000075, 532003.9000000004 187821.40000000037, 532000.7999999998 187821.5, 531998.7999999998 187821.5, 531995.7000000002 187821.40000000037, 531992.5999999996 187821.30000000075, 531989.4000000004 187821, 531987.2999999998 187820.80000000075, 531984.0999999996 187820.30000000075, 531980.7999999998 187819.80000000075, 531977.5 187819.09999999963, 531974.0999999996 187818.40000000037, 531968.9000000004 187817.30000000075, 531963.7000000002 187815.90000000037, 531958.5 187814.5, 531953.2999999998 187812.90000000037, 531950.5 187811.90000000037, 531935.7000000002 187804.40000000037, 531928.4000000004 187801.5, 531919.2000000002 187797.30000000075, 531945 187725.80000000075, 531985.5 187612.40000000037, 531989.0999999996 187600.30000000075, 531996.9000000004 187574.30000000075, 532002 187564.5, 532008.4000000004 187552.40000000037, 532020.5 187519.19999999925, 532026 187507.40000000037, 532036.9000000004 187488, 532044.2999999998 187475.80000000075, 532048.5999999996 187471, 532028.5999999996 187446, 531911 187294.30000000075, 531868.4000000004 187239.30000000075, 531848.2000000002 187212.80000000075, 531736.9000000004 187070.19999999925, 531691.0999999996 187017.40000000037, 531575.4000000004 186892.59999999963, 531493.5999999996 186806.5, 531487.9000000004 186801.80000000075, 531487.0999999996 186802.80000000075, 531482.7000000002 186808.5, 531473.2000000002 186800.69999999925, 531455 186785.80000000075, 531360 186883.90000000037, 531329.4000000004 186915.19999999925, 531310.0999999996 186938, 531301.7000000002 186947.40000000037, 531279.7000000002 186970, 531259.5999999996 186993.90000000037, 531248.0999999996 187012.69999999925, 531242.7999999998 187020, 531208.7000000002 187060.19999999925, 531201.4000000004 187068.80000000075, 531187.7000000002 187083.80000000075, 531173.4000000004 187098, 531170.2000000002 187101, 531156.2999999998 187113.69999999925, 531138.4000000004 187128.90000000037, 531065.2999999998 187196.90000000037, 531041.5999999996 187215, 531039.0999999996 187216.90000000037, 530974.5 187265, 530733 187428.09999999963, 530732.7000000002 187432.19999999925, 530732.5 187434.59999999963, 530729.2999999998 187436.09999999963, 530724.2000000002 187438.69999999925, 530724.2000000002 187456.30000000075, 530724.2000000002 187510.69999999925, 530723.7000000002 187520.80000000075, 530719.7000000002 187523.19999999925, 530698 187536.40000000037, 530691 187543.09999999963, 530691.2999999998 187543.59999999963, 530704.0999999996 187573.90000000037, 530679.9000000004 187589, 530655.2000000002 187604.59999999963, 530653.2000000002 187605.80000000075, 530689.7000000002 187649.30000000075, 530672.7999999998 187676.80000000075, 530618 187736.40000000037, 530575.2999999998 187785.80000000075, 530556.2000000002 187809.19999999925, 530546.5999999996 187820.90000000037, 530531.5999999996 187825, 530501.2999999998 187832.09999999963, 530457.0999999996 187842.59999999963, 530443.5 187842.90000000037, 530408.5999999996 187843.69999999925, 530414 187848.40000000037, 530453.9000000004 187883.30000000075, 530454.5 187883.69999999925, 530436.7000000002 187901.5, 530427.9000000004 187910.30000000075, 530429.5999999996 187912, 530418.0999999996 187941.09999999963, 530407.2999999998 187968.69999999925, 530405.2999999998 187968.59999999963, 530399.5999999996 187968.19999999925, 530380.5 187962.30000000075, 530254.9000000004 187911.09999999963, 530253.5999999996 187915.40000000037, 530252.2999999998 187914.80000000075, 530212.7999999998 187897, 530210.0999999996 187903.59999999963, 530150.9000000004 187870.40000000037, 530139.7000000002 187869.69999999925, 530127.7000000002 187868.19999999925, 530116.2000000002 187867.09999999963, 530113 187863.30000000075, 530111.5 187861.40000000037, 530103.7999999998 187850.5, 530093.0999999996 187837.80000000075, 530081.9000000004 187830.59999999963, 530073.5 187831.09999999963, 530066.4000000004 187831.90000000037, 530063.0999999996 187832.19999999925, 530061.7000000002 187822.09999999963, 530058.9000000004 187809.09999999963, 530052.7000000002 187806.19999999925, 530041.2000000002 187802.30000000075, 530025.7000000002 187799.30000000075, 530000.0999999996 187795.09999999963, 530000 187795.09999999963, 529953.0999999996 187791.69999999925, 529947.7000000002 187794.19999999925, 529926.9000000004 187800.09999999963, 529915.0999999996 187802.09999999963, 529909.7000000002 187802.40000000037, 529885.7000000002 187800.40000000037, 529859.7999999998 187803.90000000037, 529773.2000000002 187777.09999999963, 529730.5 187766.5, 529704.5 187761.40000000037, 529650.9000000004 187748.09999999963, 529616.7999999998 187739.30000000075, 529604.9000000004 187736.30000000075, 529591.7000000002 187731.40000000037, 529576.5 187722.80000000075, 529568.2999999998 187716.59999999963, 529555.7999999998 187709.5, 529525.7999999998 187694.69999999925, 529503.2999999998 187684.90000000037, 529495.0999999996 187680.59999999963, 529483.0999999996 187673.69999999925, 529473.9000000004 187667.5, 529454.5999999996 187652.19999999925, 529452.5 187650.19999999925, 529398.4000000004 187601.5, 529333 187541.19999999925, 529328.4000000004 187537.80000000075, 529304.9000000004 187521.19999999925, 529284.2999999998 187508.5, 529266.2000000002 187496.59999999963, 529240.4000000004 187473.59999999963, 529230 187465.30000000075, 529217.0999999996 187456.90000000037, 529190.2999999998 187441.69999999925, 529169.0999999996 187428.80000000075, 529136.7000000002 187402.5, 529118.2000000002 187389.59999999963, 529112.4000000004 187385.59999999963, 529111.0999999996 187384.5, 529095.5 187373.40000000037, 529083.4000000004 187359.30000000075, 529067.2999999998 187344.90000000037, 529040.5 187320.80000000075, 528970.5 187260.80000000075, 528957.9000000004 187251.59999999963, 528943.5 187246.09999999963, 528897.2000000002 187234.90000000037, 528857.0999999996 187221.30000000075, 528840.2000000002 187217.80000000075))\",\n          \"POLYGON ((533716.5999999996 170817.80000000075, 533715.4000000004 170814.59999999963, 533714.7000000002 170812.69999999925, 533710.4000000004 170795.5, 533708 170778.69999999925, 533705.0999999996 170756.09999999963, 533702.7999999998 170752, 533700.7999999998 170748.69999999925, 533699.0999999996 170734.90000000037, 533702 170732.69999999925, 533693.2999999998 170730, 533663.7000000002 170720.80000000075, 533648.4000000004 170717.19999999925, 533621.4000000004 170712.59999999963, 533595.2000000002 170710.30000000075, 533581.2999999998 170709.90000000037, 533560.2000000002 170710.30000000075, 533480.2000000002 170715.80000000075, 533438.2000000002 170717.30000000075, 533401.4000000004 170711.69999999925, 533400.7000000002 170711.5, 533369.7999999998 170704.19999999925, 533331.0999999996 170690.90000000037, 533254.0999999996 170665.80000000075, 533217.5999999996 170657.80000000075, 533195.0999999996 170654.90000000037, 533180.0999999996 170654.59999999963, 533172.7000000002 170655.09999999963, 533155.9000000004 170658.09999999963, 533142.2999999998 170662.59999999963, 533127.7000000002 170669.59999999963, 533117.5 170676.30000000075, 533061.5 170705.90000000037, 533044.0999999996 170715.80000000075, 533031.4000000004 170724, 533012.7999999998 170738.90000000037, 532970 170791.19999999925, 532947 170820.19999999925, 532931.5 170836.30000000075, 532921.7999999998 170844.69999999925, 532915.0999999996 170849.80000000075, 532908.4000000004 170854.19999999925, 532898.9000000004 170859.59999999963, 532888.0999999996 170864.80000000075, 532842.5 170891.09999999963, 532824.2000000002 170903, 532803.4000000004 170917.90000000037, 532776.7999999998 170940, 532750.0999999996 170972, 532738.0999999996 170986.40000000037, 532707.9000000004 171006.30000000075, 532688.5999999996 171014.90000000037, 532674.7000000002 171020.19999999925, 532658.7000000002 171025.59999999963, 532644 171029.5, 532624.7999999998 171032.90000000037, 532612.0999999996 171034, 532595 171034.40000000037, 532578 171033.40000000037, 532560.7999999998 171031.19999999925, 532467.2999999998 171024.30000000075, 532417.5 171012.90000000037, 532394.7000000002 171008.09999999963, 532375.5 171004.80000000075, 532354.9000000004 171002.19999999925, 532334.2000000002 171000.40000000037, 532314.7000000002 170999.5, 532285.2000000002 170999.5, 532192.5999999996 170997.80000000075, 532148.9000000004 170996, 531908.5 170997.40000000037, 531881.5 170996, 531846.9000000004 170991.5, 531799.5999999996 170986.59999999963, 531786.4000000004 170986.5, 531781.7000000002 170986.40000000037, 531772.5999999996 170986.90000000037, 531749.5999999996 170989.69999999925, 531714.2000000002 170998.19999999925, 531653.5 171015, 531597.2999999998 171032.90000000037, 531560.5999999996 171043, 531549.2999999998 171045, 531533.2999999998 171045.90000000037, 531516.2000000002 171043.5, 531509.9000000004 171043.19999999925, 531501.0999999996 171042.80000000075, 531471.7000000002 171039.80000000075, 531442.9000000004 171040.59999999963, 531399.7000000002 171043.19999999925, 531362.9000000004 171045.40000000037, 531318.7999999998 171048.69999999925, 531317 171047, 531314.4000000004 171036.19999999925, 531296 171012.09999999963, 531277.7999999998 170994.30000000075, 531242 170958.90000000037, 531232.9000000004 170941.5, 531231.2000000002 170936.30000000075, 531225 170917.69999999925, 531221.7999999998 170911.69999999925, 531215.7999999998 170900.59999999963, 531200.2000000002 170870.19999999925, 531199.7999999998 170870.09999999963, 531197.7000000002 170869.80000000075, 531196.2999999998 170869.5, 531194.7999999998 170864, 531192 170853.40000000037, 531172.5 170822.69999999925, 531173.7999999998 170820.40000000037, 531141.7999999998 170785.69999999925, 531138.2000000002 170776.80000000075, 531133.7000000002 170772, 531124 170755.69999999925, 531115.7999999998 170746.90000000037, 531102.7000000002 170734.80000000075, 531085 170723.5, 531058 170710.5, 531032.9000000004 170695.59999999963, 531020.4000000004 170688.69999999925, 530976.7999999998 170656.69999999925, 530974.2000000002 170659, 530969.7999999998 170655.09999999963, 530952.0999999996 170637.90000000037, 530943.5 170630.59999999963, 530934.2999999998 170622, 530928.7000000002 170616.80000000075, 530900.4000000004 170595.5, 530884.7999999998 170583.80000000075, 530856.7000000002 170563, 530833.5999999996 170542.5, 530822.0999999996 170515.40000000037, 530820.7000000002 170486.40000000037, 530815.5 170471.59999999963, 530809.2999999998 170454.09999999963, 530802.5999999996 170427.69999999925, 530793.5999999996 170402.40000000037, 530779.7999999998 170368.30000000075, 530773 170356.19999999925, 530768.7999999998 170349.30000000075, 530769 170349.09999999963, 530768.5999999996 170348.5, 530772.5999999996 170346.5, 530774.2999999998 170345.19999999925, 530768.5999999996 170337.19999999925, 530764 170339.5, 530760.9000000004 170334.59999999963, 530755.4000000004 170325.69999999925, 530749.7999999998 170314.69999999925, 530744.7999999998 170300.90000000037, 530736.7000000002 170285.5, 530726.7000000002 170266.59999999963, 530720.7999999998 170254.09999999963, 530718.9000000004 170248, 530712.5 170226.40000000037, 530696.9000000004 170204, 530678.7999999998 170178.19999999925, 530674.2000000002 170171.19999999925, 530660.4000000004 170147.80000000075, 530658.9000000004 170144.40000000037, 530657.0999999996 170140.19999999925, 530659.7999999998 170136.09999999963, 530661.2000000002 170117.69999999925, 530654.0999999996 170118.09999999963, 530625.5 170119.59999999963, 530624 170116.90000000037, 530616.9000000004 170103.90000000037, 530597.7999999998 170081, 530579.2000000002 170073.40000000037, 530562.5999999996 170070.90000000037, 530551.5999999996 170068.19999999925, 530544 170044.40000000037, 530536.4000000004 170019.59999999963, 530531.0999999996 170000.5, 530526.5999999996 170000, 530524.5 169981, 530522.7000000002 169964, 530521.5999999996 169952.90000000037, 530524.5999999996 169941.5, 530527.7999999998 169929.09999999963, 530525.7000000002 169928.5, 530495.4000000004 169920, 530495.2999999998 169919.90000000037, 530451.0999999996 169876.69999999925, 530445.4000000004 169860.5, 530438.2000000002 169845.19999999925, 530421.5999999996 169861.40000000037, 530406.5 169875.59999999963, 530404.4000000004 169877.59999999963, 530403.5999999996 169877.09999999963, 530380.0999999996 169861.40000000037, 530330.5 169830.5, 530324.4000000004 169826.69999999925, 530302.4000000004 169806.69999999925, 530302 169805.19999999925, 530300.5999999996 169799.59999999963, 530293.7999999998 169771.80000000075, 530291.2999999998 169772, 530000.0999999996 169796.30000000075, 530000 169796.30000000075, 529957.2000000002 169801.40000000037, 529922.7999999998 169815, 529896.9000000004 169825.19999999925, 529897.2000000002 169826, 529902.9000000004 169839.80000000075, 529909.9000000004 169856.69999999925, 529911.2000000002 169859.80000000075, 529895.5 169865, 529885 169836.40000000037, 529884.0999999996 169834.19999999925, 529883.0999999996 169830.30000000075, 529880.9000000004 169822.5, 529879.2999999998 169806.59999999963, 529878.2000000002 169778.19999999925, 529877.9000000004 169770, 529874.7000000002 169740.80000000075, 529864.9000000004 169650.59999999963, 529864.7000000002 169648, 529841.9000000004 169657.19999999925, 529816 169667.5, 529800.2999999998 169671.30000000075, 529786.5 169671.80000000075, 529768.0999999996 169671.30000000075, 529738.0999999996 169679.69999999925, 529685.9000000004 169695.09999999963, 529623.4000000004 169715.90000000037, 529584.0999999996 169731.09999999963, 529572 169738.90000000037, 529554.2999999998 169747.30000000075, 529543.7999999998 169752.19999999925, 529494.4000000004 169772.80000000075, 529492.0999999996 169773.80000000075, 529482.2000000002 169775.69999999925, 529449.4000000004 169790.30000000075, 529365.2999999998 169832, 529306.0999999996 169870.40000000037, 529268.2000000002 169894.5, 529261.7000000002 169895, 529237.5999999996 169873, 529155.4000000004 169805.90000000037, 529144 169796.59999999963, 529138.2999999998 169794.59999999963, 529132.0999999996 169792.5, 529128.9000000004 169787.59999999963, 529116.2000000002 169785.19999999925, 529114.4000000004 169784.90000000037, 529111.7999999998 169784.40000000037, 529090.5 169801.09999999963, 529067.0999999996 169801, 529045 169800.90000000037, 528976.7999999998 169800.09999999963, 528925.7999999998 169818.5, 528886.5 169832.30000000075, 528899.7999999998 169852.80000000075, 528918.5 169883.30000000075, 528921.4000000004 169888, 528937.4000000004 169912.90000000037, 528953.9000000004 169938, 528968.7000000002 169953.40000000037, 528981 169964.59999999963, 528999.7999999998 169981.80000000075, 529017.9000000004 170000, 529018 170000, 529049.4000000004 170032.40000000037, 529082.7999999998 170064.09999999963, 529139.7999999998 170114.40000000037, 529139.5 170114.80000000075, 529116.9000000004 170139.40000000037, 529092.5 170163.5, 529098.7999999998 170170.5, 529178.7999999998 170261, 529225.0999999996 170314.30000000075, 529210 170329.30000000075, 529322.2999999998 170460.40000000037, 529402.9000000004 170555.19999999925, 529463.4000000004 170626.5, 529494.7000000002 170662.80000000075, 529530.2999999998 170706.5, 529553.7000000002 170736.80000000075, 529575.2000000002 170766.19999999925, 529541.2999999998 170867.90000000037, 529524.7000000002 170933.80000000075, 529523.5999999996 170938.80000000075, 529500.4000000004 171045.5, 529497 171066, 529491 171149.80000000075, 529489.7000000002 171171.5, 529488.7000000002 171228.69999999925, 529490.2000000002 171318.90000000037, 529495.5999999996 171400.5, 529507.7999999998 171531.19999999925, 529510.5 171567.19999999925, 529512.9000000004 171615.59999999963, 529513.7999999998 171651.69999999925, 529513.5999999996 171705.80000000075, 529514.5 171751.40000000037, 529512 171792, 529511.9000000004 171804.90000000037, 529511.9000000004 171805.09999999963, 529511.5 171808.09999999963, 529510.5 171816, 529558.4000000004 171810.59999999963, 529592.5 171806.19999999925, 529628.5 171800.59999999963, 529682.7000000002 171793.90000000037, 529713.0999999996 171789.40000000037, 529721.2000000002 171788.5, 529724.5 171788.19999999925, 529729 171797, 529721.0999999996 171831.90000000037, 529703.5999999996 171893.5, 529682.2999999998 171977.09999999963, 529660.2999999998 172074.80000000075, 529636.2999999998 172183.40000000037, 529631.4000000004 172192.90000000037, 529620 172193.69999999925, 529602.9000000004 172194.09999999963, 529556.9000000004 172178.5, 529539 172175.09999999963, 529512.4000000004 172205.90000000037, 529449 172288.30000000075, 529421.5999999996 172328.19999999925, 529410.2000000002 172343.09999999963, 529406.4000000004 172357.09999999963, 529401.5 172381.80000000075, 529397.7000000002 172405.40000000037, 529391.5999999996 172447.59999999963, 529383.2000000002 172516.69999999925, 529387 172532.30000000075, 529398.4000000004 172563.90000000037, 529422.4000000004 172593.5, 529426.2000000002 172597.09999999963, 529440.2000000002 172610.19999999925, 529449.5999999996 172615.90000000037, 529482 172635.30000000075, 529495.7000000002 172649.40000000037, 529516.2000000002 172673.69999999925, 529528.7999999998 172691.59999999963, 529537.5 172709.80000000075, 529549.2999999998 172736.80000000075, 529555.7000000002 172766.5, 529556.0999999996 172799.5, 529556.2000000002 172801, 529560.7999999998 172833.80000000075, 529563.7000000002 172838.59999999963, 529563.5999999996 172842.80000000075, 529560.5999999996 172845.69999999925, 529561.5 172852.90000000037, 529547.9000000004 172869, 529547 172871.90000000037, 529544.7000000002 172879, 529546 172884.5, 529547.2999999998 172889.19999999925, 529550.2999999998 172891.5, 529554.2000000002 172905.90000000037, 529576.9000000004 172897.40000000037, 529577 172897.69999999925, 529579.5 172896.80000000075, 529592.7000000002 172935.30000000075, 529600.5999999996 172950.5, 529617.7999999998 172996.40000000037, 529638.9000000004 173041.80000000075, 529649.5 173068.90000000037, 529651.5 173093.69999999925, 529646.2000000002 173094.19999999925, 529643.2000000002 173094, 529617.5999999996 173082.80000000075, 529616.2000000002 173079.40000000037, 529593.2000000002 173069.80000000075, 529551.7000000002 173059.90000000037, 529550.4000000004 173059.59999999963, 529514.7000000002 173055.69999999925, 529434.2999999998 173054.5, 529311.7000000002 173055.69999999925, 529255.2999999998 173055.30000000075, 529203.5999999996 173056.09999999963, 529175.0999999996 173055.69999999925, 529140.0999999996 173057.80000000075, 529115.7000000002 173061.5, 529100.2999999998 173112.5, 529086.7999999998 173151.5, 529061.9000000004 173216.80000000075, 529052.2999999998 173240.80000000075, 529042.7999999998 173267.09999999963, 529031.4000000004 173290.19999999925, 529023.5999999996 173309.30000000075, 529002.2999999998 173351, 528982.9000000004 173400.69999999925, 528967.9000000004 173453.40000000037, 528960.7999999998 173501.80000000075, 528960.0999999996 173506.09999999963, 528961.2999999998 173507.80000000075, 528967.2999999998 173516.30000000075, 528967.4000000004 173519.90000000037, 528967.9000000004 173555.80000000075, 528975.0999999996 173616.90000000037, 528984.7000000002 173669, 528991.2999999998 173706.09999999963, 529006.2000000002 173770.80000000075, 529015.2000000002 173804.90000000037, 529025 173823.19999999925, 529064.2999999998 173860.59999999963, 529094.9000000004 173891.80000000075, 529112.2000000002 173914.5, 529131.2999999998 173947, 529139.2999999998 173961.40000000037, 529148.0999999996 173977.30000000075, 529163.7999999998 174008.5, 529172.9000000004 174033.5, 529177.2999999998 174055, 529179.7999999998 174078.90000000037, 529180.0999999996 174081.59999999963, 529122.5 174091.69999999925, 529090 174098.80000000075, 529079 174103.90000000037, 529019 174131.80000000075, 528882.0999999996 174188.90000000037, 528826.5999999996 174211.19999999925, 528800.5999999996 174222, 528823.2999999998 174292, 528805.7000000002 174292.30000000075, 528804.2999999998 174292.5, 528792.7999999998 174391.09999999963, 528778 174488.80000000075, 528774.5999999996 174503.30000000075, 528776.5999999996 174511.40000000037, 528775.5999999996 174531.69999999925, 528766.0999999996 174623.69999999925, 528759.7000000002 174674, 528745 174761.80000000075, 528744.2000000002 174773.19999999925, 528742.2999999998 174779.80000000075, 528720 174840, 528697.7000000002 174897.90000000037, 528697.5 174898.5, 528678.9000000004 174946.30000000075, 528672.5999999996 174970.40000000037, 528665.5 175000, 528640.7000000002 175208.90000000037, 528639 175215.19999999925, 528638.2999999998 175217.69999999925, 528632.0999999996 175235.69999999925, 528621.4000000004 175259.80000000075, 528612.2999999998 175277.80000000075, 528588.2999999998 175320, 528582.5999999996 175332, 528577.2000000002 175344.09999999963, 528567.9000000004 175368.80000000075, 528562.5 175386.59999999963, 528557.7000000002 175407.80000000075, 528543.4000000004 175494.80000000075, 528542 175508.09999999963, 528540.5999999996 175538.09999999963, 528519.2999999998 175722.09999999963, 528571.9000000004 175733.80000000075, 528564.2999999998 175772.40000000037, 528556.4000000004 175876.69999999925, 528555.9000000004 175891.69999999925, 528557 175915.59999999963, 528575.7999999998 175923.59999999963, 528638.5 175962.19999999925, 528784.0999999996 176060.30000000075, 528865 176114.69999999925, 529061.4000000004 176245.80000000075, 529071 176251.80000000075, 529101.7000000002 176201.90000000037, 529176 176267, 529182 176272.30000000075, 529161.2999999998 176297.40000000037, 529216 176341.09999999963, 529259.5 176376, 529293.2999999998 176346.90000000037, 529301.9000000004 176352, 529331 176369.30000000075, 529320.9000000004 176384.59999999963, 529312.2000000002 176391.69999999925, 529310.7000000002 176392.90000000037, 529317.2999999998 176400.09999999963, 529321 176399.80000000075, 529333.2000000002 176408, 529337.4000000004 176409.40000000037, 529340.9000000004 176407.69999999925, 529347.2999999998 176411.40000000037, 529369.2000000002 176423.80000000075, 529370.7999999998 176414.69999999925, 529374.2999999998 176408.90000000037, 529385.5 176413, 529396.9000000004 176420.59999999963, 529402 176425.19999999925, 529417.7000000002 176439.80000000075, 529430.7000000002 176458.30000000075, 529454.5999999996 176492.59999999963, 529493.0999999996 176548.59999999963, 529511.4000000004 176531.5, 529523.4000000004 176519.69999999925, 529530.7999999998 176513.59999999963, 529531.7999999998 176512.5, 529532.9000000004 176511.5, 529534 176510.59999999963, 529535.0999999996 176509.69999999925, 529536.2999999998 176508.80000000075, 529537.5 176508, 529538.7999999998 176507.19999999925, 529540 176506.40000000037, 529552.4000000004 176506.59999999963, 529564.2000000002 176507.59999999963, 529572.7000000002 176508.80000000075, 529578.4000000004 176510.80000000075, 529585.7999999998 176514.5, 529602.7000000002 176527.09999999963, 529610.0999999996 176536.30000000075, 529621.2999999998 176552.80000000075, 529639.5999999996 176578.90000000037, 529643.2000000002 176577.30000000075, 529645 176576.40000000037, 529656 176592.59999999963, 529660.4000000004 176614.69999999925, 529659.5 176628.5, 529658.9000000004 176630.80000000075, 529656.2000000002 176640.69999999925, 529660.2000000002 176642, 529662.2000000002 176645.5, 529661.2000000002 176650.30000000075, 529656.0999999996 176653.69999999925, 529643.9000000004 176661.90000000037, 529628.2999999998 176671.5, 529606.9000000004 176684.69999999925, 529630.7000000002 176726.30000000075, 529631.7000000002 176728, 529625 176731.59999999963, 529641.0999999996 176760, 529654 176752.69999999925, 529654.5 176753.59999999963, 529672.9000000004 176785, 529681.7999999998 176796.69999999925, 529684.7999999998 176827.40000000037, 529689.9000000004 176837, 529696.5 176842.19999999925, 529696 176861.80000000075, 529699.2000000002 176871.90000000037, 529711.4000000004 176904.90000000037, 529732.7999999998 176956, 529747.5 176991.30000000075, 529777.7999999998 177063.5, 529801.2000000002 177119.09999999963, 529812.2000000002 177145.09999999963, 529815.2000000002 177152.19999999925, 529820 177151.40000000037, 529820.2000000002 177151.80000000075, 529820.2999999998 177151.80000000075, 529821.5 177155.5, 529827.5 177172.09999999963, 529830.5 177184, 529836.4000000004 177206.90000000037, 529844.4000000004 177232.5, 529848.7999999998 177243.30000000075, 529857.5 177262, 529862 177269.30000000075, 529873.9000000004 177283.09999999963, 529886.2000000002 177300.69999999925, 529894.7999999998 177321.40000000037, 529907.4000000004 177350.19999999925, 529908.5 177352.90000000037, 529912.7999999998 177352.09999999963, 529913.7999999998 177355, 529922 177378.09999999963, 529926.5999999996 177390.59999999963, 529927.7999999998 177391.90000000037, 529928.0999999996 177392.5, 529930.5999999996 177395, 529936.7999999998 177400.90000000037, 529938.9000000004 177403, 529954.2000000002 177460.80000000075, 529987.5999999996 177482, 530007.5 177494.19999999925, 530044 177514.09999999963, 530088.2000000002 177539.80000000075, 530122 177558.59999999963, 530127.2000000002 177601.80000000075, 530134.5999999996 177654.40000000037, 530141.5 177707.30000000075, 530148.5 177737.90000000037, 530160 177765.09999999963, 530193.7000000002 177832.30000000075, 530181.9000000004 177836.80000000075, 530145.5 177846.19999999925, 530098.2999999998 177858.40000000037, 530076.7999999998 177860.5, 530067.4000000004 177859.09999999963, 530053.0999999996 177884.19999999925, 530046.7999999998 177893.40000000037, 530037.4000000004 177907.19999999925, 530001.9000000004 177953.80000000075, 529990.7000000002 177966.19999999925, 529978.2000000002 177979.90000000037, 529972.5 177985.40000000037, 529984.9000000004 177996.90000000037, 529996.5 178011.30000000075, 530016 178035.09999999963, 530044.9000000004 178070.19999999925, 530059.5999999996 178091.40000000037, 530079.2999999998 178120.30000000075, 530090.0999999996 178134.59999999963, 530104.7000000002 178150.69999999925, 530113.7000000002 178163.40000000037, 530124 178177, 530128.9000000004 178184.30000000075, 530130.4000000004 178186.59999999963, 530155.7999999998 178224.40000000037, 530165.7000000002 178242.69999999925, 530188.7000000002 178286.19999999925, 530240.5 178380.90000000037, 530271.0999999996 178438.59999999963, 530283 178462.09999999963, 530292.7000000002 178481.59999999963, 530301.9000000004 178500.30000000075, 530326.0999999996 178560.59999999963, 530336.5 178585.90000000037, 530340.2000000002 178597.19999999925, 530341.5999999996 178607.69999999925, 530341.4000000004 178621.19999999925, 530340.2000000002 178649.09999999963, 530340.7000000002 178666.5, 530344.7000000002 178685.69999999925, 530349.0999999996 178701.90000000037, 530354.2000000002 178717.69999999925, 530363 178732.19999999925, 530367.5999999996 178742.90000000037, 530371.7000000002 178753.59999999963, 530377.4000000004 178772.69999999925, 530385 178799.40000000037, 530389.2999999998 178817.5, 530395.5999999996 178843.90000000037, 530400.2999999998 178864, 530405.0999999996 178906.59999999963, 530407.5 178925.59999999963, 530410.5999999996 178958.5, 530412.4000000004 178981.19999999925, 530417.7000000002 179010.90000000037, 530429.2999999998 179108.69999999925, 530433.0999999996 179144.80000000075, 530434.9000000004 179176.80000000075, 530433.5999999996 179245.59999999963, 530435.5 179310, 530439.2999999998 179371.5, 530445.5 179455, 530448.9000000004 179502.59999999963, 530465.5 179706.80000000075, 530482.7000000002 179923.30000000075, 530488 179979.09999999963, 530491.4000000004 180008.5, 530494.4000000004 180053.30000000075, 530500.4000000004 180107, 530503.7999999998 180127.5, 530512.9000000004 180167.90000000037, 530519.2000000002 180200.30000000075, 530527.7000000002 180223.09999999963, 530535.9000000004 180238.59999999963, 530541.4000000004 180250.19999999925, 530573 180313.19999999925, 530594.5 180354.40000000037, 530622.7000000002 180397, 530657.2000000002 180440.40000000037, 530683.2000000002 180474.5, 530702 180493.80000000075, 530719.5 180509, 530730.7999999998 180515.80000000075, 530743.2000000002 180523.30000000075, 530781.7999999998 180546.59999999963, 530821.2000000002 180573.09999999963, 530855.7000000002 180590.5, 530872.7000000002 180599, 530891.0999999996 180606.69999999925, 530914.4000000004 180615.19999999925, 530940.4000000004 180624.59999999963, 530986.5 180638, 531068.5 180658.59999999963, 531115.0999999996 180667.19999999925, 531155.5999999996 180672.69999999925, 531182.5999999996 180676.69999999925, 531214.2000000002 180679.90000000037, 531230.5 180680.69999999925, 531261.2000000002 180683.30000000075, 531313.2000000002 180688.09999999963, 531314 180683, 531317.2000000002 180661.59999999963, 531335.5999999996 180529.5, 531335.9000000004 180526.80000000075, 531341 180488.5, 531346.4000000004 180447.90000000037, 531360.5999999996 180453.59999999963, 531366.5999999996 180454.40000000037, 531373.0999999996 180423, 531374.5 180417.40000000037, 531383.4000000004 180383.19999999925, 531386.9000000004 180371.30000000075, 531392 180360.5, 531447.9000000004 180379.19999999925, 531506.2000000002 180183.80000000075, 531506.5 180183.40000000037, 531516.2000000002 180149.30000000075, 531518.7999999998 180132.40000000037, 531519.2000000002 180116.69999999925, 531517.5 180095.19999999925, 531512.5999999996 180073.90000000037, 531511.2999999998 180068.19999999925, 531509.5999999996 180045.09999999963, 531516.2999999998 180000, 531516.4000000004 180000, 531525.7000000002 179970.30000000075, 531453 179928.5, 531504.2999999998 179841.90000000037, 531546.0999999996 179876.40000000037, 531550.2999999998 179864.40000000037, 531552.7999999998 179848.80000000075, 531552 179841.19999999925, 531550.5999999996 179836.5, 531548.7000000002 179833.09999999963, 531560.5999999996 179823.69999999925, 531558 179819.69999999925, 531521.7000000002 179771.30000000075, 531509.2000000002 179780.09999999963, 531501 179770.19999999925, 531432.4000000004 179681.59999999963, 531409.4000000004 179651.59999999963, 531406.7999999998 179647, 531398.5 179630.59999999963, 531348.7999999998 179491.09999999963, 531326.2999999998 179422.80000000075, 531323.2000000002 179409.19999999925, 531323.5 179408, 531273.7000000002 179240.90000000037, 531273.2000000002 179237.40000000037, 531274 179230.09999999963, 531195.2999999998 179191.30000000075, 531230.4000000004 179095.30000000075, 531231.7000000002 179086.69999999925, 531241.9000000004 179078.5, 531252.2999999998 179077, 531257.9000000004 179075.5, 531263.2999999998 179073.40000000037, 531341.4000000004 179029.09999999963, 531499.2000000002 178944.90000000037, 531598.9000000004 178895.5, 531627.2000000002 178887.09999999963, 531658.0999999996 178878.30000000075, 531658.7999999998 178876.19999999925, 531665.7999999998 178855.40000000037, 531673.0999999996 178827.90000000037, 531686 178812.59999999963, 531694.7999999998 178790.59999999963, 531705.4000000004 178765.5, 531706.2000000002 178763.40000000037, 531716.7000000002 178737.5, 531728.7999999998 178704.80000000075, 531732.9000000004 178706.80000000075, 531743.2999999998 178712.09999999963, 531744.7000000002 178710.30000000075, 531754 178697.90000000037, 531766.5999999996 178686.69999999925, 531758.4000000004 178676.80000000075, 531784.7999999998 178653.09999999963, 531768.5999999996 178635.59999999963, 531785.4000000004 178620.40000000037, 531778.9000000004 178606.40000000037, 531778.7999999998 178605.90000000037, 531770.0999999996 178585.69999999925, 531742.7999999998 178539.30000000075, 531717.2999999998 178490.69999999925, 531682.4000000004 178436.59999999963, 531641.2999999998 178369, 531628.5 178348.09999999963, 531455.4000000004 178052.69999999925, 531433.2999999998 178018, 531445.5 178006.69999999925, 531455.7999999998 177996.40000000037, 531466.0999999996 177987.30000000075, 531476.5 177980.90000000037, 531567.9000000004 177923.69999999925, 531581.5 177915.19999999925, 531568.7000000002 177892.90000000037, 531564.5999999996 177874.80000000075, 531556.2999999998 177853, 531544.4000000004 177822, 531525 177776.19999999925, 531542.2000000002 177767.59999999963, 531553.0999999996 177762.19999999925, 531588.0999999996 177737.90000000037, 531635.2000000002 177702.40000000037, 531637.2000000002 177700.80000000075, 531619 177681.40000000037, 531609.5999999996 177671.90000000037, 531638.7999999998 177643.5, 531654.2000000002 177618.09999999963, 531661.0999999996 177606.80000000075, 531664.2999999998 177606.69999999925, 531673 177606.5, 531691.5999999996 177577.90000000037, 531711.4000000004 177550.69999999925, 531710.5999999996 177536.69999999925, 531712 177534.59999999963, 531753.4000000004 177476.5, 531750.7000000002 177475.90000000037, 531687.0999999996 177461.69999999925, 531649.0999999996 177452.19999999925, 531484.4000000004 177416.69999999925, 531474.4000000004 177414.5, 531468 177412.19999999925, 531465.5 177410.59999999963, 531464 177407.30000000075, 531463.5999999996 177400.80000000075, 531465.5 177398.59999999963, 531476.2000000002 177391.30000000075, 531479.9000000004 177389, 531491.2999999998 177382, 531537.2999999998 177353, 531653.7999999998 177278, 531790.2999999998 177191.90000000037, 531939.2000000002 177105.09999999963, 532046.2000000002 177035.09999999963, 532038.7000000002 177019.09999999963, 532034.9000000004 177009.59999999963, 532024.2999999998 176968.19999999925, 532011 176801.80000000075, 532005.5999999996 176765.40000000037, 532007.9000000004 176752.90000000037, 532010.5 176745.30000000075, 532013.9000000004 176738.09999999963, 532028.7999999998 176714, 532071.5999999996 176652, 532088.7999999998 176611.5, 532101.7000000002 176563.69999999925, 532111.5999999996 176524.19999999925, 532116.7000000002 176515.69999999925, 532135.5 176487.80000000075, 532262.7999999998 176353, 532344.2000000002 176264.80000000075, 532407.7000000002 176302, 532426.2000000002 176319.5, 532449.5999999996 176339.59999999963, 532458.4000000004 176347.90000000037, 532466.7000000002 176356.09999999963, 532473.0999999996 176363.90000000037, 532475.7999999998 176368.30000000075, 532480.0999999996 176379.09999999963, 532496.9000000004 176460.40000000037, 532501 176473.30000000075, 532503.5999999996 176478.90000000037, 532512.7000000002 176494.5, 532540.2999999998 176519.90000000037, 532544 176509.09999999963, 532544.5 176507.5, 532553 176389.09999999963, 532554.7999999998 176367.19999999925, 532562.0999999996 176299.90000000037, 532567.4000000004 176275.40000000037, 532570.5999999996 176264.09999999963, 532572.2999999998 176258.90000000037, 532605.7000000002 176183.40000000037, 532687.7000000002 176021.40000000037, 532761.5999999996 175879.19999999925, 532764.7999999998 175867.80000000075, 532766 175861.5, 532766.7999999998 175853.59999999963, 532767 175844, 532765.4000000004 175814.30000000075, 532733.5 175542, 532715.9000000004 175490.09999999963, 532703.9000000004 175458.80000000075, 532676.7000000002 175395.69999999925, 532632.5 175297.5, 532624.7000000002 175287.59999999963, 532609.7000000002 175265.30000000075, 532595.7000000002 175251.40000000037, 532590.2000000002 175245, 532583.5999999996 175236.09999999963, 532573.2000000002 175219.30000000075, 532535.7999999998 175170.80000000075, 532502.7999999998 175124.19999999925, 532474.2000000002 175076.19999999925, 532463.7000000002 175058.5, 532454.5999999996 175041.59999999963, 532444.2000000002 175017.69999999925, 532437.9000000004 175000, 532436.2000000002 174996, 532432.2999999998 174986.80000000075, 532413.2000000002 174931.30000000075, 532402.7999999998 174900.19999999925, 532391.4000000004 174878.09999999963, 532366.7999999998 174850.19999999925, 532341.5999999996 174818, 532299.0999999996 174765.19999999925, 532272.4000000004 174735.59999999963, 532255.5999999996 174722, 532205 174683, 532169.2999999998 174649.09999999963, 532106.7000000002 174577, 532067.2999999998 174534, 532046.4000000004 174506.80000000075, 532042 174495.80000000075, 532034.7000000002 174474.80000000075, 532031.9000000004 174464.59999999963, 532042.4000000004 174402.5, 532042.5 174388, 532041.2000000002 174379.59999999963, 532038.2999999998 174369.59999999963, 532023.2999999998 174333.80000000075, 532019.9000000004 174324.69999999925, 532014.7000000002 174307.09999999963, 532014.2999999998 174295.40000000037, 532014.9000000004 174284.09999999963, 532016.4000000004 174272.80000000075, 532018.9000000004 174261.69999999925, 532022.2999999998 174250.80000000075, 532025.2999999998 174242.90000000037, 532026.5999999996 174240.09999999963, 532040.4000000004 174219, 532053.0999999996 174196.09999999963, 532059 174183.30000000075, 532062.5 174174.09999999963, 532064.7000000002 174166.09999999963, 532065.7999999998 174158.59999999963, 532066.5999999996 174118.80000000075, 532069.2999999998 174085.09999999963, 532069.7999999998 174080.09999999963, 532100.2999999998 174080.30000000075, 532108.4000000004 174081.90000000037, 532112.4000000004 174081.90000000037, 532117.9000000004 174081.09999999963, 532123.2000000002 174079.5, 532128.0999999996 174076.90000000037, 532132.7000000002 174073.5, 532136.2999999998 174069, 532142.5 174058.40000000037, 532148.2000000002 174047.5, 532154.2000000002 174032.40000000037, 532164.7000000002 173996.30000000075, 532165.7999999998 173981.59999999963, 532166.9000000004 173975.40000000037, 532171.4000000004 173959.5, 532174.4000000004 173952.59999999963, 532178.0999999996 173946.09999999963, 532204.2000000002 173908.30000000075, 532235.7000000002 173875.09999999963, 532270.7999999998 173843.19999999925, 532308.5999999996 173803.09999999963, 532403.4000000004 173692, 532418.2999999998 173665.90000000037, 532433.2999999998 173639.19999999925, 532465.9000000004 173578.5, 532474.0999999996 173560.19999999925, 532477.4000000004 173550.90000000037, 532481.7999999998 173532.80000000075, 532483.0999999996 173523, 532484.2999999998 173508.59999999963, 532484.5999999996 173486.59999999963, 532483.2999999998 173466.5, 532483.9000000004 173458.80000000075, 532485.7000000002 173446.59999999963, 532490.5999999996 173427, 532524.2999999998 173322.90000000037, 532553.9000000004 173258.80000000075, 532561.2999999998 173244.80000000075, 532576.2999999998 173217.59999999963, 532588.2999999998 173197.19999999925, 532608.4000000004 173165.19999999925, 532619.4000000004 173144.30000000075, 532634.5999999996 173105.40000000037, 532644.5 173067.5, 532652.5999999996 173040.90000000037, 532669.9000000004 172984.09999999963, 532691.5999999996 172904.09999999963, 532708.2000000002 172849.69999999925, 532712.0999999996 172835.09999999963, 532718.9000000004 172818.09999999963, 532723.2999999998 172809.80000000075, 532731.4000000004 172796.69999999925, 532748.7999999998 172762.5, 532770.5999999996 172711.5, 532786.7000000002 172662.90000000037, 532810.7999999998 172581.30000000075, 532817.5 172557.90000000037, 532826.4000000004 172518.09999999963, 532845.7999999998 172412.5, 532862.0999999996 172326.5, 532896.5999999996 172151.09999999963, 532919.2000000002 172042.69999999925, 532951.9000000004 171903.09999999963, 532981.7000000002 171811, 532994.7999999998 171782.19999999925, 533001.5999999996 171770.80000000075, 533009.5999999996 171760.59999999963, 533026.7999999998 171744.19999999925, 533040.5 171733.90000000037, 533070.2999999998 171719.59999999963, 533115.5 171705.09999999963, 533150.0999999996 171690.80000000075, 533155.4000000004 171689.90000000037, 533158.7999999998 171688.5, 533164.5 171684.09999999963, 533166.4000000004 171681.59999999963, 533168 171678.30000000075, 533169 171673, 533167.2000000002 171659.09999999963, 533163.5 171646.59999999963, 533155.5 171630.09999999963, 533153.5 171621, 533153.5 171616, 533154.2000000002 171611, 533155.5999999996 171606.19999999925, 533158.0999999996 171600.90000000037, 533161.5999999996 171596.09999999963, 533167.7999999998 171591.19999999925, 533175.5 171588.19999999925, 533200.7999999998 171569.30000000075, 533213.4000000004 171556.69999999925, 533214.2000000002 171555.30000000075, 533219.9000000004 171545, 533235.9000000004 171511.59999999963, 533258.2000000002 171464.80000000075, 533278.7999999998 171421.59999999963, 533300.4000000004 171376.5, 533316.4000000004 171339.5, 533330 171297.19999999925, 533334.4000000004 171265.80000000075, 533335.9000000004 171243.90000000037, 533339.2999999998 171201.30000000075, 533344 171150.80000000075, 533346.5999999996 171120.09999999963, 533348.5999999996 171085.69999999925, 533350.2000000002 171074.09999999963, 533352.7999999998 171075.09999999963, 533393.7999999998 171090.59999999963, 533449.7000000002 171113.09999999963, 533467.0999999996 171119.09999999963, 533470.7999999998 171118.30000000075, 533473.2000000002 171111.69999999925, 533513.2999999998 171004.40000000037, 533532.9000000004 170950.90000000037, 533536 170952.19999999925, 533571 170966.59999999963, 533589.2999999998 170974.59999999963, 533604.4000000004 170985.30000000075, 533606.4000000004 170981.80000000075, 533620.9000000004 170956.90000000037, 533629.2000000002 170942.59999999963, 533632.9000000004 170936.19999999925, 533670.4000000004 170923.59999999963, 533656.2999999998 170880.30000000075, 533649.0999999996 170858.09999999963, 533648.7999999998 170850, 533649.7999999998 170847.90000000037, 533652.2000000002 170842.90000000037, 533654 170841.5, 533656.5999999996 170839.5, 533716.5999999996 170817.80000000075))\"\n        ],\n        \"semantic_type\": \"\",\n        \"description\": \"\"\n      }\n    },\n    {\n      \"column\": \"area_km2\",\n      \"properties\": {\n        \"dtype\": \"number\",\n        \"std\": 32.25905690161095,\n        \"min\": 12.383791499999484,\n        \"max\": 150.1348583549994,\n        \"num_unique_values\": 32,\n        \"samples\": [\n          29.59838331500003,\n          27.249338749999872\n        ],\n        \"semantic_type\": \"\",\n        \"description\": \"\"\n      }\n    }\n  ]\n}"
            }
          },
          "metadata": {},
          "execution_count": 22
        }
      ]
    },
    {
      "cell_type": "markdown",
      "source": [
        "### Spatial autocorrelation analysis (Moran's I)"
      ],
      "metadata": {
        "id": "AxJqLpfPXjuD"
      }
    },
    {
      "cell_type": "markdown",
      "source": [
        "Spatial aggregation may be an important contextual factor in analysing obesity rates, firstly values of Moran's I were calculated and scatter plots were made"
      ],
      "metadata": {
        "id": "5NLUOjnRXgUP"
      }
    },
    {
      "cell_type": "code",
      "source": [
        "warnings.filterwarnings('ignore')\n",
        "\n",
        "# Create output directory\n",
        "if not os.path.exists('outputs'):\n",
        "    os.makedirs('outputs')\n",
        "\n",
        "plt.rcParams['axes.unicode_minus'] = False\n",
        "\n",
        "# Merge spatial boundary data with analytical dataset\n",
        "spatial_data = boroughs.merge(final_data, on='gss_code', how='left')\n",
        "\n",
        "# Preview merged data\n",
        "print(\"\\nData Preview:\")\n",
        "print(f\"Shape of spatial data: {spatial_data.shape}\")\n",
        "print(\"\\nNumber of boroughs with available obesity data:\", spatial_data['Year6_Obesity_Prevalence_2018-19'].count())\n",
        "print(\"\\nDescriptive statistics for Year 6 Obesity Prevalence:\")\n",
        "print(spatial_data['Year6_Obesity_Prevalence_2018-19'].describe())"
      ],
      "metadata": {
        "colab": {
          "base_uri": "https://localhost:8080/",
          "height": 0
        },
        "id": "ZRaTC4KXMFRD",
        "outputId": "3bae9641-b518-4148-c6a8-939a7881623c"
      },
      "execution_count": 23,
      "outputs": [
        {
          "output_type": "stream",
          "name": "stdout",
          "text": [
            "\n",
            "Data Preview:\n",
            "Shape of spatial data: (32, 17)\n",
            "\n",
            "Number of boroughs with available obesity data: 32\n",
            "\n",
            "Descriptive statistics for Year 6 Obesity Prevalence:\n",
            "count    32.000000\n",
            "mean     22.706491\n",
            "std       3.747953\n",
            "min      11.215792\n",
            "25%      20.393706\n",
            "50%      23.540593\n",
            "75%      24.667661\n",
            "max      29.457814\n",
            "Name: Year6_Obesity_Prevalence_2018-19, dtype: float64\n"
          ]
        }
      ]
    },
    {
      "cell_type": "markdown",
      "source": [
        "Creating a spatial weight matrix"
      ],
      "metadata": {
        "id": "bBBnYop48ffe"
      }
    },
    {
      "cell_type": "code",
      "source": [
        "w = Queen.from_dataframe(spatial_data, use_index=True)\n",
        "\n",
        "print(f\"\\nCharacteristics of the spatial weights matrix:\")\n",
        "print(f\"Matrix dimensions: {w.n} x {w.n}\")\n",
        "print(f\"Average number of neighbors: {w.mean_neighbors:.2f}\")\n",
        "print(f\"Maximum number of neighbors: {w.max_neighbors}\")\n",
        "print(f\"Minimum number of neighbors: {w.min_neighbors}\")"
      ],
      "metadata": {
        "colab": {
          "base_uri": "https://localhost:8080/",
          "height": 0
        },
        "id": "ptU-zeHP8Wju",
        "outputId": "89a7939c-8928-41a9-fbc3-0dbd82d4ba38"
      },
      "execution_count": 24,
      "outputs": [
        {
          "output_type": "stream",
          "name": "stdout",
          "text": [
            "\n",
            "Characteristics of the spatial weights matrix:\n",
            "Matrix dimensions: 32 x 32\n",
            "Average number of neighbors: 4.69\n",
            "Maximum number of neighbors: 7\n",
            "Minimum number of neighbors: 3\n"
          ]
        }
      ]
    },
    {
      "cell_type": "markdown",
      "source": [
        "Calculate Moran's I"
      ],
      "metadata": {
        "id": "igPY7lKM8kiO"
      }
    },
    {
      "cell_type": "code",
      "source": [
        "y = spatial_data['Year6_Obesity_Prevalence_2018-19'].values\n",
        "moran = Moran(y, w)"
      ],
      "metadata": {
        "id": "yG1Fgs-08h2Z"
      },
      "execution_count": 25,
      "outputs": []
    },
    {
      "cell_type": "markdown",
      "source": [
        "Print results"
      ],
      "metadata": {
        "id": "eXzNIjTK8n3K"
      }
    },
    {
      "cell_type": "code",
      "source": [
        "print(\"\\n\\nMoran's I Statistics:\")\n",
        "print(f\"Moran's I value: {moran.I:.4f}\")\n",
        "print(f\"Expected value: {moran.EI:.4f}\")\n",
        "print(f\"z-score: {moran.z_sim:.4f}\")\n",
        "print(f\"p-value: {moran.p_sim:.4f}\")\n",
        "\n",
        "if moran.p_sim < 0.01:\n",
        "    print(\"\\nConclusion: Highly significant spatial autocorrelation (p < 0.01)\")\n",
        "elif moran.p_sim < 0.05:\n",
        "    print(\"\\nConclusion: Significant spatial autocorrelation (p < 0.05)\")\n",
        "else:\n",
        "    print(\"\\nConclusion: No significant spatial autocorrelation\")"
      ],
      "metadata": {
        "colab": {
          "base_uri": "https://localhost:8080/",
          "height": 0
        },
        "id": "5t_WQB_d8of4",
        "outputId": "3dc115c5-e753-4b09-d800-cce93e1d4743"
      },
      "execution_count": 26,
      "outputs": [
        {
          "output_type": "stream",
          "name": "stdout",
          "text": [
            "\n",
            "\n",
            "Moran's I Statistics:\n",
            "Moran's I value: 0.2981\n",
            "Expected value: -0.0323\n",
            "z-score: 3.2591\n",
            "p-value: 0.0020\n",
            "\n",
            "Conclusion: Highly significant spatial autocorrelation (p < 0.01)\n"
          ]
        }
      ]
    },
    {
      "cell_type": "markdown",
      "source": [
        "Visualising Moran Scatterplots"
      ],
      "metadata": {
        "id": "lNcbNExK8wzW"
      }
    },
    {
      "cell_type": "code",
      "source": [
        "fig, ax = plt.subplots(1, 1, figsize=(10, 8))\n",
        "moran_scatterplot(moran, ax=ax)\n",
        "plt.title(f\"Moran's I Scatterplot - Year 6 Obesity Prevalence 2018-19\\n(I={moran.I:.4f}, p={moran.p_sim:.4f})\", fontsize=14)\n",
        "plt.xlabel('Year 6 Obesity Prevalence (standardized)', fontsize=12)\n",
        "plt.ylabel('Spatial Lag (standardized)', fontsize=12)\n",
        "plt.tight_layout()\n",
        "\n",
        "if os.path.exists('outputs'):\n",
        "    plt.savefig('outputs/moran_scatterplot.png', dpi=300, bbox_inches='tight')\n",
        "plt.show()"
      ],
      "metadata": {
        "colab": {
          "base_uri": "https://localhost:8080/",
          "height": 539
        },
        "id": "k64pUr8O8vcn",
        "outputId": "4d20ab65-bdec-4615-d4eb-f0b02797c536"
      },
      "execution_count": 27,
      "outputs": [
        {
          "output_type": "display_data",
          "data": {
            "text/plain": [
              "<Figure size 1000x800 with 1 Axes>"
            ],
            "image/png": "[encoded data removed]"
          },
          "metadata": {}
        }
      ]
    },
    {
      "cell_type": "markdown",
      "source": [
        "This suggests that there is a clustering of childhood obesity rates at the borough level."
      ],
      "metadata": {
        "id": "4Br47euz2RX5"
      }
    },
    {
      "cell_type": "markdown",
      "source": [
        "Visualised map of spatial distribution of childhood obesity rates is more intuitive."
      ],
      "metadata": {
        "id": "QotoldS89ADE"
      }
    },
    {
      "cell_type": "code",
      "source": [
        "fig, ax = plt.subplots(1, 1, figsize=(12, 10))\n",
        "spatial_data.plot(column='Year6_Obesity_Prevalence_2018-19',\n",
        "                  cmap='OrRd',\n",
        "                  legend=True,\n",
        "                  ax=ax,\n",
        "                  legend_kwds={'label': \"Year 6 Obesity Prevalence (%)\", 'orientation': \"horizontal\"})\n",
        "ax.set_title('London Borough Year 6 Childhood Obesity Prevalence (2018-19)', fontsize=16)\n",
        "ax.set_axis_off()\n",
        "plt.tight_layout()\n",
        "if os.path.exists('outputs'):\n",
        "    plt.savefig('outputs/obesity_spatial_distribution.png', dpi=300, bbox_inches='tight')\n",
        "plt.show()"
      ],
      "metadata": {
        "colab": {
          "base_uri": "https://localhost:8080/",
          "height": 905
        },
        "id": "H3tpb4tHYek-",
        "outputId": "d90e6d81-18ee-4b9c-e1bf-6a9677b67066"
      },
      "execution_count": 28,
      "outputs": [
        {
          "output_type": "display_data",
          "data": {
            "text/plain": [
              "<Figure size 1200x1000 with 2 Axes>"
            ],
            "image/png": "[encoded data removed]"
          },
          "metadata": {}
        }
      ]
    },
    {
      "cell_type": "markdown",
      "source": [
        "### Multiple linear regression (OLS)"
      ],
      "metadata": {
        "id": "uj29mKOr13ix"
      }
    },
    {
      "cell_type": "markdown",
      "source": [
        "Before carrying out multiple linear regression analysis, we should first consider the multicollinearity between independent variables. Firstly, let's check the data basics first."
      ],
      "metadata": {
        "id": "pA0AvTYcWITZ"
      }
    },
    {
      "cell_type": "markdown",
      "source": [
        "Make sure there are no variables of non-numeric types, check with final_data.info()."
      ],
      "metadata": {
        "id": "6Uxpw9zybXeA"
      }
    },
    {
      "cell_type": "code",
      "source": [
        "final_data.info()"
      ],
      "metadata": {
        "colab": {
          "base_uri": "https://localhost:8080/",
          "height": 0
        },
        "id": "v6LYlbOvbNPh",
        "outputId": "1b7e4ddb-7138-48af-cb0c-81c1e62fcb81"
      },
      "execution_count": 29,
      "outputs": [
        {
          "output_type": "stream",
          "name": "stdout",
          "text": [
            "<class 'pandas.core.frame.DataFrame'>\n",
            "RangeIndex: 32 entries, 0 to 31\n",
            "Data columns (total 9 columns):\n",
            " #   Column                            Non-Null Count  Dtype  \n",
            "---  ------                            --------------  -----  \n",
            " 0   gss_code                          32 non-null     object \n",
            " 1   name                              32 non-null     object \n",
            " 2   Year6_Obesity_Prevalence_2018-19  32 non-null     float64\n",
            " 3   Fast_Food_Density                 32 non-null     float64\n",
            " 4   IMD_Avg_Score                     32 non-null     float64\n",
            " 5   percent_green                     32 non-null     float64\n",
            " 6   population_density_ha             32 non-null     int64  \n",
            " 7   non_working_proportion            32 non-null     float64\n",
            " 8   non_white_proportion              32 non-null     float64\n",
            "dtypes: float64(6), int64(1), object(2)\n",
            "memory usage: 2.4+ KB\n"
          ]
        }
      ]
    },
    {
      "cell_type": "markdown",
      "source": [
        "We can see that the ‘gss_code’ and ‘name’ columns are formatted as objects, while the rest of the columns are formatted as floats and integers. This indicates that we do not need to change the data format of the independent and dependent variables."
      ],
      "metadata": {
        "id": "1J2KYWOxcj50"
      }
    },
    {
      "cell_type": "markdown",
      "source": [
        "Prepare data, select independent and dependent variables."
      ],
      "metadata": {
        "id": "aaiLiA359Uua"
      }
    },
    {
      "cell_type": "code",
      "source": [
        "X_cols = ['IMD_Avg_Score', 'non_working_proportion', 'non_white_proportion',\n",
        "          'Fast_Food_Density', 'percent_green', 'population_density_ha']\n",
        "y_col = 'Year6_Obesity_Prevalence_2018-19'"
      ],
      "metadata": {
        "id": "eTkGt01HWPLx"
      },
      "execution_count": 30,
      "outputs": []
    },
    {
      "cell_type": "markdown",
      "source": [
        "Creating an analysis dataset."
      ],
      "metadata": {
        "id": "KD-ClqxF9cH-"
      }
    },
    {
      "cell_type": "code",
      "source": [
        "regression_data = final_data.dropna(subset=X_cols + [y_col])\n",
        "X = regression_data[X_cols]\n",
        "y = regression_data[y_col]\n",
        "\n",
        "print(\"\\nBasic Data Information:\")\n",
        "print(f\"Number of observations: {len(regression_data)}\")\n",
        "print(f\"Number of explanatory variables: {len(X_cols)}\")\n",
        "print(\"\\nDescriptive statistics for explanatory and outcome variables:\")\n",
        "print(regression_data[X_cols + [y_col]].describe().round(2))"
      ],
      "metadata": {
        "colab": {
          "base_uri": "https://localhost:8080/",
          "height": 0
        },
        "id": "ERMKVSx89atH",
        "outputId": "b66ba3ce-8261-46b2-e815-9e215c0709e6"
      },
      "execution_count": 31,
      "outputs": [
        {
          "output_type": "stream",
          "name": "stdout",
          "text": [
            "\n",
            "Basic Data Information:\n",
            "Number of observations: 32\n",
            "Number of explanatory variables: 6\n",
            "\n",
            "Descriptive statistics for explanatory and outcome variables:\n",
            "       IMD_Avg_Score  non_working_proportion  non_white_proportion  \\\n",
            "count          32.00                   32.00                 32.00   \n",
            "mean           21.50                   53.92                 44.88   \n",
            "std             6.05                    9.63                 12.79   \n",
            "min             9.43                   36.88                 19.50   \n",
            "25%            16.53                   46.32                 36.67   \n",
            "50%            21.90                   53.47                 44.90   \n",
            "75%            25.79                   60.86                 52.62   \n",
            "max            32.77                   70.58                 69.20   \n",
            "\n",
            "       Fast_Food_Density  percent_green  population_density_ha  \\\n",
            "count              32.00          32.00                  32.00   \n",
            "mean                3.93          44.80                  77.81   \n",
            "std                 3.66          11.01                  41.81   \n",
            "min                 0.30          25.38                  22.00   \n",
            "25%                 1.42          38.51                  46.75   \n",
            "50%                 2.37          43.41                  61.00   \n",
            "75%                 5.95          53.11                 111.25   \n",
            "max                15.52          68.36                 168.00   \n",
            "\n",
            "       Year6_Obesity_Prevalence_2018-19  \n",
            "count                             32.00  \n",
            "mean                              22.71  \n",
            "std                                3.75  \n",
            "min                               11.22  \n",
            "25%                               20.39  \n",
            "50%                               23.54  \n",
            "75%                               24.67  \n",
            "max                               29.46  \n"
          ]
        }
      ]
    },
    {
      "cell_type": "markdown",
      "source": [
        "The data as a whole is consistent with the socio-economic and environmental characteristics of the London boroughs, with significant regional heterogeneity, making it suitable for subsequent regression modelling analysis."
      ],
      "metadata": {
        "id": "mQvzZLP3dalo"
      }
    },
    {
      "cell_type": "markdown",
      "source": [
        "Variable correlation analysis"
      ],
      "metadata": {
        "id": "dKq-blNcWQCI"
      }
    },
    {
      "cell_type": "code",
      "execution_count": 32,
      "metadata": {
        "id": "pzDmVqbmBg0R",
        "colab": {
          "base_uri": "https://localhost:8080/",
          "height": 0
        },
        "outputId": "ad68e19e-574a-43ed-8259-acbb11d55161"
      },
      "outputs": [
        {
          "output_type": "stream",
          "name": "stdout",
          "text": [
            "\n",
            "correlation analysis:\n",
            "\n",
            "Correlation coefficient matrix:\n",
            "                                  IMD_Avg_Score  non_working_proportion  \\\n",
            "IMD_Avg_Score                             1.000                   0.320   \n",
            "non_working_proportion                    0.320                   1.000   \n",
            "non_white_proportion                      0.541                   0.637   \n",
            "Fast_Food_Density                         0.391                   0.259   \n",
            "percent_green                            -0.633                  -0.315   \n",
            "population_density_ha                     0.570                   0.265   \n",
            "Year6_Obesity_Prevalence_2018-19          0.819                   0.524   \n",
            "\n",
            "                                  non_white_proportion  Fast_Food_Density  \\\n",
            "IMD_Avg_Score                                    0.541              0.391   \n",
            "non_working_proportion                           0.637              0.259   \n",
            "non_white_proportion                             1.000              0.125   \n",
            "Fast_Food_Density                                0.125              1.000   \n",
            "percent_green                                   -0.331             -0.725   \n",
            "population_density_ha                            0.178              0.883   \n",
            "Year6_Obesity_Prevalence_2018-19                 0.683              0.217   \n",
            "\n",
            "                                  percent_green  population_density_ha  \\\n",
            "IMD_Avg_Score                            -0.633                  0.570   \n",
            "non_working_proportion                   -0.315                  0.265   \n",
            "non_white_proportion                     -0.331                  0.178   \n",
            "Fast_Food_Density                        -0.725                  0.883   \n",
            "percent_green                             1.000                 -0.834   \n",
            "population_density_ha                    -0.834                  1.000   \n",
            "Year6_Obesity_Prevalence_2018-19         -0.477                  0.278   \n",
            "\n",
            "                                  Year6_Obesity_Prevalence_2018-19  \n",
            "IMD_Avg_Score                                                0.819  \n",
            "non_working_proportion                                       0.524  \n",
            "non_white_proportion                                         0.683  \n",
            "Fast_Food_Density                                            0.217  \n",
            "percent_green                                               -0.477  \n",
            "population_density_ha                                        0.278  \n",
            "Year6_Obesity_Prevalence_2018-19                             1.000  \n"
          ]
        }
      ],
      "source": [
        "print(\"\\ncorrelation analysis:\")\n",
        "correlation_matrix = regression_data[X_cols + [y_col]].corr()\n",
        "print(\"\\nCorrelation coefficient matrix:\")\n",
        "print(correlation_matrix.round(3))"
      ]
    },
    {
      "cell_type": "markdown",
      "source": [
        "Visual correlation matrix"
      ],
      "metadata": {
        "id": "VZ2GY5hU2-m1"
      }
    },
    {
      "cell_type": "code",
      "source": [
        "plt.figure(figsize=(10, 8))\n",
        "sns.heatmap(correlation_matrix, annot=True, cmap='coolwarm', center=0, fmt='.2f')\n",
        "plt.title('Correlation coefficient matrix between variables', fontsize=14)\n",
        "plt.tight_layout()\n",
        "plt.savefig('outputs/correlation_matrix.png', dpi=300, bbox_inches='tight')\n",
        "plt.show()"
      ],
      "metadata": {
        "colab": {
          "base_uri": "https://localhost:8080/",
          "height": 807
        },
        "id": "GCfscDMq29dQ",
        "outputId": "24016f2d-5c4d-40fd-f10f-5b77f4e7d40a"
      },
      "execution_count": 33,
      "outputs": [
        {
          "output_type": "display_data",
          "data": {
            "text/plain": [
              "<Figure size 1000x800 with 2 Axes>"
            ],
            "image/png": "[encoded data removed]"
          },
          "metadata": {}
        }
      ]
    },
    {
      "cell_type": "markdown",
      "source": [
        "From the figure it can be seen that there is a certain degree of covariance in the independent variables, so after the establishment of the os it is necessary to carry out the calculation of the VIF (Variance Inflation Factor)"
      ],
      "metadata": {
        "id": "ERyzXo4pdiu7"
      }
    },
    {
      "cell_type": "markdown",
      "source": [
        "OLS regression analysis"
      ],
      "metadata": {
        "id": "Nsqmjqcy3Lua"
      }
    },
    {
      "cell_type": "code",
      "source": [
        "# Add constant term\n",
        "X_const = sm.add_constant(X)\n",
        "\n",
        "# Fit the model\n",
        "model = sm.OLS(y, X_const).fit()\n",
        "\n",
        "# Display model results\n",
        "print(\"\\nOLS Regression Results:\")\n",
        "print(model.summary())"
      ],
      "metadata": {
        "colab": {
          "base_uri": "https://localhost:8080/",
          "height": 0
        },
        "id": "WWRrT2w5eErw",
        "outputId": "47a8f66d-aa7b-4801-d668-6bb3a72a535e"
      },
      "execution_count": 34,
      "outputs": [
        {
          "output_type": "stream",
          "name": "stdout",
          "text": [
            "\n",
            "OLS Regression Results:\n",
            "                                   OLS Regression Results                                   \n",
            "============================================================================================\n",
            "Dep. Variable:     Year6_Obesity_Prevalence_2018-19   R-squared:                       0.857\n",
            "Model:                                          OLS   Adj. R-squared:                  0.823\n",
            "Method:                               Least Squares   F-statistic:                     25.06\n",
            "Date:                              Mon, 28 Apr 2025   Prob (F-statistic):           1.96e-09\n",
            "Time:                                      14:03:10   Log-Likelihood:                -56.009\n",
            "No. Observations:                                32   AIC:                             126.0\n",
            "Df Residuals:                                    25   BIC:                             136.3\n",
            "Df Model:                                         6                                         \n",
            "Covariance Type:                          nonrobust                                         \n",
            "==========================================================================================\n",
            "                             coef    std err          t      P>|t|      [0.025      0.975]\n",
            "------------------------------------------------------------------------------------------\n",
            "const                     13.0103      3.954      3.290      0.003       4.867      21.154\n",
            "IMD_Avg_Score              0.5327      0.074      7.227      0.000       0.381       0.684\n",
            "non_working_proportion     0.0950      0.040      2.391      0.025       0.013       0.177\n",
            "non_white_proportion       0.0232      0.034      0.673      0.507      -0.048       0.094\n",
            "Fast_Food_Density          0.3174      0.174      1.823      0.080      -0.041       0.676\n",
            "percent_green             -0.0844      0.051     -1.670      0.107      -0.189       0.020\n",
            "population_density_ha     -0.0692      0.019     -3.559      0.002      -0.109      -0.029\n",
            "==============================================================================\n",
            "Omnibus:                        0.711   Durbin-Watson:                   2.160\n",
            "Prob(Omnibus):                  0.701   Jarque-Bera (JB):                0.657\n",
            "Skew:                          -0.318   Prob(JB):                        0.720\n",
            "Kurtosis:                       2.703   Cond. No.                     1.70e+03\n",
            "==============================================================================\n",
            "\n",
            "Notes:\n",
            "[1] Standard Errors assume that the covariance matrix of the errors is correctly specified.\n",
            "[2] The condition number is large, 1.7e+03. This might indicate that there are\n",
            "strong multicollinearity or other numerical problems.\n"
          ]
        }
      ]
    },
    {
      "cell_type": "markdown",
      "source": [
        "The regression model explained 85.7% of the variation in obesity rates, with a very good model fit and good residual independence, but with some multicollinearity pitfalls, and the strongest predictor was poverty level (IMD_Avg_Score), which was highly significant."
      ],
      "metadata": {
        "id": "_bkPS1-NfLmV"
      }
    },
    {
      "cell_type": "markdown",
      "source": [
        "Multi-collinearity check - VIF value"
      ],
      "metadata": {
        "id": "XO0hb489zIpU"
      }
    },
    {
      "cell_type": "code",
      "source": [
        "vif_data = pd.DataFrame()\n",
        "vif_data[\"Variable\"] = X.columns\n",
        "vif_data[\"VIF\"] = [variance_inflation_factor(X.values, i) for i in range(X.shape[1])]\n",
        "vif_data = vif_data.sort_values('VIF', ascending=False)\n",
        "\n",
        "print(\"\\nVariance inflation factor (VIF) analysis:\")\n",
        "print(vif_data.round(2))\n",
        "print(\"\\nnote: VIF > 10 Indicates severe multicollinearity\")"
      ],
      "metadata": {
        "colab": {
          "base_uri": "https://localhost:8080/",
          "height": 0
        },
        "id": "7MwKe3CEeXBF",
        "outputId": "8cfe25ed-3e4f-474b-d2ee-c90113466769"
      },
      "execution_count": 35,
      "outputs": [
        {
          "output_type": "stream",
          "name": "stdout",
          "text": [
            "\n",
            "Variance inflation factor (VIF) analysis:\n",
            "                 Variable    VIF\n",
            "1  non_working_proportion  54.53\n",
            "2    non_white_proportion  33.15\n",
            "0           IMD_Avg_Score  31.13\n",
            "5   population_density_ha  30.86\n",
            "4           percent_green  13.94\n",
            "3       Fast_Food_Density  11.08\n",
            "\n",
            "note: VIF > 10 Indicates severe multicollinearity\n"
          ]
        }
      ]
    },
    {
      "cell_type": "markdown",
      "source": [
        "Visualisation VIF"
      ],
      "metadata": {
        "id": "aB_ZXnUCzDHn"
      }
    },
    {
      "cell_type": "code",
      "source": [
        "plt.figure(figsize=(10, 6))\n",
        "bars = plt.bar(vif_data['Variable'], vif_data['VIF'])\n",
        "plt.axhline(y=10, color='r', linestyle='--', label='VIF=10 (Multicollinearity threshold)')\n",
        "plt.xticks(rotation=45, ha='right')\n",
        "plt.ylabel('VIF value')\n",
        "plt.title('Variance inflation factor of each variable(VIF)', fontsize=14)\n",
        "plt.legend()\n",
        "plt.tight_layout()\n",
        "plt.savefig('outputs/vif_plot.png', dpi=300, bbox_inches='tight')\n",
        "plt.show()"
      ],
      "metadata": {
        "colab": {
          "base_uri": "https://localhost:8080/",
          "height": 607
        },
        "id": "WlTVZt1OzBEB",
        "outputId": "4b7c9099-2a71-4603-e420-1d62e927d334"
      },
      "execution_count": 36,
      "outputs": [
        {
          "output_type": "display_data",
          "data": {
            "text/plain": [
              "<Figure size 1000x600 with 1 Axes>"
            ],
            "image/png": "[encoded data removed]"
          },
          "metadata": {}
        }
      ]
    },
    {
      "cell_type": "markdown",
      "source": [
        "Severe VIF-indicated multicollinearity did not prompt variable removal because IMD_Avg_Score, non-white proportion and percent green space were theoretically essential; collinearity was recognised to inflate standard errors but not distort R² or coefficient signs. To gauge robustness under this collinearity, ridge regression was later applied to stabilise the coefficients."
      ],
      "metadata": {
        "id": "0jDGlBhRdowh"
      }
    },
    {
      "cell_type": "markdown",
      "source": [
        "Model Diagnostics（Residual Analysis）"
      ],
      "metadata": {
        "id": "ZgNiZLyyzTPt"
      }
    },
    {
      "cell_type": "code",
      "source": [
        "residuals = model.resid\n",
        "fitted = model.fittedvalues\n",
        "\n",
        "# Residual plots\n",
        "fig, axes = plt.subplots(2, 2, figsize=(14, 10))\n",
        "\n",
        "# Residuals vs Fitted\n",
        "axes[0, 0].scatter(fitted, residuals, alpha=0.6)\n",
        "axes[0, 0].axhline(y=0, color='r', linestyle='--')\n",
        "axes[0, 0].set_xlabel('Fitted Values')\n",
        "axes[0, 0].set_ylabel('Residuals')\n",
        "axes[0, 0].set_title('Residuals vs Fitted Values')\n",
        "# Q-Q plot\n",
        "stats.probplot(residuals, dist=\"norm\", plot=axes[0, 1])\n",
        "axes[0, 1].set_title('Normal Q-Q Plot')\n",
        "# Residual Histogram\n",
        "axes[1, 0].hist(residuals, bins=10, edgecolor='black')\n",
        "axes[1, 0].set_xlabel('Residuals')\n",
        "axes[1, 0].set_ylabel('Frequency')\n",
        "axes[1, 0].set_title('Residuals Distribution Histogram')\n",
        "# Standardized Residuals vs Observation Order\n",
        "standardized_resid = residuals / np.std(residuals)\n",
        "axes[1, 1].scatter(range(len(standardized_resid)), standardized_resid, alpha=0.6)\n",
        "axes[1, 1].axhline(y=0, color='r', linestyle='--')\n",
        "axes[1, 1].set_xlabel('Observation Order')\n",
        "axes[1, 1].set_ylabel('Standardized Residuals')\n",
        "axes[1, 1].set_title('Standardized Residuals vs Observation Order')\n",
        "\n",
        "plt.tight_layout()\n",
        "plt.savefig('outputs/ols_diagnostics.png', dpi=300, bbox_inches='tight')\n",
        "plt.show()"
      ],
      "metadata": {
        "colab": {
          "base_uri": "https://localhost:8080/",
          "height": 810
        },
        "id": "dYDXE2mYhyqp",
        "outputId": "5addc543-e071-4bad-a1b1-1e714671aec0"
      },
      "execution_count": 37,
      "outputs": [
        {
          "output_type": "display_data",
          "data": {
            "text/plain": [
              "<Figure size 1400x1000 with 4 Axes>"
            ],
            "image/png": "[encoded data removed]"
          },
          "metadata": {}
        }
      ]
    },
    {
      "cell_type": "markdown",
      "source": [
        "The residual diagnostic plots demonstrated no substantial violations of the fundamental OLS assumptions, suggesting that linearity, normality of residuals, homoscedasticity, and independence were sufficiently upheld."
      ],
      "metadata": {
        "id": "7OT171HPmXje"
      }
    },
    {
      "cell_type": "markdown",
      "source": [
        "Standard errors are inflated due to multicollinearity, but all major factors are retained for interpretation to maintain theoretical integrity."
      ],
      "metadata": {
        "id": "hEQCQlr3KMqR"
      }
    },
    {
      "cell_type": "code",
      "source": [
        "# OLS model fit summary\n",
        "print(\"\\n5. Model Fit Summary:\")\n",
        "summary_results = {\n",
        "    'Metric': ['R²', 'Adjusted R²', 'F-statistic', 'F-statistic p-value', 'AIC', 'BIC', 'Number of Observations'],\n",
        "    'Value': [f\"{model.rsquared:.3f}\", f\"{model.rsquared_adj:.3f}\",\n",
        "              f\"{model.fvalue:.2f}\", f\"{model.f_pvalue:.2e}\",\n",
        "              f\"{model.aic:.1f}\", f\"{model.bic:.1f}\", f\"{model.nobs:.0f}\"]\n",
        "}\n",
        "summary_df = pd.DataFrame(summary_results)\n",
        "print(summary_df.to_string(index=False))"
      ],
      "metadata": {
        "colab": {
          "base_uri": "https://localhost:8080/",
          "height": 0
        },
        "id": "5GRWMvcDKEQN",
        "outputId": "a44f2ac6-f648-4d25-cfbf-9f066e47d0a2"
      },
      "execution_count": 38,
      "outputs": [
        {
          "output_type": "stream",
          "name": "stdout",
          "text": [
            "\n",
            "5. Model Fit Summary:\n",
            "                Metric    Value\n",
            "                    R²    0.857\n",
            "           Adjusted R²    0.823\n",
            "           F-statistic    25.06\n",
            "   F-statistic p-value 1.96e-09\n",
            "                   AIC    126.0\n",
            "                   BIC    136.3\n",
            "Number of Observations       32\n"
          ]
        }
      ]
    },
    {
      "cell_type": "markdown",
      "source": [
        "### Ridge Regression"
      ],
      "metadata": {
        "id": "fjDKlnVgdJE8"
      }
    },
    {
      "cell_type": "markdown",
      "source": [
        "Using ridge regression as a complementary validation tool for OLS."
      ],
      "metadata": {
        "id": "dj1am7J9dNaB"
      }
    },
    {
      "cell_type": "markdown",
      "source": [
        "Data preparation and standardisation, using the same data as OLS."
      ],
      "metadata": {
        "id": "FIANRaH3qLcr"
      }
    },
    {
      "cell_type": "code",
      "execution_count": 39,
      "metadata": {
        "id": "aWrqCe50Bg0R"
      },
      "outputs": [],
      "source": [
        "scaler = StandardScaler()\n",
        "X_scaled = pd.DataFrame(scaler.fit_transform(X), columns=X.columns, index=X.index)"
      ]
    },
    {
      "cell_type": "markdown",
      "source": [
        "Display of data before and after standardisation."
      ],
      "metadata": {
        "id": "AMPafiXb-JSc"
      }
    },
    {
      "cell_type": "code",
      "source": [
        "print(\"1. Description of data before standardisation:\")\n",
        "print(X.describe().round(2))\n",
        "print(\"\\nDescription of data after standardisation:\")\n",
        "print(X_scaled.describe().round(2))"
      ],
      "metadata": {
        "colab": {
          "base_uri": "https://localhost:8080/",
          "height": 0
        },
        "id": "3hOw2dZi-IEh",
        "outputId": "c40e7133-5344-473f-821a-115c97892fec"
      },
      "execution_count": 40,
      "outputs": [
        {
          "output_type": "stream",
          "name": "stdout",
          "text": [
            "1. Description of data before standardisation:\n",
            "       IMD_Avg_Score  non_working_proportion  non_white_proportion  \\\n",
            "count          32.00                   32.00                 32.00   \n",
            "mean           21.50                   53.92                 44.88   \n",
            "std             6.05                    9.63                 12.79   \n",
            "min             9.43                   36.88                 19.50   \n",
            "25%            16.53                   46.32                 36.67   \n",
            "50%            21.90                   53.47                 44.90   \n",
            "75%            25.79                   60.86                 52.62   \n",
            "max            32.77                   70.58                 69.20   \n",
            "\n",
            "       Fast_Food_Density  percent_green  population_density_ha  \n",
            "count              32.00          32.00                  32.00  \n",
            "mean                3.93          44.80                  77.81  \n",
            "std                 3.66          11.01                  41.81  \n",
            "min                 0.30          25.38                  22.00  \n",
            "25%                 1.42          38.51                  46.75  \n",
            "50%                 2.37          43.41                  61.00  \n",
            "75%                 5.95          53.11                 111.25  \n",
            "max                15.52          68.36                 168.00  \n",
            "\n",
            "Description of data after standardisation:\n",
            "       IMD_Avg_Score  non_working_proportion  non_white_proportion  \\\n",
            "count          32.00                   32.00                 32.00   \n",
            "mean            0.00                   -0.00                 -0.00   \n",
            "std             1.02                    1.02                  1.02   \n",
            "min            -2.03                   -1.80                 -2.02   \n",
            "25%            -0.83                   -0.80                 -0.65   \n",
            "50%             0.07                   -0.05                  0.00   \n",
            "75%             0.72                    0.73                  0.62   \n",
            "max             1.89                    1.76                  1.93   \n",
            "\n",
            "       Fast_Food_Density  percent_green  population_density_ha  \n",
            "count              32.00          32.00                  32.00  \n",
            "mean                0.00           0.00                  -0.00  \n",
            "std                 1.02           1.02                   1.02  \n",
            "min                -1.01          -1.79                  -1.36  \n",
            "25%                -0.70          -0.58                  -0.75  \n",
            "50%                -0.43          -0.13                  -0.41  \n",
            "75%                 0.56           0.77                   0.81  \n",
            "max                 3.22           2.17                   2.19  \n"
          ]
        }
      ]
    },
    {
      "cell_type": "markdown",
      "source": [
        "Use cross-validation to select the best alpha"
      ],
      "metadata": {
        "id": "aEUZ7LkQ3e6z"
      }
    },
    {
      "cell_type": "code",
      "source": [
        "alphas = np.logspace(-3, 3, 100)\n",
        "ridge_cv = RidgeCV(alphas=alphas, cv=5, scoring='r2')\n",
        "ridge_cv.fit(X_scaled, y)\n",
        "print(f\"\\n2. Best alpha for cross-validated selection: {ridge_cv.alpha_:.4f}\")"
      ],
      "metadata": {
        "colab": {
          "base_uri": "https://localhost:8080/",
          "height": 0
        },
        "id": "sBVQvwOlpx1E",
        "outputId": "addf4c0f-168b-49f5-dd05-b21409978f9b"
      },
      "execution_count": 41,
      "outputs": [
        {
          "output_type": "stream",
          "name": "stdout",
          "text": [
            "\n",
            "2. Best alpha for cross-validated selection: 8.6975\n"
          ]
        }
      ]
    },
    {
      "cell_type": "markdown",
      "source": [
        "Fitting the Ridge model using the best alpha"
      ],
      "metadata": {
        "id": "qt3dXbC_qS7p"
      }
    },
    {
      "cell_type": "code",
      "source": [
        "ridge_best = Ridge(alpha=ridge_cv.alpha_)\n",
        "ridge_best.fit(X_scaled, y)"
      ],
      "metadata": {
        "colab": {
          "base_uri": "https://localhost:8080/",
          "height": 80
        },
        "id": "jI-zGpIrqYeq",
        "outputId": "89e3c3ea-5c86-45a6-e217-1484f0bb813d"
      },
      "execution_count": 42,
      "outputs": [
        {
          "output_type": "execute_result",
          "data": {
            "text/plain": [
              "Ridge(alpha=np.float64(8.697490026177835))"
            ],
            "text/html": [
              "<style>#sk-container-id-1 {\n",
              "  /* Definition of color scheme common for light and dark mode */\n",
              "  --sklearn-color-text: #000;\n",
              "  --sklearn-color-text-muted: #666;\n",
              "  --sklearn-color-line: gray;\n",
              "  /* Definition of color scheme for unfitted estimators */\n",
              "  --sklearn-color-unfitted-level-0: #fff5e6;\n",
              "  --sklearn-color-unfitted-level-1: #f6e4d2;\n",
              "  --sklearn-color-unfitted-level-2: #ffe0b3;\n",
              "  --sklearn-color-unfitted-level-3: chocolate;\n",
              "  /* Definition of color scheme for fitted estimators */\n",
              "  --sklearn-color-fitted-level-0: #f0f8ff;\n",
              "  --sklearn-color-fitted-level-1: #d4ebff;\n",
              "  --sklearn-color-fitted-level-2: #b3dbfd;\n",
              "  --sklearn-color-fitted-level-3: cornflowerblue;\n",
              "\n",
              "  /* Specific color for light theme */\n",
              "  --sklearn-color-text-on-default-background: var(--sg-text-color, var(--theme-code-foreground, var(--jp-content-font-color1, black)));\n",
              "  --sklearn-color-background: var(--sg-background-color, var(--theme-background, var(--jp-layout-color0, white)));\n",
              "  --sklearn-color-border-box: var(--sg-text-color, var(--theme-code-foreground, var(--jp-content-font-color1, black)));\n",
              "  --sklearn-color-icon: #696969;\n",
              "\n",
              "  @media (prefers-color-scheme: dark) {\n",
              "    /* Redefinition of color scheme for dark theme */\n",
              "    --sklearn-color-text-on-default-background: var(--sg-text-color, var(--theme-code-foreground, var(--jp-content-font-color1, white)));\n",
              "    --sklearn-color-background: var(--sg-background-color, var(--theme-background, var(--jp-layout-color0, #111)));\n",
              "    --sklearn-color-border-box: var(--sg-text-color, var(--theme-code-foreground, var(--jp-content-font-color1, white)));\n",
              "    --sklearn-color-icon: #878787;\n",
              "  }\n",
              "}\n",
              "\n",
              "#sk-container-id-1 {\n",
              "  color: var(--sklearn-color-text);\n",
              "}\n",
              "\n",
              "#sk-container-id-1 pre {\n",
              "  padding: 0;\n",
              "}\n",
              "\n",
              "#sk-container-id-1 input.sk-hidden--visually {\n",
              "  border: 0;\n",
              "  clip: rect(1px 1px 1px 1px);\n",
              "  clip: rect(1px, 1px, 1px, 1px);\n",
              "  height: 1px;\n",
              "  margin: -1px;\n",
              "  overflow: hidden;\n",
              "  padding: 0;\n",
              "  position: absolute;\n",
              "  width: 1px;\n",
              "}\n",
              "\n",
              "#sk-container-id-1 div.sk-dashed-wrapped {\n",
              "  border: 1px dashed var(--sklearn-color-line);\n",
              "  margin: 0 0.4em 0.5em 0.4em;\n",
              "  box-sizing: border-box;\n",
              "  padding-bottom: 0.4em;\n",
              "  background-color: var(--sklearn-color-background);\n",
              "}\n",
              "\n",
              "#sk-container-id-1 div.sk-container {\n",
              "  /* jupyter's `normalize.less` sets `[hidden] { display: none; }`\n",
              "     but bootstrap.min.css set `[hidden] { display: none !important; }`\n",
              "     so we also need the `!important` here to be able to override the\n",
              "     default hidden behavior on the sphinx rendered scikit-learn.org.\n",
              "     See: https://github.com/scikit-learn/scikit-learn/issues/21755 */\n",
              "  display: inline-block !important;\n",
              "  position: relative;\n",
              "}\n",
              "\n",
              "#sk-container-id-1 div.sk-text-repr-fallback {\n",
              "  display: none;\n",
              "}\n",
              "\n",
              "div.sk-parallel-item,\n",
              "div.sk-serial,\n",
              "div.sk-item {\n",
              "  /* draw centered vertical line to link estimators */\n",
              "  background-image: linear-gradient(var(--sklearn-color-text-on-default-background), var(--sklearn-color-text-on-default-background));\n",
              "  background-size: 2px 100%;\n",
              "  background-repeat: no-repeat;\n",
              "  background-position: center center;\n",
              "}\n",
              "\n",
              "/* Parallel-specific style estimator block */\n",
              "\n",
              "#sk-container-id-1 div.sk-parallel-item::after {\n",
              "  content: \"\";\n",
              "  width: 100%;\n",
              "  border-bottom: 2px solid var(--sklearn-color-text-on-default-background);\n",
              "  flex-grow: 1;\n",
              "}\n",
              "\n",
              "#sk-container-id-1 div.sk-parallel {\n",
              "  display: flex;\n",
              "  align-items: stretch;\n",
              "  justify-content: center;\n",
              "  background-color: var(--sklearn-color-background);\n",
              "  position: relative;\n",
              "}\n",
              "\n",
              "#sk-container-id-1 div.sk-parallel-item {\n",
              "  display: flex;\n",
              "  flex-direction: column;\n",
              "}\n",
              "\n",
              "#sk-container-id-1 div.sk-parallel-item:first-child::after {\n",
              "  align-self: flex-end;\n",
              "  width: 50%;\n",
              "}\n",
              "\n",
              "#sk-container-id-1 div.sk-parallel-item:last-child::after {\n",
              "  align-self: flex-start;\n",
              "  width: 50%;\n",
              "}\n",
              "\n",
              "#sk-container-id-1 div.sk-parallel-item:only-child::after {\n",
              "  width: 0;\n",
              "}\n",
              "\n",
              "/* Serial-specific style estimator block */\n",
              "\n",
              "#sk-container-id-1 div.sk-serial {\n",
              "  display: flex;\n",
              "  flex-direction: column;\n",
              "  align-items: center;\n",
              "  background-color: var(--sklearn-color-background);\n",
              "  padding-right: 1em;\n",
              "  padding-left: 1em;\n",
              "}\n",
              "\n",
              "\n",
              "/* Toggleable style: style used for estimator/Pipeline/ColumnTransformer box that is\n",
              "clickable and can be expanded/collapsed.\n",
              "- Pipeline and ColumnTransformer use this feature and define the default style\n",
              "- Estimators will overwrite some part of the style using the `sk-estimator` class\n",
              "*/\n",
              "\n",
              "/* Pipeline and ColumnTransformer style (default) */\n",
              "\n",
              "#sk-container-id-1 div.sk-toggleable {\n",
              "  /* Default theme specific background. It is overwritten whether we have a\n",
              "  specific estimator or a Pipeline/ColumnTransformer */\n",
              "  background-color: var(--sklearn-color-background);\n",
              "}\n",
              "\n",
              "/* Toggleable label */\n",
              "#sk-container-id-1 label.sk-toggleable__label {\n",
              "  cursor: pointer;\n",
              "  display: flex;\n",
              "  width: 100%;\n",
              "  margin-bottom: 0;\n",
              "  padding: 0.5em;\n",
              "  box-sizing: border-box;\n",
              "  text-align: center;\n",
              "  align-items: start;\n",
              "  justify-content: space-between;\n",
              "  gap: 0.5em;\n",
              "}\n",
              "\n",
              "#sk-container-id-1 label.sk-toggleable__label .caption {\n",
              "  font-size: 0.6rem;\n",
              "  font-weight: lighter;\n",
              "  color: var(--sklearn-color-text-muted);\n",
              "}\n",
              "\n",
              "#sk-container-id-1 label.sk-toggleable__label-arrow:before {\n",
              "  /* Arrow on the left of the label */\n",
              "  content: \"▸\";\n",
              "  float: left;\n",
              "  margin-right: 0.25em;\n",
              "  color: var(--sklearn-color-icon);\n",
              "}\n",
              "\n",
              "#sk-container-id-1 label.sk-toggleable__label-arrow:hover:before {\n",
              "  color: var(--sklearn-color-text);\n",
              "}\n",
              "\n",
              "/* Toggleable content - dropdown */\n",
              "\n",
              "#sk-container-id-1 div.sk-toggleable__content {\n",
              "  max-height: 0;\n",
              "  max-width: 0;\n",
              "  overflow: hidden;\n",
              "  text-align: left;\n",
              "  /* unfitted */\n",
              "  background-color: var(--sklearn-color-unfitted-level-0);\n",
              "}\n",
              "\n",
              "#sk-container-id-1 div.sk-toggleable__content.fitted {\n",
              "  /* fitted */\n",
              "  background-color: var(--sklearn-color-fitted-level-0);\n",
              "}\n",
              "\n",
              "#sk-container-id-1 div.sk-toggleable__content pre {\n",
              "  margin: 0.2em;\n",
              "  border-radius: 0.25em;\n",
              "  color: var(--sklearn-color-text);\n",
              "  /* unfitted */\n",
              "  background-color: var(--sklearn-color-unfitted-level-0);\n",
              "}\n",
              "\n",
              "#sk-container-id-1 div.sk-toggleable__content.fitted pre {\n",
              "  /* unfitted */\n",
              "  background-color: var(--sklearn-color-fitted-level-0);\n",
              "}\n",
              "\n",
              "#sk-container-id-1 input.sk-toggleable__control:checked~div.sk-toggleable__content {\n",
              "  /* Expand drop-down */\n",
              "  max-height: 200px;\n",
              "  max-width: 100%;\n",
              "  overflow: auto;\n",
              "}\n",
              "\n",
              "#sk-container-id-1 input.sk-toggleable__control:checked~label.sk-toggleable__label-arrow:before {\n",
              "  content: \"▾\";\n",
              "}\n",
              "\n",
              "/* Pipeline/ColumnTransformer-specific style */\n",
              "\n",
              "#sk-container-id-1 div.sk-label input.sk-toggleable__control:checked~label.sk-toggleable__label {\n",
              "  color: var(--sklearn-color-text);\n",
              "  background-color: var(--sklearn-color-unfitted-level-2);\n",
              "}\n",
              "\n",
              "#sk-container-id-1 div.sk-label.fitted input.sk-toggleable__control:checked~label.sk-toggleable__label {\n",
              "  background-color: var(--sklearn-color-fitted-level-2);\n",
              "}\n",
              "\n",
              "/* Estimator-specific style */\n",
              "\n",
              "/* Colorize estimator box */\n",
              "#sk-container-id-1 div.sk-estimator input.sk-toggleable__control:checked~label.sk-toggleable__label {\n",
              "  /* unfitted */\n",
              "  background-color: var(--sklearn-color-unfitted-level-2);\n",
              "}\n",
              "\n",
              "#sk-container-id-1 div.sk-estimator.fitted input.sk-toggleable__control:checked~label.sk-toggleable__label {\n",
              "  /* fitted */\n",
              "  background-color: var(--sklearn-color-fitted-level-2);\n",
              "}\n",
              "\n",
              "#sk-container-id-1 div.sk-label label.sk-toggleable__label,\n",
              "#sk-container-id-1 div.sk-label label {\n",
              "  /* The background is the default theme color */\n",
              "  color: var(--sklearn-color-text-on-default-background);\n",
              "}\n",
              "\n",
              "/* On hover, darken the color of the background */\n",
              "#sk-container-id-1 div.sk-label:hover label.sk-toggleable__label {\n",
              "  color: var(--sklearn-color-text);\n",
              "  background-color: var(--sklearn-color-unfitted-level-2);\n",
              "}\n",
              "\n",
              "/* Label box, darken color on hover, fitted */\n",
              "#sk-container-id-1 div.sk-label.fitted:hover label.sk-toggleable__label.fitted {\n",
              "  color: var(--sklearn-color-text);\n",
              "  background-color: var(--sklearn-color-fitted-level-2);\n",
              "}\n",
              "\n",
              "/* Estimator label */\n",
              "\n",
              "#sk-container-id-1 div.sk-label label {\n",
              "  font-family: monospace;\n",
              "  font-weight: bold;\n",
              "  display: inline-block;\n",
              "  line-height: 1.2em;\n",
              "}\n",
              "\n",
              "#sk-container-id-1 div.sk-label-container {\n",
              "  text-align: center;\n",
              "}\n",
              "\n",
              "/* Estimator-specific */\n",
              "#sk-container-id-1 div.sk-estimator {\n",
              "  font-family: monospace;\n",
              "  border: 1px dotted var(--sklearn-color-border-box);\n",
              "  border-radius: 0.25em;\n",
              "  box-sizing: border-box;\n",
              "  margin-bottom: 0.5em;\n",
              "  /* unfitted */\n",
              "  background-color: var(--sklearn-color-unfitted-level-0);\n",
              "}\n",
              "\n",
              "#sk-container-id-1 div.sk-estimator.fitted {\n",
              "  /* fitted */\n",
              "  background-color: var(--sklearn-color-fitted-level-0);\n",
              "}\n",
              "\n",
              "/* on hover */\n",
              "#sk-container-id-1 div.sk-estimator:hover {\n",
              "  /* unfitted */\n",
              "  background-color: var(--sklearn-color-unfitted-level-2);\n",
              "}\n",
              "\n",
              "#sk-container-id-1 div.sk-estimator.fitted:hover {\n",
              "  /* fitted */\n",
              "  background-color: var(--sklearn-color-fitted-level-2);\n",
              "}\n",
              "\n",
              "/* Specification for estimator info (e.g. \"i\" and \"?\") */\n",
              "\n",
              "/* Common style for \"i\" and \"?\" */\n",
              "\n",
              ".sk-estimator-doc-link,\n",
              "a:link.sk-estimator-doc-link,\n",
              "a:visited.sk-estimator-doc-link {\n",
              "  float: right;\n",
              "  font-size: smaller;\n",
              "  line-height: 1em;\n",
              "  font-family: monospace;\n",
              "  background-color: var(--sklearn-color-background);\n",
              "  border-radius: 1em;\n",
              "  height: 1em;\n",
              "  width: 1em;\n",
              "  text-decoration: none !important;\n",
              "  margin-left: 0.5em;\n",
              "  text-align: center;\n",
              "  /* unfitted */\n",
              "  border: var(--sklearn-color-unfitted-level-1) 1pt solid;\n",
              "  color: var(--sklearn-color-unfitted-level-1);\n",
              "}\n",
              "\n",
              ".sk-estimator-doc-link.fitted,\n",
              "a:link.sk-estimator-doc-link.fitted,\n",
              "a:visited.sk-estimator-doc-link.fitted {\n",
              "  /* fitted */\n",
              "  border: var(--sklearn-color-fitted-level-1) 1pt solid;\n",
              "  color: var(--sklearn-color-fitted-level-1);\n",
              "}\n",
              "\n",
              "/* On hover */\n",
              "div.sk-estimator:hover .sk-estimator-doc-link:hover,\n",
              ".sk-estimator-doc-link:hover,\n",
              "div.sk-label-container:hover .sk-estimator-doc-link:hover,\n",
              ".sk-estimator-doc-link:hover {\n",
              "  /* unfitted */\n",
              "  background-color: var(--sklearn-color-unfitted-level-3);\n",
              "  color: var(--sklearn-color-background);\n",
              "  text-decoration: none;\n",
              "}\n",
              "\n",
              "div.sk-estimator.fitted:hover .sk-estimator-doc-link.fitted:hover,\n",
              ".sk-estimator-doc-link.fitted:hover,\n",
              "div.sk-label-container:hover .sk-estimator-doc-link.fitted:hover,\n",
              ".sk-estimator-doc-link.fitted:hover {\n",
              "  /* fitted */\n",
              "  background-color: var(--sklearn-color-fitted-level-3);\n",
              "  color: var(--sklearn-color-background);\n",
              "  text-decoration: none;\n",
              "}\n",
              "\n",
              "/* Span, style for the box shown on hovering the info icon */\n",
              ".sk-estimator-doc-link span {\n",
              "  display: none;\n",
              "  z-index: 9999;\n",
              "  position: relative;\n",
              "  font-weight: normal;\n",
              "  right: .2ex;\n",
              "  padding: .5ex;\n",
              "  margin: .5ex;\n",
              "  width: min-content;\n",
              "  min-width: 20ex;\n",
              "  max-width: 50ex;\n",
              "  color: var(--sklearn-color-text);\n",
              "  box-shadow: 2pt 2pt 4pt #999;\n",
              "  /* unfitted */\n",
              "  background: var(--sklearn-color-unfitted-level-0);\n",
              "  border: .5pt solid var(--sklearn-color-unfitted-level-3);\n",
              "}\n",
              "\n",
              ".sk-estimator-doc-link.fitted span {\n",
              "  /* fitted */\n",
              "  background: var(--sklearn-color-fitted-level-0);\n",
              "  border: var(--sklearn-color-fitted-level-3);\n",
              "}\n",
              "\n",
              ".sk-estimator-doc-link:hover span {\n",
              "  display: block;\n",
              "}\n",
              "\n",
              "/* \"?\"-specific style due to the `<a>` HTML tag */\n",
              "\n",
              "#sk-container-id-1 a.estimator_doc_link {\n",
              "  float: right;\n",
              "  font-size: 1rem;\n",
              "  line-height: 1em;\n",
              "  font-family: monospace;\n",
              "  background-color: var(--sklearn-color-background);\n",
              "  border-radius: 1rem;\n",
              "  height: 1rem;\n",
              "  width: 1rem;\n",
              "  text-decoration: none;\n",
              "  /* unfitted */\n",
              "  color: var(--sklearn-color-unfitted-level-1);\n",
              "  border: var(--sklearn-color-unfitted-level-1) 1pt solid;\n",
              "}\n",
              "\n",
              "#sk-container-id-1 a.estimator_doc_link.fitted {\n",
              "  /* fitted */\n",
              "  border: var(--sklearn-color-fitted-level-1) 1pt solid;\n",
              "  color: var(--sklearn-color-fitted-level-1);\n",
              "}\n",
              "\n",
              "/* On hover */\n",
              "#sk-container-id-1 a.estimator_doc_link:hover {\n",
              "  /* unfitted */\n",
              "  background-color: var(--sklearn-color-unfitted-level-3);\n",
              "  color: var(--sklearn-color-background);\n",
              "  text-decoration: none;\n",
              "}\n",
              "\n",
              "#sk-container-id-1 a.estimator_doc_link.fitted:hover {\n",
              "  /* fitted */\n",
              "  background-color: var(--sklearn-color-fitted-level-3);\n",
              "}\n",
              "</style><div id=\"sk-container-id-1\" class=\"sk-top-container\"><div class=\"sk-text-repr-fallback\"><pre>Ridge(alpha=np.float64(8.697490026177835))</pre><b>In a Jupyter environment, please rerun this cell to show the HTML representation or trust the notebook. <br />On GitHub, the HTML representation is unable to render, please try loading this page with nbviewer.org.</b></div><div class=\"sk-container\" hidden><div class=\"sk-item\"><div class=\"sk-estimator fitted sk-toggleable\"><input class=\"sk-toggleable__control sk-hidden--visually\" id=\"sk-estimator-id-1\" type=\"checkbox\" checked><label for=\"sk-estimator-id-1\" class=\"sk-toggleable__label fitted sk-toggleable__label-arrow\"><div><div>Ridge</div></div><div><a class=\"sk-estimator-doc-link fitted\" rel=\"noreferrer\" target=\"_blank\" href=\"https://scikit-learn.org/1.6/modules/generated/sklearn.linear_model.Ridge.html\">?<span>Documentation for Ridge</span></a><span class=\"sk-estimator-doc-link fitted\">i<span>Fitted</span></span></div></label><div class=\"sk-toggleable__content fitted\"><pre>Ridge(alpha=np.float64(8.697490026177835))</pre></div> </div></div></div></div>"
            ]
          },
          "metadata": {},
          "execution_count": 42
        }
      ]
    },
    {
      "cell_type": "markdown",
      "source": [
        "The regularisation strength is determined (α = 8.6975) and some penalty is needed to shrink the coefficients."
      ],
      "metadata": {
        "id": "HfB5b78Ds579"
      }
    },
    {
      "cell_type": "markdown",
      "source": [
        "Generate a table of coefficient comparisons (OLS vs Ridge) to convert the ridge regression coefficients back to the original scale for comparison."
      ],
      "metadata": {
        "id": "_SsuVxZTqgGa"
      }
    },
    {
      "cell_type": "code",
      "source": [
        "ridge_coef_original = ridge_best.coef_ / scaler.scale_\n",
        "coef_comparison = pd.DataFrame({\n",
        "    'Variable': X.columns,\n",
        "    'OLS_Coefficient': model.params[1:].values,\n",
        "    'Ridge_Coefficient': ridge_coef_original\n",
        "})\n",
        "\n",
        "print(\"\\n3. Comparison of OLS and ridge regression coefficients:\")\n",
        "print(coef_comparison.round(4))"
      ],
      "metadata": {
        "colab": {
          "base_uri": "https://localhost:8080/",
          "height": 0
        },
        "id": "xmPQDhwwqcaa",
        "outputId": "9d095972-03e0-4c20-ae29-7770c83edace"
      },
      "execution_count": 43,
      "outputs": [
        {
          "output_type": "stream",
          "name": "stdout",
          "text": [
            "\n",
            "3. Comparison of OLS and ridge regression coefficients:\n",
            "                 Variable  OLS_Coefficient  Ridge_Coefficient\n",
            "0           IMD_Avg_Score           0.5327             0.3204\n",
            "1  non_working_proportion           0.0950             0.0681\n",
            "2    non_white_proportion           0.0232             0.0645\n",
            "3       Fast_Food_Density           0.3174            -0.0067\n",
            "4           percent_green          -0.0844            -0.0421\n",
            "5   population_density_ha          -0.0692            -0.0141\n"
          ]
        }
      ]
    },
    {
      "cell_type": "markdown",
      "source": [
        "Checking directional consistency"
      ],
      "metadata": {
        "id": "7SAH1pE6qi1x"
      }
    },
    {
      "cell_type": "code",
      "source": [
        "coef_comparison['Direction_Consistent'] = np.sign(coef_comparison['OLS_Coefficient']) == np.sign(coef_comparison['Ridge_Coefficient'])\n",
        "direction_consistency_rate = coef_comparison['Direction_Consistent'].mean() * 100\n",
        "\n",
        "print(\"\\n4. Coefficient Direction Consistency Analysis:\")\n",
        "print(f\"Number of variables with consistent direction: {coef_comparison['Direction_Consistent'].sum()}/{len(coef_comparison)}\")\n",
        "print(f\"Direction consistency rate: {direction_consistency_rate:.1f}%\")"
      ],
      "metadata": {
        "colab": {
          "base_uri": "https://localhost:8080/",
          "height": 0
        },
        "id": "CLzMhxNUqlPb",
        "outputId": "3453b7da-7b6a-4ca6-d28f-964ec222af4f"
      },
      "execution_count": 44,
      "outputs": [
        {
          "output_type": "stream",
          "name": "stdout",
          "text": [
            "\n",
            "4. Coefficient Direction Consistency Analysis:\n",
            "Number of variables with consistent direction: 5/6\n",
            "Direction consistency rate: 83.3%\n"
          ]
        }
      ]
    },
    {
      "cell_type": "markdown",
      "source": [
        "Cross-validation R² evaluation"
      ],
      "metadata": {
        "id": "DV2HrAyXsWpZ"
      }
    },
    {
      "cell_type": "code",
      "source": [
        "cv_scores = cross_val_score(ridge_best, X_scaled, y, cv=5, scoring='r2')\n",
        "cv_r2_mean = cv_scores.mean()\n",
        "cv_r2_std = cv_scores.std()\n",
        "\n",
        "print(f\"\\n5. Cross-Validation Results:\")\n",
        "print(f\"Mean R²: {cv_r2_mean:.4f} (+/- {cv_r2_std * 2:.4f})\")"
      ],
      "metadata": {
        "colab": {
          "base_uri": "https://localhost:8080/",
          "height": 0
        },
        "id": "p1vYNUZaqv6g",
        "outputId": "41628709-9170-4cb9-9e59-183d9c7be106"
      },
      "execution_count": 45,
      "outputs": [
        {
          "output_type": "stream",
          "name": "stdout",
          "text": [
            "\n",
            "5. Cross-Validation Results:\n",
            "Mean R²: 0.5243 (+/- 0.3432)\n"
          ]
        }
      ]
    },
    {
      "cell_type": "markdown",
      "source": [
        "Calculation of ridge regression model performance metrics"
      ],
      "metadata": {
        "id": "IzqqDxNhsbqu"
      }
    },
    {
      "cell_type": "code",
      "source": [
        "y_pred_ridge = ridge_best.predict(X_scaled)\n",
        "ridge_r2 = r2_score(y, y_pred_ridge)\n",
        "ridge_rmse = np.sqrt(mean_squared_error(y, y_pred_ridge))"
      ],
      "metadata": {
        "id": "XgcMMtMzsgVj"
      },
      "execution_count": 46,
      "outputs": []
    },
    {
      "cell_type": "code",
      "source": [
        "summary_results = pd.DataFrame({\n",
        "    'Metric': ['Best Alpha', 'R²', 'RMSE', 'CV Mean R²', 'Direction Consistency (%)'],\n",
        "    'Value': [\n",
        "        f\"{ridge_cv.alpha_:.4f}\",\n",
        "        f\"{ridge_r2:.4f}\",\n",
        "        f\"{ridge_rmse:.4f}\",\n",
        "        f\"{cv_r2_mean:.4f}\",\n",
        "        f\"{direction_consistency_rate:.1f}\"\n",
        "    ]\n",
        "})\n",
        "\n",
        "print(\"\\n6. Summary of results from ridge regression analysis:\")\n",
        "print(summary_results.to_string(index=False))"
      ],
      "metadata": {
        "colab": {
          "base_uri": "https://localhost:8080/",
          "height": 0
        },
        "id": "OlOGqBSvskPY",
        "outputId": "7c33b68c-8a93-42f6-8b42-97ef63f95287"
      },
      "execution_count": 47,
      "outputs": [
        {
          "output_type": "stream",
          "name": "stdout",
          "text": [
            "\n",
            "6. Summary of results from ridge regression analysis:\n",
            "                   Metric  Value\n",
            "               Best Alpha 8.6975\n",
            "                       R² 0.7845\n",
            "                     RMSE 1.7125\n",
            "               CV Mean R² 0.5243\n",
            "Direction Consistency (%)   83.3\n"
          ]
        }
      ]
    },
    {
      "cell_type": "markdown",
      "source": [
        "### Random Forest"
      ],
      "metadata": {
        "id": "GnbGAQffj16b"
      }
    },
    {
      "cell_type": "markdown",
      "source": [
        "Random forests were used as a validation variable importance to assist the OLS analysis."
      ],
      "metadata": {
        "id": "DslHwufp42QA"
      }
    },
    {
      "cell_type": "markdown",
      "source": [
        "Ensure that arrays are used properly."
      ],
      "metadata": {
        "id": "Mke8qy3u4bBS"
      }
    },
    {
      "cell_type": "code",
      "source": [
        "if not hasattr(y, 'shape') or (hasattr(y, 'shape') and len(y.shape) == 0) or (hasattr(y, 'shape') and y.shape[0] == 1):\n",
        "    print(\"Detected an issue with the format of y. Re-extracting data...\")\n",
        "    # Redefine variables\n",
        "    X_cols = ['IMD_Avg_Score', 'non_working_proportion', 'non_white_proportion',\n",
        "              'Fast_Food_Density', 'percent_green', 'population_density_ha']\n",
        "    y_col = 'Year6_Obesity_Prevalence_2018-19'\n",
        "\n",
        "    # Re-extract X and y\n",
        "    X = regression_data[X_cols]\n",
        "    y = regression_data[y_col]\n",
        "else:\n",
        "    print(\"Using the existing X and y variables.\")\n",
        "\n",
        "# Verify data\n",
        "print(f\"Shape of X: {X.shape}\")\n",
        "print(f\"Shape of y: {y.shape}\")\n",
        "print(f\"Number of samples: {X.shape[0]}\")\n",
        "print(f\"Number of features: {X.shape[1]}\")"
      ],
      "metadata": {
        "colab": {
          "base_uri": "https://localhost:8080/",
          "height": 0
        },
        "id": "eS6E--Hh3wmE",
        "outputId": "197937bb-cbd9-4195-db9d-73849ab13476"
      },
      "execution_count": 48,
      "outputs": [
        {
          "output_type": "stream",
          "name": "stdout",
          "text": [
            "Using the existing X and y variables.\n",
            "Shape of X: (32, 6)\n",
            "Shape of y: (32,)\n",
            "Number of samples: 32\n",
            "Number of features: 6\n"
          ]
        }
      ]
    },
    {
      "cell_type": "markdown",
      "source": [
        "A Random Forest regressor with 500 trees was constructed to assess the relative importance of explanatory variables."
      ],
      "metadata": {
        "id": "EXcqlqHW49UX"
      }
    },
    {
      "cell_type": "code",
      "execution_count": 49,
      "metadata": {
        "id": "SDA5_i2YBg0S"
      },
      "outputs": [],
      "source": [
        "rf_model = RandomForestRegressor(\n",
        "    n_estimators=500,\n",
        "    random_state=0,\n",
        "    n_jobs=-1\n",
        ")"
      ]
    },
    {
      "cell_type": "markdown",
      "source": [
        "fit the model"
      ],
      "metadata": {
        "id": "AMKAASdU5Hz0"
      }
    },
    {
      "cell_type": "code",
      "source": [
        "rf_model.fit(X, y)"
      ],
      "metadata": {
        "colab": {
          "base_uri": "https://localhost:8080/",
          "height": 80
        },
        "id": "LA9Y6aJR5K8_",
        "outputId": "fa53ce45-837f-41a3-97ea-023ee6654361"
      },
      "execution_count": 50,
      "outputs": [
        {
          "output_type": "execute_result",
          "data": {
            "text/plain": [
              "RandomForestRegressor(n_estimators=500, n_jobs=-1, random_state=0)"
            ],
            "text/html": [
              "<style>#sk-container-id-2 {\n",
              "  /* Definition of color scheme common for light and dark mode */\n",
              "  --sklearn-color-text: #000;\n",
              "  --sklearn-color-text-muted: #666;\n",
              "  --sklearn-color-line: gray;\n",
              "  /* Definition of color scheme for unfitted estimators */\n",
              "  --sklearn-color-unfitted-level-0: #fff5e6;\n",
              "  --sklearn-color-unfitted-level-1: #f6e4d2;\n",
              "  --sklearn-color-unfitted-level-2: #ffe0b3;\n",
              "  --sklearn-color-unfitted-level-3: chocolate;\n",
              "  /* Definition of color scheme for fitted estimators */\n",
              "  --sklearn-color-fitted-level-0: #f0f8ff;\n",
              "  --sklearn-color-fitted-level-1: #d4ebff;\n",
              "  --sklearn-color-fitted-level-2: #b3dbfd;\n",
              "  --sklearn-color-fitted-level-3: cornflowerblue;\n",
              "\n",
              "  /* Specific color for light theme */\n",
              "  --sklearn-color-text-on-default-background: var(--sg-text-color, var(--theme-code-foreground, var(--jp-content-font-color1, black)));\n",
              "  --sklearn-color-background: var(--sg-background-color, var(--theme-background, var(--jp-layout-color0, white)));\n",
              "  --sklearn-color-border-box: var(--sg-text-color, var(--theme-code-foreground, var(--jp-content-font-color1, black)));\n",
              "  --sklearn-color-icon: #696969;\n",
              "\n",
              "  @media (prefers-color-scheme: dark) {\n",
              "    /* Redefinition of color scheme for dark theme */\n",
              "    --sklearn-color-text-on-default-background: var(--sg-text-color, var(--theme-code-foreground, var(--jp-content-font-color1, white)));\n",
              "    --sklearn-color-background: var(--sg-background-color, var(--theme-background, var(--jp-layout-color0, #111)));\n",
              "    --sklearn-color-border-box: var(--sg-text-color, var(--theme-code-foreground, var(--jp-content-font-color1, white)));\n",
              "    --sklearn-color-icon: #878787;\n",
              "  }\n",
              "}\n",
              "\n",
              "#sk-container-id-2 {\n",
              "  color: var(--sklearn-color-text);\n",
              "}\n",
              "\n",
              "#sk-container-id-2 pre {\n",
              "  padding: 0;\n",
              "}\n",
              "\n",
              "#sk-container-id-2 input.sk-hidden--visually {\n",
              "  border: 0;\n",
              "  clip: rect(1px 1px 1px 1px);\n",
              "  clip: rect(1px, 1px, 1px, 1px);\n",
              "  height: 1px;\n",
              "  margin: -1px;\n",
              "  overflow: hidden;\n",
              "  padding: 0;\n",
              "  position: absolute;\n",
              "  width: 1px;\n",
              "}\n",
              "\n",
              "#sk-container-id-2 div.sk-dashed-wrapped {\n",
              "  border: 1px dashed var(--sklearn-color-line);\n",
              "  margin: 0 0.4em 0.5em 0.4em;\n",
              "  box-sizing: border-box;\n",
              "  padding-bottom: 0.4em;\n",
              "  background-color: var(--sklearn-color-background);\n",
              "}\n",
              "\n",
              "#sk-container-id-2 div.sk-container {\n",
              "  /* jupyter's `normalize.less` sets `[hidden] { display: none; }`\n",
              "     but bootstrap.min.css set `[hidden] { display: none !important; }`\n",
              "     so we also need the `!important` here to be able to override the\n",
              "     default hidden behavior on the sphinx rendered scikit-learn.org.\n",
              "     See: https://github.com/scikit-learn/scikit-learn/issues/21755 */\n",
              "  display: inline-block !important;\n",
              "  position: relative;\n",
              "}\n",
              "\n",
              "#sk-container-id-2 div.sk-text-repr-fallback {\n",
              "  display: none;\n",
              "}\n",
              "\n",
              "div.sk-parallel-item,\n",
              "div.sk-serial,\n",
              "div.sk-item {\n",
              "  /* draw centered vertical line to link estimators */\n",
              "  background-image: linear-gradient(var(--sklearn-color-text-on-default-background), var(--sklearn-color-text-on-default-background));\n",
              "  background-size: 2px 100%;\n",
              "  background-repeat: no-repeat;\n",
              "  background-position: center center;\n",
              "}\n",
              "\n",
              "/* Parallel-specific style estimator block */\n",
              "\n",
              "#sk-container-id-2 div.sk-parallel-item::after {\n",
              "  content: \"\";\n",
              "  width: 100%;\n",
              "  border-bottom: 2px solid var(--sklearn-color-text-on-default-background);\n",
              "  flex-grow: 1;\n",
              "}\n",
              "\n",
              "#sk-container-id-2 div.sk-parallel {\n",
              "  display: flex;\n",
              "  align-items: stretch;\n",
              "  justify-content: center;\n",
              "  background-color: var(--sklearn-color-background);\n",
              "  position: relative;\n",
              "}\n",
              "\n",
              "#sk-container-id-2 div.sk-parallel-item {\n",
              "  display: flex;\n",
              "  flex-direction: column;\n",
              "}\n",
              "\n",
              "#sk-container-id-2 div.sk-parallel-item:first-child::after {\n",
              "  align-self: flex-end;\n",
              "  width: 50%;\n",
              "}\n",
              "\n",
              "#sk-container-id-2 div.sk-parallel-item:last-child::after {\n",
              "  align-self: flex-start;\n",
              "  width: 50%;\n",
              "}\n",
              "\n",
              "#sk-container-id-2 div.sk-parallel-item:only-child::after {\n",
              "  width: 0;\n",
              "}\n",
              "\n",
              "/* Serial-specific style estimator block */\n",
              "\n",
              "#sk-container-id-2 div.sk-serial {\n",
              "  display: flex;\n",
              "  flex-direction: column;\n",
              "  align-items: center;\n",
              "  background-color: var(--sklearn-color-background);\n",
              "  padding-right: 1em;\n",
              "  padding-left: 1em;\n",
              "}\n",
              "\n",
              "\n",
              "/* Toggleable style: style used for estimator/Pipeline/ColumnTransformer box that is\n",
              "clickable and can be expanded/collapsed.\n",
              "- Pipeline and ColumnTransformer use this feature and define the default style\n",
              "- Estimators will overwrite some part of the style using the `sk-estimator` class\n",
              "*/\n",
              "\n",
              "/* Pipeline and ColumnTransformer style (default) */\n",
              "\n",
              "#sk-container-id-2 div.sk-toggleable {\n",
              "  /* Default theme specific background. It is overwritten whether we have a\n",
              "  specific estimator or a Pipeline/ColumnTransformer */\n",
              "  background-color: var(--sklearn-color-background);\n",
              "}\n",
              "\n",
              "/* Toggleable label */\n",
              "#sk-container-id-2 label.sk-toggleable__label {\n",
              "  cursor: pointer;\n",
              "  display: flex;\n",
              "  width: 100%;\n",
              "  margin-bottom: 0;\n",
              "  padding: 0.5em;\n",
              "  box-sizing: border-box;\n",
              "  text-align: center;\n",
              "  align-items: start;\n",
              "  justify-content: space-between;\n",
              "  gap: 0.5em;\n",
              "}\n",
              "\n",
              "#sk-container-id-2 label.sk-toggleable__label .caption {\n",
              "  font-size: 0.6rem;\n",
              "  font-weight: lighter;\n",
              "  color: var(--sklearn-color-text-muted);\n",
              "}\n",
              "\n",
              "#sk-container-id-2 label.sk-toggleable__label-arrow:before {\n",
              "  /* Arrow on the left of the label */\n",
              "  content: \"▸\";\n",
              "  float: left;\n",
              "  margin-right: 0.25em;\n",
              "  color: var(--sklearn-color-icon);\n",
              "}\n",
              "\n",
              "#sk-container-id-2 label.sk-toggleable__label-arrow:hover:before {\n",
              "  color: var(--sklearn-color-text);\n",
              "}\n",
              "\n",
              "/* Toggleable content - dropdown */\n",
              "\n",
              "#sk-container-id-2 div.sk-toggleable__content {\n",
              "  max-height: 0;\n",
              "  max-width: 0;\n",
              "  overflow: hidden;\n",
              "  text-align: left;\n",
              "  /* unfitted */\n",
              "  background-color: var(--sklearn-color-unfitted-level-0);\n",
              "}\n",
              "\n",
              "#sk-container-id-2 div.sk-toggleable__content.fitted {\n",
              "  /* fitted */\n",
              "  background-color: var(--sklearn-color-fitted-level-0);\n",
              "}\n",
              "\n",
              "#sk-container-id-2 div.sk-toggleable__content pre {\n",
              "  margin: 0.2em;\n",
              "  border-radius: 0.25em;\n",
              "  color: var(--sklearn-color-text);\n",
              "  /* unfitted */\n",
              "  background-color: var(--sklearn-color-unfitted-level-0);\n",
              "}\n",
              "\n",
              "#sk-container-id-2 div.sk-toggleable__content.fitted pre {\n",
              "  /* unfitted */\n",
              "  background-color: var(--sklearn-color-fitted-level-0);\n",
              "}\n",
              "\n",
              "#sk-container-id-2 input.sk-toggleable__control:checked~div.sk-toggleable__content {\n",
              "  /* Expand drop-down */\n",
              "  max-height: 200px;\n",
              "  max-width: 100%;\n",
              "  overflow: auto;\n",
              "}\n",
              "\n",
              "#sk-container-id-2 input.sk-toggleable__control:checked~label.sk-toggleable__label-arrow:before {\n",
              "  content: \"▾\";\n",
              "}\n",
              "\n",
              "/* Pipeline/ColumnTransformer-specific style */\n",
              "\n",
              "#sk-container-id-2 div.sk-label input.sk-toggleable__control:checked~label.sk-toggleable__label {\n",
              "  color: var(--sklearn-color-text);\n",
              "  background-color: var(--sklearn-color-unfitted-level-2);\n",
              "}\n",
              "\n",
              "#sk-container-id-2 div.sk-label.fitted input.sk-toggleable__control:checked~label.sk-toggleable__label {\n",
              "  background-color: var(--sklearn-color-fitted-level-2);\n",
              "}\n",
              "\n",
              "/* Estimator-specific style */\n",
              "\n",
              "/* Colorize estimator box */\n",
              "#sk-container-id-2 div.sk-estimator input.sk-toggleable__control:checked~label.sk-toggleable__label {\n",
              "  /* unfitted */\n",
              "  background-color: var(--sklearn-color-unfitted-level-2);\n",
              "}\n",
              "\n",
              "#sk-container-id-2 div.sk-estimator.fitted input.sk-toggleable__control:checked~label.sk-toggleable__label {\n",
              "  /* fitted */\n",
              "  background-color: var(--sklearn-color-fitted-level-2);\n",
              "}\n",
              "\n",
              "#sk-container-id-2 div.sk-label label.sk-toggleable__label,\n",
              "#sk-container-id-2 div.sk-label label {\n",
              "  /* The background is the default theme color */\n",
              "  color: var(--sklearn-color-text-on-default-background);\n",
              "}\n",
              "\n",
              "/* On hover, darken the color of the background */\n",
              "#sk-container-id-2 div.sk-label:hover label.sk-toggleable__label {\n",
              "  color: var(--sklearn-color-text);\n",
              "  background-color: var(--sklearn-color-unfitted-level-2);\n",
              "}\n",
              "\n",
              "/* Label box, darken color on hover, fitted */\n",
              "#sk-container-id-2 div.sk-label.fitted:hover label.sk-toggleable__label.fitted {\n",
              "  color: var(--sklearn-color-text);\n",
              "  background-color: var(--sklearn-color-fitted-level-2);\n",
              "}\n",
              "\n",
              "/* Estimator label */\n",
              "\n",
              "#sk-container-id-2 div.sk-label label {\n",
              "  font-family: monospace;\n",
              "  font-weight: bold;\n",
              "  display: inline-block;\n",
              "  line-height: 1.2em;\n",
              "}\n",
              "\n",
              "#sk-container-id-2 div.sk-label-container {\n",
              "  text-align: center;\n",
              "}\n",
              "\n",
              "/* Estimator-specific */\n",
              "#sk-container-id-2 div.sk-estimator {\n",
              "  font-family: monospace;\n",
              "  border: 1px dotted var(--sklearn-color-border-box);\n",
              "  border-radius: 0.25em;\n",
              "  box-sizing: border-box;\n",
              "  margin-bottom: 0.5em;\n",
              "  /* unfitted */\n",
              "  background-color: var(--sklearn-color-unfitted-level-0);\n",
              "}\n",
              "\n",
              "#sk-container-id-2 div.sk-estimator.fitted {\n",
              "  /* fitted */\n",
              "  background-color: var(--sklearn-color-fitted-level-0);\n",
              "}\n",
              "\n",
              "/* on hover */\n",
              "#sk-container-id-2 div.sk-estimator:hover {\n",
              "  /* unfitted */\n",
              "  background-color: var(--sklearn-color-unfitted-level-2);\n",
              "}\n",
              "\n",
              "#sk-container-id-2 div.sk-estimator.fitted:hover {\n",
              "  /* fitted */\n",
              "  background-color: var(--sklearn-color-fitted-level-2);\n",
              "}\n",
              "\n",
              "/* Specification for estimator info (e.g. \"i\" and \"?\") */\n",
              "\n",
              "/* Common style for \"i\" and \"?\" */\n",
              "\n",
              ".sk-estimator-doc-link,\n",
              "a:link.sk-estimator-doc-link,\n",
              "a:visited.sk-estimator-doc-link {\n",
              "  float: right;\n",
              "  font-size: smaller;\n",
              "  line-height: 1em;\n",
              "  font-family: monospace;\n",
              "  background-color: var(--sklearn-color-background);\n",
              "  border-radius: 1em;\n",
              "  height: 1em;\n",
              "  width: 1em;\n",
              "  text-decoration: none !important;\n",
              "  margin-left: 0.5em;\n",
              "  text-align: center;\n",
              "  /* unfitted */\n",
              "  border: var(--sklearn-color-unfitted-level-1) 1pt solid;\n",
              "  color: var(--sklearn-color-unfitted-level-1);\n",
              "}\n",
              "\n",
              ".sk-estimator-doc-link.fitted,\n",
              "a:link.sk-estimator-doc-link.fitted,\n",
              "a:visited.sk-estimator-doc-link.fitted {\n",
              "  /* fitted */\n",
              "  border: var(--sklearn-color-fitted-level-1) 1pt solid;\n",
              "  color: var(--sklearn-color-fitted-level-1);\n",
              "}\n",
              "\n",
              "/* On hover */\n",
              "div.sk-estimator:hover .sk-estimator-doc-link:hover,\n",
              ".sk-estimator-doc-link:hover,\n",
              "div.sk-label-container:hover .sk-estimator-doc-link:hover,\n",
              ".sk-estimator-doc-link:hover {\n",
              "  /* unfitted */\n",
              "  background-color: var(--sklearn-color-unfitted-level-3);\n",
              "  color: var(--sklearn-color-background);\n",
              "  text-decoration: none;\n",
              "}\n",
              "\n",
              "div.sk-estimator.fitted:hover .sk-estimator-doc-link.fitted:hover,\n",
              ".sk-estimator-doc-link.fitted:hover,\n",
              "div.sk-label-container:hover .sk-estimator-doc-link.fitted:hover,\n",
              ".sk-estimator-doc-link.fitted:hover {\n",
              "  /* fitted */\n",
              "  background-color: var(--sklearn-color-fitted-level-3);\n",
              "  color: var(--sklearn-color-background);\n",
              "  text-decoration: none;\n",
              "}\n",
              "\n",
              "/* Span, style for the box shown on hovering the info icon */\n",
              ".sk-estimator-doc-link span {\n",
              "  display: none;\n",
              "  z-index: 9999;\n",
              "  position: relative;\n",
              "  font-weight: normal;\n",
              "  right: .2ex;\n",
              "  padding: .5ex;\n",
              "  margin: .5ex;\n",
              "  width: min-content;\n",
              "  min-width: 20ex;\n",
              "  max-width: 50ex;\n",
              "  color: var(--sklearn-color-text);\n",
              "  box-shadow: 2pt 2pt 4pt #999;\n",
              "  /* unfitted */\n",
              "  background: var(--sklearn-color-unfitted-level-0);\n",
              "  border: .5pt solid var(--sklearn-color-unfitted-level-3);\n",
              "}\n",
              "\n",
              ".sk-estimator-doc-link.fitted span {\n",
              "  /* fitted */\n",
              "  background: var(--sklearn-color-fitted-level-0);\n",
              "  border: var(--sklearn-color-fitted-level-3);\n",
              "}\n",
              "\n",
              ".sk-estimator-doc-link:hover span {\n",
              "  display: block;\n",
              "}\n",
              "\n",
              "/* \"?\"-specific style due to the `<a>` HTML tag */\n",
              "\n",
              "#sk-container-id-2 a.estimator_doc_link {\n",
              "  float: right;\n",
              "  font-size: 1rem;\n",
              "  line-height: 1em;\n",
              "  font-family: monospace;\n",
              "  background-color: var(--sklearn-color-background);\n",
              "  border-radius: 1rem;\n",
              "  height: 1rem;\n",
              "  width: 1rem;\n",
              "  text-decoration: none;\n",
              "  /* unfitted */\n",
              "  color: var(--sklearn-color-unfitted-level-1);\n",
              "  border: var(--sklearn-color-unfitted-level-1) 1pt solid;\n",
              "}\n",
              "\n",
              "#sk-container-id-2 a.estimator_doc_link.fitted {\n",
              "  /* fitted */\n",
              "  border: var(--sklearn-color-fitted-level-1) 1pt solid;\n",
              "  color: var(--sklearn-color-fitted-level-1);\n",
              "}\n",
              "\n",
              "/* On hover */\n",
              "#sk-container-id-2 a.estimator_doc_link:hover {\n",
              "  /* unfitted */\n",
              "  background-color: var(--sklearn-color-unfitted-level-3);\n",
              "  color: var(--sklearn-color-background);\n",
              "  text-decoration: none;\n",
              "}\n",
              "\n",
              "#sk-container-id-2 a.estimator_doc_link.fitted:hover {\n",
              "  /* fitted */\n",
              "  background-color: var(--sklearn-color-fitted-level-3);\n",
              "}\n",
              "</style><div id=\"sk-container-id-2\" class=\"sk-top-container\"><div class=\"sk-text-repr-fallback\"><pre>RandomForestRegressor(n_estimators=500, n_jobs=-1, random_state=0)</pre><b>In a Jupyter environment, please rerun this cell to show the HTML representation or trust the notebook. <br />On GitHub, the HTML representation is unable to render, please try loading this page with nbviewer.org.</b></div><div class=\"sk-container\" hidden><div class=\"sk-item\"><div class=\"sk-estimator fitted sk-toggleable\"><input class=\"sk-toggleable__control sk-hidden--visually\" id=\"sk-estimator-id-2\" type=\"checkbox\" checked><label for=\"sk-estimator-id-2\" class=\"sk-toggleable__label fitted sk-toggleable__label-arrow\"><div><div>RandomForestRegressor</div></div><div><a class=\"sk-estimator-doc-link fitted\" rel=\"noreferrer\" target=\"_blank\" href=\"https://scikit-learn.org/1.6/modules/generated/sklearn.ensemble.RandomForestRegressor.html\">?<span>Documentation for RandomForestRegressor</span></a><span class=\"sk-estimator-doc-link fitted\">i<span>Fitted</span></span></div></label><div class=\"sk-toggleable__content fitted\"><pre>RandomForestRegressor(n_estimators=500, n_jobs=-1, random_state=0)</pre></div> </div></div></div></div>"
            ]
          },
          "metadata": {},
          "execution_count": 50
        }
      ]
    },
    {
      "cell_type": "markdown",
      "source": [
        "Calculate and rank feature importance"
      ],
      "metadata": {
        "id": "gHWrb0MG5Nxw"
      }
    },
    {
      "cell_type": "code",
      "source": [
        "feature_importance = rf_model.feature_importances_\n",
        "importance_df = pd.DataFrame({\n",
        "    'Variable': X.columns,\n",
        "    'Importance': feature_importance\n",
        "}).sort_values('Importance', ascending=False)\n",
        "\n",
        "print(\"\\nRanking of feature importance:\")\n",
        "print(importance_df.round(4))"
      ],
      "metadata": {
        "colab": {
          "base_uri": "https://localhost:8080/",
          "height": 0
        },
        "id": "usRvc1tq5PyI",
        "outputId": "dc335fe4-eb1f-41e5-d905-895fd82f5f14"
      },
      "execution_count": 51,
      "outputs": [
        {
          "output_type": "stream",
          "name": "stdout",
          "text": [
            "\n",
            "Ranking of feature importance:\n",
            "                 Variable  Importance\n",
            "0           IMD_Avg_Score      0.6163\n",
            "2    non_white_proportion      0.1968\n",
            "1  non_working_proportion      0.0940\n",
            "3       Fast_Food_Density      0.0426\n",
            "4           percent_green      0.0289\n",
            "5   population_density_ha      0.0215\n"
          ]
        }
      ]
    },
    {
      "cell_type": "markdown",
      "source": [
        "Visualising the importance of features"
      ],
      "metadata": {
        "id": "tv1jFpUu5PRr"
      }
    },
    {
      "cell_type": "code",
      "source": [
        "plt.figure(figsize=(10, 6))\n",
        "colors = sns.color_palette(\"husl\", len(importance_df))\n",
        "\n",
        "bars = plt.barh(importance_df['Variable'][::-1],\n",
        "                importance_df['Importance'][::-1],\n",
        "                color=colors)\n",
        "\n",
        "plt.xlabel('Importance Score', fontsize=12)\n",
        "plt.title('Random Forest Feature Importance Analysis', fontsize=14)\n",
        "plt.tight_layout()\n",
        "\n",
        "# Adding numeric labels\n",
        "for i, bar in enumerate(bars):\n",
        "    width = bar.get_width()\n",
        "    plt.text(width + 0.001, bar.get_y() + bar.get_height()/2,\n",
        "             f'{width:.3f}', ha='left', va='center')\n",
        "\n",
        "plt.savefig('outputs/rf_feature_importance.png', dpi=300, bbox_inches='tight')\n",
        "plt.show()"
      ],
      "metadata": {
        "colab": {
          "base_uri": "https://localhost:8080/",
          "height": 607
        },
        "id": "kjA-fari5apd",
        "outputId": "26897dfe-81d3-47a5-a138-432e4afd8ffd"
      },
      "execution_count": 52,
      "outputs": [
        {
          "output_type": "display_data",
          "data": {
            "text/plain": [
              "<Figure size 1000x600 with 1 Axes>"
            ],
            "image/png": "[encoded data removed]"
          },
          "metadata": {}
        }
      ]
    },
    {
      "cell_type": "markdown",
      "source": [
        "Cross-validation to assess model stability"
      ],
      "metadata": {
        "id": "ppFsq3lM5dy1"
      }
    },
    {
      "cell_type": "code",
      "source": [
        "print(\"\\n5-Fold Cross-Validation Results:\")\n",
        "cv_scores = cross_val_score(rf_model, X, y, cv=5, scoring='r2')\n",
        "print(f\"Mean R²: {cv_scores.mean():.4f} (+/- {cv_scores.std() * 2:.4f})\")\n",
        "print(f\"Individual folds R²: {[round(score, 4) for score in cv_scores]}\")"
      ],
      "metadata": {
        "colab": {
          "base_uri": "https://localhost:8080/",
          "height": 0
        },
        "id": "y1bYOWik5fR9",
        "outputId": "80c88aa2-8a44-40b3-9d94-e4663fd24b03"
      },
      "execution_count": 53,
      "outputs": [
        {
          "output_type": "stream",
          "name": "stdout",
          "text": [
            "\n",
            "5-Fold Cross-Validation Results:\n",
            "Mean R²: 0.3333 (+/- 0.5458)\n",
            "Individual folds R²: [np.float64(0.5769), np.float64(0.3792), np.float64(0.6416), np.float64(-0.1022), np.float64(0.1711)]\n"
          ]
        }
      ]
    },
    {
      "cell_type": "markdown",
      "source": [
        "The average R² is only 0.333, and the model's performance fluctuates widely across folds (high standard deviation, ±0.54)"
      ],
      "metadata": {
        "id": "pGW8L2nM63zN"
      }
    },
    {
      "cell_type": "markdown",
      "source": [
        "Computational model performance metrics"
      ],
      "metadata": {
        "id": "ahauNNGI50TT"
      }
    },
    {
      "cell_type": "code",
      "source": [
        "y_pred_rf = rf_model.predict(X)\n",
        "rf_r2 = r2_score(y, y_pred_rf)\n",
        "rf_rmse = np.sqrt(mean_squared_error(y, y_pred_rf))"
      ],
      "metadata": {
        "id": "El3EK2CM514B"
      },
      "execution_count": 54,
      "outputs": []
    },
    {
      "cell_type": "code",
      "source": [
        "summary_results = pd.DataFrame({\n",
        "    'Metric': ['R²', 'RMSE', 'CV Mean R²', 'Top 3 Important Variables'],\n",
        "    'Value': [\n",
        "        f\"{rf_r2:.4f}\",\n",
        "        f\"{rf_rmse:.4f}\",\n",
        "        f\"{cv_scores.mean():.4f}\",\n",
        "        ', '.join(importance_df['Variable'].head(3).values)\n",
        "    ]\n",
        "})\n",
        "\n",
        "print(\"\\nSummary of the results of the random forest analysis:\")\n",
        "print(summary_results.to_string(index=False))"
      ],
      "metadata": {
        "colab": {
          "base_uri": "https://localhost:8080/",
          "height": 0
        },
        "id": "7yQpuF7n55um",
        "outputId": "75d18e0f-fe89-42d6-b50e-016cc659c4b2"
      },
      "execution_count": 55,
      "outputs": [
        {
          "output_type": "stream",
          "name": "stdout",
          "text": [
            "\n",
            "Summary of the results of the random forest analysis:\n",
            "                   Metric                                                       Value\n",
            "                       R²                                                      0.9615\n",
            "                     RMSE                                                      0.7241\n",
            "               CV Mean R²                                                      0.3333\n",
            "Top 3 Important Variables IMD_Avg_Score, non_white_proportion, non_working_proportion\n"
          ]
        }
      ]
    },
    {
      "cell_type": "code",
      "source": [
        "print(\"\\nKey Findings:\")\n",
        "print(f\"The most important variable is: {importance_df.iloc[0]['Variable']} (Importance: {importance_df.iloc[0]['Importance']:.3f})\")\n",
        "print(f\"The top three variables together account for {importance_df['Importance'].head(3).sum():.1%} of the total importance.\")"
      ],
      "metadata": {
        "colab": {
          "base_uri": "https://localhost:8080/",
          "height": 0
        },
        "id": "65wcUVvVJnNu",
        "outputId": "1d600a4f-8a74-428f-ad6f-793e54de3451"
      },
      "execution_count": 56,
      "outputs": [
        {
          "output_type": "stream",
          "name": "stdout",
          "text": [
            "\n",
            "Key Findings:\n",
            "The most important variable is: IMD_Avg_Score (Importance: 0.616)\n",
            "The top three variables together account for 90.7% of the total importance.\n"
          ]
        }
      ]
    },
    {
      "cell_type": "markdown",
      "metadata": {
        "id": "ArbbdweJBg0S"
      },
      "source": [
        "## Results\n",
        "\n",
        "[[ go back to the top ]](#Table-of-contents)"
      ]
    },
    {
      "cell_type": "markdown",
      "source": [
        "Moran’s I reveals significant positive spatial autocorrelation (I ≈ 0.30, p < 0.01), showing that high Year-6 obesity areas tend to cluster.\n",
        "OLS regression accounts for 86 % of variance (adj. R² = 0.823). Deprivation (IMD_Avg_Score, β ≈ 0.53, p < 0.001) is the strongest predictor, with smaller contributions from unemployment and population density; greener areas show a weak, non-significant protective trend. Yet extreme VIFs (> 30) signal serious multicollinearity.\n",
        "\n",
        "Ridge regression (best α ≈ 8.7) shrinks coefficients and stabilises the model, retaining coefficient direction for 5 / 6 variables. Fit remains respectable (R² = 0.78; mean CV R² = 0.52) but is lower than OLS, reflecting its penalty for collinearity.\n",
        "\n",
        "Random-forest analysis echoes these findings: IMD_Avg_Score captures 61.6 % of total importance, ahead of ethnic composition and unemployment. Although in-sample R² is very high (0.96), five-fold CV R² averages only 0.33, indicating over-fitting."
      ],
      "metadata": {
        "id": "zQMUZspj6_pa"
      }
    },
    {
      "cell_type": "markdown",
      "metadata": {
        "id": "oF14PBkpBg0S"
      },
      "source": [
        "## Limitations to the model\n",
        "\n",
        "[[ go back to the top ]](#Table-of-contents)"
      ]
    },
    {
      "cell_type": "markdown",
      "source": [
        "The models applied in this study still have several limitations must be noted. First, the small sample size (32 boroughs) limited statistical power and increased the risk of overfitting, particularly in the Random Forest analysis where the training R² was much higher than the cross-validation R². Second, multicollinearity among predictors, as shown by high VIF values in the OLS regression, despite mitigation through Ridge regression, may obscure true variable effects. Third, although spatial autocorrelation was detected, non-spatial models were applied, potentially biasing estimates. Finally, borough-level aggregation may mask intra-borough variations. Overall, while the findings are robust within the constraints of the available data and methods, future studies should consider larger sample sizes, spatial regression techniques, and more detailed data sources to further enhance model reliability and interpretation."
      ],
      "metadata": {
        "id": "6IefyxuIPIL3"
      }
    },
    {
      "cell_type": "markdown",
      "source": [
        "## Conclusion"
      ],
      "metadata": {
        "id": "R2tOrJS9C07Y"
      }
    },
    {
      "cell_type": "markdown",
      "source": [
        "Our analysis revealed spatial patterns of childhood obesity across London boroughs, confirmed by significant spatial autocorrelation (Moran's I = 0.2981, p = 0.0060), highlighting the need for spatial considerations. Multiple linear regression showed that poverty level (IMD_Avg_Score) had the strongest association with obesity rates, followed by workless household proportion and population density. Ridge regression stabilized estimates despite multicollinearity, and Random Forest further confirmed deprivation as the key predictor, though it showed overfitting due to the small sample size (32 boroughs). Environmental factors like fast food density and green space coverage were weakly associated across all models. Despite offering valuable insights, the study faced limitations, including small sample size, multicollinearity, use of non-spatial models, and borough-level aggregation. Future research should apply spatial regression techniques and finer-scale data to capture local variations more accurately. Addressing socioeconomic disparities remains essential to tackling spatial inequalities in childhood obesity.\n",
        "\n"
      ],
      "metadata": {
        "id": "Liv5ys9UxEOv"
      }
    },
    {
      "cell_type": "markdown",
      "metadata": {
        "id": "1v1QbBeABg0S"
      },
      "source": [
        "## References\n",
        "\n",
        "[[ go back to the top ]](#Table-of-contents)"
      ]
    },
    {
      "cell_type": "markdown",
      "source": [
        "Chalkias, C. et al. (2013) Geographical heterogeneity of the relationship between childhood obesity and socio-environmental status: Empirical evidence from Athens, Greece, online available at: [here](https://www-sciencedirect-com.libproxy.ucl.ac.uk/science/article/pii/S0143622812001087), retrieved in February, 2020.\n",
        "\n",
        "Jia, P. et al. (2017) Applications of geographic information systems (GIS) data and methods in obesity‐related research, online available at: [here](https://onlinelibrary-wiley-com.libproxy.ucl.ac.uk/doi/full/10.1111/obr.12495), retrieved on 06 February 2017.\n",
        "\n",
        "Sun, Y. et al. (2020) Spatial Patterns of Childhood Obesity Prevalence in Relation to Socioeconomic Factors across England. ISPRS international journal of geo-information, online available at: [here](https://www.proquest.com/docview/2548594879?accountid=14511&parentSessionId=4k%2FsRnzzFlnp0aaf83RYilg4tlPY6KZAW6e82FHTsWw%3D&parentSessionId=xGTicb178OyoIAqtHv09RgJ4aRusjXLJDuRM812E5ms%3D&pq-origsite=primo&sourcetype=Scholarly%20Journals), retrieved on 11 October 2020.\n",
        "\n"
      ],
      "metadata": {
        "id": "2BlL1_Yr45Uj"
      }
    },
    {
      "cell_type": "code",
      "execution_count": null,
      "metadata": {
        "id": "6yKCIbHUBg0S"
      },
      "outputs": [],
      "source": [
        "print(f\"Notebook 总运行时间: {time.time() - start_time:.2f} 秒\")"
      ]
    },
    {
      "cell_type": "code",
      "execution_count": 60,
      "metadata": {
        "id": "8pn05TwEBg0S",
        "colab": {
          "base_uri": "https://localhost:8080/",
          "height": 0
        },
        "outputId": "9792786d-0cab-40ac-8bf2-998442c37e32"
      },
      "outputs": [
        {
          "output_type": "stream",
          "name": "stdout",
          "text": [
            "Drive already mounted at /content/drive; to attempt to forcibly remount, call drive.mount(\"/content/drive\", force_remount=True).\n",
            "Markdown总字数（按空格分隔单词）: 2419\n",
            "Markdown总字符数（不含空格）: 16156\n"
          ]
        }
      ],
      "source": [
        "import nbformat\n",
        "\n",
        "# 读取当前Notebook\n",
        "from google.colab import drive\n",
        "drive.mount('/content/drive')  # 如果你的.ipynb在Google Drive，挂载一下\n",
        "path = '/content/drive/MyDrive/Colab Notebooks/Template_submission_CASA0006.ipynb'  # 改成你的.ipynb路径\n",
        "\n",
        "with open(path, 'r', encoding='utf-8') as f:\n",
        "    nb = nbformat.read(f, as_version=4)\n",
        "\n",
        "markdown_text = \"\"\n",
        "for cell in nb.cells:\n",
        "    if cell.cell_type == 'markdown':\n",
        "        markdown_text += cell.source + \" \"\n",
        "\n",
        "word_count = len(markdown_text.split())\n",
        "char_count = len(markdown_text.replace(\" \", \"\"))  # 不算空格的字符数\n",
        "\n",
        "print(f\"Markdown总字数（按空格分隔单词）: {word_count}\")\n",
        "print(f\"Markdown总字符数（不含空格）: {char_count}\")\n"
      ]
    }
  ],
  "metadata": {
    "kernelspec": {
      "display_name": "Python (base)",
      "language": "python",
      "name": "base"
    },
    "language_info": {
      "codemirror_mode": {
        "name": "ipython",
        "version": 3
      },
      "file_extension": ".py",
      "mimetype": "text/x-python",
      "name": "python",
      "nbconvert_exporter": "python",
      "pygments_lexer": "ipython3",
      "version": "3.11.9"
    },
    "colab": {
      "provenance": [],
      "toc_visible": true,
      "include_colab_link": true
    }
  },
  "nbformat": 4,
  "nbformat_minor": 0
}